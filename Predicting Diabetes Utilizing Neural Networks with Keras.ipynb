{
 "cells": [
  {
   "cell_type": "markdown",
   "id": "533dd757",
   "metadata": {},
   "source": [
    "# Predicting Diabetes Utilizing Neural Networks with Keras\n",
    "\n",
    "### Name: Joseph Willemsz\n",
    "\n",
    "### Date: May 16, 2022"
   ]
  },
  {
   "cell_type": "markdown",
   "id": "aad3ec9a",
   "metadata": {},
   "source": [
    "### **Predicting Diabetes**\n",
    "\n",
    "In this lab we'll be using a dataset from kaggle publicly available data from the Centers for Disease Control and Prevention (CDC), and in particular the Behavioral Risk Factor Surveillance System (BRFSS).\n",
    "\n",
    "Dataset: https://www.kaggle.com/datasets/alexteboul/diabetes-health-indicators-dataset?select=diabetes_binary_health_indicators_BRFSS2015.csv\n",
    "\n",
    "#### <u>Goal:</u> \n",
    "Predict diabetes (binary classification)"
   ]
  },
  {
   "cell_type": "markdown",
   "id": "6772fb2e",
   "metadata": {},
   "source": [
    "# Table of Contents:\n",
    "- [Data Preparation & Preprocessing](#import)\n",
    "- [Machine Learning Models](#models)\n",
    "- [Conclusion](#end)"
   ]
  },
  {
   "cell_type": "markdown",
   "id": "3740a0fb",
   "metadata": {},
   "source": [
    "---"
   ]
  },
  {
   "cell_type": "markdown",
   "id": "3c5c95ae",
   "metadata": {},
   "source": [
    "# Data Preparation & Pre-Processing <a class=\"anchor\" id=\"import\"></a>"
   ]
  },
  {
   "cell_type": "markdown",
   "id": "e949b9fe",
   "metadata": {},
   "source": [
    "First we import the data as `diabetes_data`."
   ]
  },
  {
   "cell_type": "code",
   "execution_count": 1,
   "id": "10894909",
   "metadata": {},
   "outputs": [
    {
     "data": {
      "text/html": [
       "<div>\n",
       "<style scoped>\n",
       "    .dataframe tbody tr th:only-of-type {\n",
       "        vertical-align: middle;\n",
       "    }\n",
       "\n",
       "    .dataframe tbody tr th {\n",
       "        vertical-align: top;\n",
       "    }\n",
       "\n",
       "    .dataframe thead th {\n",
       "        text-align: right;\n",
       "    }\n",
       "</style>\n",
       "<table border=\"1\" class=\"dataframe\">\n",
       "  <thead>\n",
       "    <tr style=\"text-align: right;\">\n",
       "      <th></th>\n",
       "      <th>diabetes_binary</th>\n",
       "      <th>highbp</th>\n",
       "      <th>highchol</th>\n",
       "      <th>cholcheck</th>\n",
       "      <th>bmi</th>\n",
       "      <th>smoker</th>\n",
       "      <th>stroke</th>\n",
       "      <th>heartdiseaseorattack</th>\n",
       "      <th>physactivity</th>\n",
       "      <th>fruits</th>\n",
       "      <th>...</th>\n",
       "      <th>anyhealthcare</th>\n",
       "      <th>nodocbccost</th>\n",
       "      <th>genhlth</th>\n",
       "      <th>menthlth</th>\n",
       "      <th>physhlth</th>\n",
       "      <th>diffwalk</th>\n",
       "      <th>sex</th>\n",
       "      <th>age</th>\n",
       "      <th>education</th>\n",
       "      <th>income</th>\n",
       "    </tr>\n",
       "  </thead>\n",
       "  <tbody>\n",
       "    <tr>\n",
       "      <th>0</th>\n",
       "      <td>0.0</td>\n",
       "      <td>1.0</td>\n",
       "      <td>0.0</td>\n",
       "      <td>1.0</td>\n",
       "      <td>26.0</td>\n",
       "      <td>0.0</td>\n",
       "      <td>0.0</td>\n",
       "      <td>0.0</td>\n",
       "      <td>1.0</td>\n",
       "      <td>0.0</td>\n",
       "      <td>...</td>\n",
       "      <td>1.0</td>\n",
       "      <td>0.0</td>\n",
       "      <td>3.0</td>\n",
       "      <td>5.0</td>\n",
       "      <td>30.0</td>\n",
       "      <td>0.0</td>\n",
       "      <td>1.0</td>\n",
       "      <td>4.0</td>\n",
       "      <td>6.0</td>\n",
       "      <td>8.0</td>\n",
       "    </tr>\n",
       "    <tr>\n",
       "      <th>1</th>\n",
       "      <td>0.0</td>\n",
       "      <td>1.0</td>\n",
       "      <td>1.0</td>\n",
       "      <td>1.0</td>\n",
       "      <td>26.0</td>\n",
       "      <td>1.0</td>\n",
       "      <td>1.0</td>\n",
       "      <td>0.0</td>\n",
       "      <td>0.0</td>\n",
       "      <td>1.0</td>\n",
       "      <td>...</td>\n",
       "      <td>1.0</td>\n",
       "      <td>0.0</td>\n",
       "      <td>3.0</td>\n",
       "      <td>0.0</td>\n",
       "      <td>0.0</td>\n",
       "      <td>0.0</td>\n",
       "      <td>1.0</td>\n",
       "      <td>12.0</td>\n",
       "      <td>6.0</td>\n",
       "      <td>8.0</td>\n",
       "    </tr>\n",
       "    <tr>\n",
       "      <th>2</th>\n",
       "      <td>0.0</td>\n",
       "      <td>0.0</td>\n",
       "      <td>0.0</td>\n",
       "      <td>1.0</td>\n",
       "      <td>26.0</td>\n",
       "      <td>0.0</td>\n",
       "      <td>0.0</td>\n",
       "      <td>0.0</td>\n",
       "      <td>1.0</td>\n",
       "      <td>1.0</td>\n",
       "      <td>...</td>\n",
       "      <td>1.0</td>\n",
       "      <td>0.0</td>\n",
       "      <td>1.0</td>\n",
       "      <td>0.0</td>\n",
       "      <td>10.0</td>\n",
       "      <td>0.0</td>\n",
       "      <td>1.0</td>\n",
       "      <td>13.0</td>\n",
       "      <td>6.0</td>\n",
       "      <td>8.0</td>\n",
       "    </tr>\n",
       "    <tr>\n",
       "      <th>3</th>\n",
       "      <td>0.0</td>\n",
       "      <td>1.0</td>\n",
       "      <td>1.0</td>\n",
       "      <td>1.0</td>\n",
       "      <td>28.0</td>\n",
       "      <td>1.0</td>\n",
       "      <td>0.0</td>\n",
       "      <td>0.0</td>\n",
       "      <td>1.0</td>\n",
       "      <td>1.0</td>\n",
       "      <td>...</td>\n",
       "      <td>1.0</td>\n",
       "      <td>0.0</td>\n",
       "      <td>3.0</td>\n",
       "      <td>0.0</td>\n",
       "      <td>3.0</td>\n",
       "      <td>0.0</td>\n",
       "      <td>1.0</td>\n",
       "      <td>11.0</td>\n",
       "      <td>6.0</td>\n",
       "      <td>8.0</td>\n",
       "    </tr>\n",
       "    <tr>\n",
       "      <th>4</th>\n",
       "      <td>0.0</td>\n",
       "      <td>0.0</td>\n",
       "      <td>0.0</td>\n",
       "      <td>1.0</td>\n",
       "      <td>29.0</td>\n",
       "      <td>1.0</td>\n",
       "      <td>0.0</td>\n",
       "      <td>0.0</td>\n",
       "      <td>1.0</td>\n",
       "      <td>1.0</td>\n",
       "      <td>...</td>\n",
       "      <td>1.0</td>\n",
       "      <td>0.0</td>\n",
       "      <td>2.0</td>\n",
       "      <td>0.0</td>\n",
       "      <td>0.0</td>\n",
       "      <td>0.0</td>\n",
       "      <td>0.0</td>\n",
       "      <td>8.0</td>\n",
       "      <td>5.0</td>\n",
       "      <td>8.0</td>\n",
       "    </tr>\n",
       "    <tr>\n",
       "      <th>...</th>\n",
       "      <td>...</td>\n",
       "      <td>...</td>\n",
       "      <td>...</td>\n",
       "      <td>...</td>\n",
       "      <td>...</td>\n",
       "      <td>...</td>\n",
       "      <td>...</td>\n",
       "      <td>...</td>\n",
       "      <td>...</td>\n",
       "      <td>...</td>\n",
       "      <td>...</td>\n",
       "      <td>...</td>\n",
       "      <td>...</td>\n",
       "      <td>...</td>\n",
       "      <td>...</td>\n",
       "      <td>...</td>\n",
       "      <td>...</td>\n",
       "      <td>...</td>\n",
       "      <td>...</td>\n",
       "      <td>...</td>\n",
       "      <td>...</td>\n",
       "    </tr>\n",
       "    <tr>\n",
       "      <th>70687</th>\n",
       "      <td>1.0</td>\n",
       "      <td>0.0</td>\n",
       "      <td>1.0</td>\n",
       "      <td>1.0</td>\n",
       "      <td>37.0</td>\n",
       "      <td>0.0</td>\n",
       "      <td>0.0</td>\n",
       "      <td>0.0</td>\n",
       "      <td>0.0</td>\n",
       "      <td>0.0</td>\n",
       "      <td>...</td>\n",
       "      <td>1.0</td>\n",
       "      <td>0.0</td>\n",
       "      <td>4.0</td>\n",
       "      <td>0.0</td>\n",
       "      <td>0.0</td>\n",
       "      <td>0.0</td>\n",
       "      <td>0.0</td>\n",
       "      <td>6.0</td>\n",
       "      <td>4.0</td>\n",
       "      <td>1.0</td>\n",
       "    </tr>\n",
       "    <tr>\n",
       "      <th>70688</th>\n",
       "      <td>1.0</td>\n",
       "      <td>0.0</td>\n",
       "      <td>1.0</td>\n",
       "      <td>1.0</td>\n",
       "      <td>29.0</td>\n",
       "      <td>1.0</td>\n",
       "      <td>0.0</td>\n",
       "      <td>1.0</td>\n",
       "      <td>0.0</td>\n",
       "      <td>1.0</td>\n",
       "      <td>...</td>\n",
       "      <td>1.0</td>\n",
       "      <td>0.0</td>\n",
       "      <td>2.0</td>\n",
       "      <td>0.0</td>\n",
       "      <td>0.0</td>\n",
       "      <td>1.0</td>\n",
       "      <td>1.0</td>\n",
       "      <td>10.0</td>\n",
       "      <td>3.0</td>\n",
       "      <td>6.0</td>\n",
       "    </tr>\n",
       "    <tr>\n",
       "      <th>70689</th>\n",
       "      <td>1.0</td>\n",
       "      <td>1.0</td>\n",
       "      <td>1.0</td>\n",
       "      <td>1.0</td>\n",
       "      <td>25.0</td>\n",
       "      <td>0.0</td>\n",
       "      <td>0.0</td>\n",
       "      <td>1.0</td>\n",
       "      <td>0.0</td>\n",
       "      <td>1.0</td>\n",
       "      <td>...</td>\n",
       "      <td>1.0</td>\n",
       "      <td>0.0</td>\n",
       "      <td>5.0</td>\n",
       "      <td>15.0</td>\n",
       "      <td>0.0</td>\n",
       "      <td>1.0</td>\n",
       "      <td>0.0</td>\n",
       "      <td>13.0</td>\n",
       "      <td>6.0</td>\n",
       "      <td>4.0</td>\n",
       "    </tr>\n",
       "    <tr>\n",
       "      <th>70690</th>\n",
       "      <td>1.0</td>\n",
       "      <td>1.0</td>\n",
       "      <td>1.0</td>\n",
       "      <td>1.0</td>\n",
       "      <td>18.0</td>\n",
       "      <td>0.0</td>\n",
       "      <td>0.0</td>\n",
       "      <td>0.0</td>\n",
       "      <td>0.0</td>\n",
       "      <td>0.0</td>\n",
       "      <td>...</td>\n",
       "      <td>1.0</td>\n",
       "      <td>0.0</td>\n",
       "      <td>4.0</td>\n",
       "      <td>0.0</td>\n",
       "      <td>0.0</td>\n",
       "      <td>1.0</td>\n",
       "      <td>0.0</td>\n",
       "      <td>11.0</td>\n",
       "      <td>2.0</td>\n",
       "      <td>4.0</td>\n",
       "    </tr>\n",
       "    <tr>\n",
       "      <th>70691</th>\n",
       "      <td>1.0</td>\n",
       "      <td>1.0</td>\n",
       "      <td>1.0</td>\n",
       "      <td>1.0</td>\n",
       "      <td>25.0</td>\n",
       "      <td>0.0</td>\n",
       "      <td>0.0</td>\n",
       "      <td>1.0</td>\n",
       "      <td>1.0</td>\n",
       "      <td>1.0</td>\n",
       "      <td>...</td>\n",
       "      <td>1.0</td>\n",
       "      <td>0.0</td>\n",
       "      <td>2.0</td>\n",
       "      <td>0.0</td>\n",
       "      <td>0.0</td>\n",
       "      <td>0.0</td>\n",
       "      <td>0.0</td>\n",
       "      <td>9.0</td>\n",
       "      <td>6.0</td>\n",
       "      <td>2.0</td>\n",
       "    </tr>\n",
       "  </tbody>\n",
       "</table>\n",
       "<p>70692 rows × 22 columns</p>\n",
       "</div>"
      ],
      "text/plain": [
       "       diabetes_binary  highbp  highchol  cholcheck   bmi  smoker  stroke  \\\n",
       "0                  0.0     1.0       0.0        1.0  26.0     0.0     0.0   \n",
       "1                  0.0     1.0       1.0        1.0  26.0     1.0     1.0   \n",
       "2                  0.0     0.0       0.0        1.0  26.0     0.0     0.0   \n",
       "3                  0.0     1.0       1.0        1.0  28.0     1.0     0.0   \n",
       "4                  0.0     0.0       0.0        1.0  29.0     1.0     0.0   \n",
       "...                ...     ...       ...        ...   ...     ...     ...   \n",
       "70687              1.0     0.0       1.0        1.0  37.0     0.0     0.0   \n",
       "70688              1.0     0.0       1.0        1.0  29.0     1.0     0.0   \n",
       "70689              1.0     1.0       1.0        1.0  25.0     0.0     0.0   \n",
       "70690              1.0     1.0       1.0        1.0  18.0     0.0     0.0   \n",
       "70691              1.0     1.0       1.0        1.0  25.0     0.0     0.0   \n",
       "\n",
       "       heartdiseaseorattack  physactivity  fruits  ...  anyhealthcare  \\\n",
       "0                       0.0           1.0     0.0  ...            1.0   \n",
       "1                       0.0           0.0     1.0  ...            1.0   \n",
       "2                       0.0           1.0     1.0  ...            1.0   \n",
       "3                       0.0           1.0     1.0  ...            1.0   \n",
       "4                       0.0           1.0     1.0  ...            1.0   \n",
       "...                     ...           ...     ...  ...            ...   \n",
       "70687                   0.0           0.0     0.0  ...            1.0   \n",
       "70688                   1.0           0.0     1.0  ...            1.0   \n",
       "70689                   1.0           0.0     1.0  ...            1.0   \n",
       "70690                   0.0           0.0     0.0  ...            1.0   \n",
       "70691                   1.0           1.0     1.0  ...            1.0   \n",
       "\n",
       "       nodocbccost  genhlth  menthlth  physhlth  diffwalk  sex   age  \\\n",
       "0              0.0      3.0       5.0      30.0       0.0  1.0   4.0   \n",
       "1              0.0      3.0       0.0       0.0       0.0  1.0  12.0   \n",
       "2              0.0      1.0       0.0      10.0       0.0  1.0  13.0   \n",
       "3              0.0      3.0       0.0       3.0       0.0  1.0  11.0   \n",
       "4              0.0      2.0       0.0       0.0       0.0  0.0   8.0   \n",
       "...            ...      ...       ...       ...       ...  ...   ...   \n",
       "70687          0.0      4.0       0.0       0.0       0.0  0.0   6.0   \n",
       "70688          0.0      2.0       0.0       0.0       1.0  1.0  10.0   \n",
       "70689          0.0      5.0      15.0       0.0       1.0  0.0  13.0   \n",
       "70690          0.0      4.0       0.0       0.0       1.0  0.0  11.0   \n",
       "70691          0.0      2.0       0.0       0.0       0.0  0.0   9.0   \n",
       "\n",
       "       education  income  \n",
       "0            6.0     8.0  \n",
       "1            6.0     8.0  \n",
       "2            6.0     8.0  \n",
       "3            6.0     8.0  \n",
       "4            5.0     8.0  \n",
       "...          ...     ...  \n",
       "70687        4.0     1.0  \n",
       "70688        3.0     6.0  \n",
       "70689        6.0     4.0  \n",
       "70690        2.0     4.0  \n",
       "70691        6.0     2.0  \n",
       "\n",
       "[70692 rows x 22 columns]"
      ]
     },
     "execution_count": 1,
     "metadata": {},
     "output_type": "execute_result"
    }
   ],
   "source": [
    "import pandas as pd \n",
    "import numpy as np\n",
    "\n",
    "diabetes_data = pd.read_csv(\"Data/diabetes_binary_5050split_health_indicators_BRFSS2015.csv\")\n",
    "diabetes_data.columns = map(str.lower, diabetes_data.columns)\n",
    "diabetes_data"
   ]
  },
  {
   "cell_type": "markdown",
   "id": "d852602b",
   "metadata": {},
   "source": [
    "We can see that our data is balanced since the target variable `diabetes_binary` has equal counts for the two classes."
   ]
  },
  {
   "cell_type": "code",
   "execution_count": 2,
   "id": "093eb8b0",
   "metadata": {},
   "outputs": [
    {
     "data": {
      "text/plain": [
       "0.0    35346\n",
       "1.0    35346\n",
       "Name: diabetes_binary, dtype: int64"
      ]
     },
     "execution_count": 2,
     "metadata": {},
     "output_type": "execute_result"
    }
   ],
   "source": [
    "diabetes_data[\"diabetes_binary\"].value_counts()"
   ]
  },
  {
   "cell_type": "markdown",
   "id": "77ac8682",
   "metadata": {},
   "source": [
    "Then we create a separate dataset `y` that contains only the target variable `diabetes_binary`."
   ]
  },
  {
   "cell_type": "code",
   "execution_count": 3,
   "id": "90f0ecb8",
   "metadata": {},
   "outputs": [],
   "source": [
    "y = diabetes_data[\"diabetes_binary\"]"
   ]
  },
  {
   "cell_type": "markdown",
   "id": "252fa4de",
   "metadata": {},
   "source": [
    "And a dataset `X` that contains all the predictor variables."
   ]
  },
  {
   "cell_type": "code",
   "execution_count": 4,
   "id": "3aedcdf6",
   "metadata": {},
   "outputs": [],
   "source": [
    "X = diabetes_data.drop('diabetes_binary', axis=1)"
   ]
  },
  {
   "cell_type": "markdown",
   "id": "355d85ff",
   "metadata": {},
   "source": [
    "In order to run a neural network model later we must scale our predictor dataset `X` and it is not called `X_scaled`."
   ]
  },
  {
   "cell_type": "code",
   "execution_count": 5,
   "id": "631bb66e",
   "metadata": {},
   "outputs": [
    {
     "data": {
      "text/html": [
       "<div>\n",
       "<style scoped>\n",
       "    .dataframe tbody tr th:only-of-type {\n",
       "        vertical-align: middle;\n",
       "    }\n",
       "\n",
       "    .dataframe tbody tr th {\n",
       "        vertical-align: top;\n",
       "    }\n",
       "\n",
       "    .dataframe thead th {\n",
       "        text-align: right;\n",
       "    }\n",
       "</style>\n",
       "<table border=\"1\" class=\"dataframe\">\n",
       "  <thead>\n",
       "    <tr style=\"text-align: right;\">\n",
       "      <th></th>\n",
       "      <th>highbp</th>\n",
       "      <th>highchol</th>\n",
       "      <th>cholcheck</th>\n",
       "      <th>bmi</th>\n",
       "      <th>smoker</th>\n",
       "      <th>stroke</th>\n",
       "      <th>heartdiseaseorattack</th>\n",
       "      <th>physactivity</th>\n",
       "      <th>fruits</th>\n",
       "      <th>veggies</th>\n",
       "      <th>...</th>\n",
       "      <th>anyhealthcare</th>\n",
       "      <th>nodocbccost</th>\n",
       "      <th>genhlth</th>\n",
       "      <th>menthlth</th>\n",
       "      <th>physhlth</th>\n",
       "      <th>diffwalk</th>\n",
       "      <th>sex</th>\n",
       "      <th>age</th>\n",
       "      <th>education</th>\n",
       "      <th>income</th>\n",
       "    </tr>\n",
       "  </thead>\n",
       "  <tbody>\n",
       "    <tr>\n",
       "      <th>0</th>\n",
       "      <td>1.0</td>\n",
       "      <td>0.0</td>\n",
       "      <td>1.0</td>\n",
       "      <td>0.162791</td>\n",
       "      <td>0.0</td>\n",
       "      <td>0.0</td>\n",
       "      <td>0.0</td>\n",
       "      <td>1.0</td>\n",
       "      <td>0.0</td>\n",
       "      <td>1.0</td>\n",
       "      <td>...</td>\n",
       "      <td>1.0</td>\n",
       "      <td>0.0</td>\n",
       "      <td>0.50</td>\n",
       "      <td>0.166667</td>\n",
       "      <td>1.000000</td>\n",
       "      <td>0.0</td>\n",
       "      <td>1.0</td>\n",
       "      <td>0.250000</td>\n",
       "      <td>1.0</td>\n",
       "      <td>1.000000</td>\n",
       "    </tr>\n",
       "    <tr>\n",
       "      <th>1</th>\n",
       "      <td>1.0</td>\n",
       "      <td>1.0</td>\n",
       "      <td>1.0</td>\n",
       "      <td>0.162791</td>\n",
       "      <td>1.0</td>\n",
       "      <td>1.0</td>\n",
       "      <td>0.0</td>\n",
       "      <td>0.0</td>\n",
       "      <td>1.0</td>\n",
       "      <td>0.0</td>\n",
       "      <td>...</td>\n",
       "      <td>1.0</td>\n",
       "      <td>0.0</td>\n",
       "      <td>0.50</td>\n",
       "      <td>0.000000</td>\n",
       "      <td>0.000000</td>\n",
       "      <td>0.0</td>\n",
       "      <td>1.0</td>\n",
       "      <td>0.916667</td>\n",
       "      <td>1.0</td>\n",
       "      <td>1.000000</td>\n",
       "    </tr>\n",
       "    <tr>\n",
       "      <th>2</th>\n",
       "      <td>0.0</td>\n",
       "      <td>0.0</td>\n",
       "      <td>1.0</td>\n",
       "      <td>0.162791</td>\n",
       "      <td>0.0</td>\n",
       "      <td>0.0</td>\n",
       "      <td>0.0</td>\n",
       "      <td>1.0</td>\n",
       "      <td>1.0</td>\n",
       "      <td>1.0</td>\n",
       "      <td>...</td>\n",
       "      <td>1.0</td>\n",
       "      <td>0.0</td>\n",
       "      <td>0.00</td>\n",
       "      <td>0.000000</td>\n",
       "      <td>0.333333</td>\n",
       "      <td>0.0</td>\n",
       "      <td>1.0</td>\n",
       "      <td>1.000000</td>\n",
       "      <td>1.0</td>\n",
       "      <td>1.000000</td>\n",
       "    </tr>\n",
       "    <tr>\n",
       "      <th>3</th>\n",
       "      <td>1.0</td>\n",
       "      <td>1.0</td>\n",
       "      <td>1.0</td>\n",
       "      <td>0.186047</td>\n",
       "      <td>1.0</td>\n",
       "      <td>0.0</td>\n",
       "      <td>0.0</td>\n",
       "      <td>1.0</td>\n",
       "      <td>1.0</td>\n",
       "      <td>1.0</td>\n",
       "      <td>...</td>\n",
       "      <td>1.0</td>\n",
       "      <td>0.0</td>\n",
       "      <td>0.50</td>\n",
       "      <td>0.000000</td>\n",
       "      <td>0.100000</td>\n",
       "      <td>0.0</td>\n",
       "      <td>1.0</td>\n",
       "      <td>0.833333</td>\n",
       "      <td>1.0</td>\n",
       "      <td>1.000000</td>\n",
       "    </tr>\n",
       "    <tr>\n",
       "      <th>4</th>\n",
       "      <td>0.0</td>\n",
       "      <td>0.0</td>\n",
       "      <td>1.0</td>\n",
       "      <td>0.197674</td>\n",
       "      <td>1.0</td>\n",
       "      <td>0.0</td>\n",
       "      <td>0.0</td>\n",
       "      <td>1.0</td>\n",
       "      <td>1.0</td>\n",
       "      <td>1.0</td>\n",
       "      <td>...</td>\n",
       "      <td>1.0</td>\n",
       "      <td>0.0</td>\n",
       "      <td>0.25</td>\n",
       "      <td>0.000000</td>\n",
       "      <td>0.000000</td>\n",
       "      <td>0.0</td>\n",
       "      <td>0.0</td>\n",
       "      <td>0.583333</td>\n",
       "      <td>0.8</td>\n",
       "      <td>1.000000</td>\n",
       "    </tr>\n",
       "    <tr>\n",
       "      <th>...</th>\n",
       "      <td>...</td>\n",
       "      <td>...</td>\n",
       "      <td>...</td>\n",
       "      <td>...</td>\n",
       "      <td>...</td>\n",
       "      <td>...</td>\n",
       "      <td>...</td>\n",
       "      <td>...</td>\n",
       "      <td>...</td>\n",
       "      <td>...</td>\n",
       "      <td>...</td>\n",
       "      <td>...</td>\n",
       "      <td>...</td>\n",
       "      <td>...</td>\n",
       "      <td>...</td>\n",
       "      <td>...</td>\n",
       "      <td>...</td>\n",
       "      <td>...</td>\n",
       "      <td>...</td>\n",
       "      <td>...</td>\n",
       "      <td>...</td>\n",
       "    </tr>\n",
       "    <tr>\n",
       "      <th>70687</th>\n",
       "      <td>0.0</td>\n",
       "      <td>1.0</td>\n",
       "      <td>1.0</td>\n",
       "      <td>0.290698</td>\n",
       "      <td>0.0</td>\n",
       "      <td>0.0</td>\n",
       "      <td>0.0</td>\n",
       "      <td>0.0</td>\n",
       "      <td>0.0</td>\n",
       "      <td>1.0</td>\n",
       "      <td>...</td>\n",
       "      <td>1.0</td>\n",
       "      <td>0.0</td>\n",
       "      <td>0.75</td>\n",
       "      <td>0.000000</td>\n",
       "      <td>0.000000</td>\n",
       "      <td>0.0</td>\n",
       "      <td>0.0</td>\n",
       "      <td>0.416667</td>\n",
       "      <td>0.6</td>\n",
       "      <td>0.000000</td>\n",
       "    </tr>\n",
       "    <tr>\n",
       "      <th>70688</th>\n",
       "      <td>0.0</td>\n",
       "      <td>1.0</td>\n",
       "      <td>1.0</td>\n",
       "      <td>0.197674</td>\n",
       "      <td>1.0</td>\n",
       "      <td>0.0</td>\n",
       "      <td>1.0</td>\n",
       "      <td>0.0</td>\n",
       "      <td>1.0</td>\n",
       "      <td>1.0</td>\n",
       "      <td>...</td>\n",
       "      <td>1.0</td>\n",
       "      <td>0.0</td>\n",
       "      <td>0.25</td>\n",
       "      <td>0.000000</td>\n",
       "      <td>0.000000</td>\n",
       "      <td>1.0</td>\n",
       "      <td>1.0</td>\n",
       "      <td>0.750000</td>\n",
       "      <td>0.4</td>\n",
       "      <td>0.714286</td>\n",
       "    </tr>\n",
       "    <tr>\n",
       "      <th>70689</th>\n",
       "      <td>1.0</td>\n",
       "      <td>1.0</td>\n",
       "      <td>1.0</td>\n",
       "      <td>0.151163</td>\n",
       "      <td>0.0</td>\n",
       "      <td>0.0</td>\n",
       "      <td>1.0</td>\n",
       "      <td>0.0</td>\n",
       "      <td>1.0</td>\n",
       "      <td>0.0</td>\n",
       "      <td>...</td>\n",
       "      <td>1.0</td>\n",
       "      <td>0.0</td>\n",
       "      <td>1.00</td>\n",
       "      <td>0.500000</td>\n",
       "      <td>0.000000</td>\n",
       "      <td>1.0</td>\n",
       "      <td>0.0</td>\n",
       "      <td>1.000000</td>\n",
       "      <td>1.0</td>\n",
       "      <td>0.428571</td>\n",
       "    </tr>\n",
       "    <tr>\n",
       "      <th>70690</th>\n",
       "      <td>1.0</td>\n",
       "      <td>1.0</td>\n",
       "      <td>1.0</td>\n",
       "      <td>0.069767</td>\n",
       "      <td>0.0</td>\n",
       "      <td>0.0</td>\n",
       "      <td>0.0</td>\n",
       "      <td>0.0</td>\n",
       "      <td>0.0</td>\n",
       "      <td>0.0</td>\n",
       "      <td>...</td>\n",
       "      <td>1.0</td>\n",
       "      <td>0.0</td>\n",
       "      <td>0.75</td>\n",
       "      <td>0.000000</td>\n",
       "      <td>0.000000</td>\n",
       "      <td>1.0</td>\n",
       "      <td>0.0</td>\n",
       "      <td>0.833333</td>\n",
       "      <td>0.2</td>\n",
       "      <td>0.428571</td>\n",
       "    </tr>\n",
       "    <tr>\n",
       "      <th>70691</th>\n",
       "      <td>1.0</td>\n",
       "      <td>1.0</td>\n",
       "      <td>1.0</td>\n",
       "      <td>0.151163</td>\n",
       "      <td>0.0</td>\n",
       "      <td>0.0</td>\n",
       "      <td>1.0</td>\n",
       "      <td>1.0</td>\n",
       "      <td>1.0</td>\n",
       "      <td>0.0</td>\n",
       "      <td>...</td>\n",
       "      <td>1.0</td>\n",
       "      <td>0.0</td>\n",
       "      <td>0.25</td>\n",
       "      <td>0.000000</td>\n",
       "      <td>0.000000</td>\n",
       "      <td>0.0</td>\n",
       "      <td>0.0</td>\n",
       "      <td>0.666667</td>\n",
       "      <td>1.0</td>\n",
       "      <td>0.142857</td>\n",
       "    </tr>\n",
       "  </tbody>\n",
       "</table>\n",
       "<p>70692 rows × 21 columns</p>\n",
       "</div>"
      ],
      "text/plain": [
       "       highbp  highchol  cholcheck       bmi  smoker  stroke  \\\n",
       "0         1.0       0.0        1.0  0.162791     0.0     0.0   \n",
       "1         1.0       1.0        1.0  0.162791     1.0     1.0   \n",
       "2         0.0       0.0        1.0  0.162791     0.0     0.0   \n",
       "3         1.0       1.0        1.0  0.186047     1.0     0.0   \n",
       "4         0.0       0.0        1.0  0.197674     1.0     0.0   \n",
       "...       ...       ...        ...       ...     ...     ...   \n",
       "70687     0.0       1.0        1.0  0.290698     0.0     0.0   \n",
       "70688     0.0       1.0        1.0  0.197674     1.0     0.0   \n",
       "70689     1.0       1.0        1.0  0.151163     0.0     0.0   \n",
       "70690     1.0       1.0        1.0  0.069767     0.0     0.0   \n",
       "70691     1.0       1.0        1.0  0.151163     0.0     0.0   \n",
       "\n",
       "       heartdiseaseorattack  physactivity  fruits  veggies  ...  \\\n",
       "0                       0.0           1.0     0.0      1.0  ...   \n",
       "1                       0.0           0.0     1.0      0.0  ...   \n",
       "2                       0.0           1.0     1.0      1.0  ...   \n",
       "3                       0.0           1.0     1.0      1.0  ...   \n",
       "4                       0.0           1.0     1.0      1.0  ...   \n",
       "...                     ...           ...     ...      ...  ...   \n",
       "70687                   0.0           0.0     0.0      1.0  ...   \n",
       "70688                   1.0           0.0     1.0      1.0  ...   \n",
       "70689                   1.0           0.0     1.0      0.0  ...   \n",
       "70690                   0.0           0.0     0.0      0.0  ...   \n",
       "70691                   1.0           1.0     1.0      0.0  ...   \n",
       "\n",
       "       anyhealthcare  nodocbccost  genhlth  menthlth  physhlth  diffwalk  sex  \\\n",
       "0                1.0          0.0     0.50  0.166667  1.000000       0.0  1.0   \n",
       "1                1.0          0.0     0.50  0.000000  0.000000       0.0  1.0   \n",
       "2                1.0          0.0     0.00  0.000000  0.333333       0.0  1.0   \n",
       "3                1.0          0.0     0.50  0.000000  0.100000       0.0  1.0   \n",
       "4                1.0          0.0     0.25  0.000000  0.000000       0.0  0.0   \n",
       "...              ...          ...      ...       ...       ...       ...  ...   \n",
       "70687            1.0          0.0     0.75  0.000000  0.000000       0.0  0.0   \n",
       "70688            1.0          0.0     0.25  0.000000  0.000000       1.0  1.0   \n",
       "70689            1.0          0.0     1.00  0.500000  0.000000       1.0  0.0   \n",
       "70690            1.0          0.0     0.75  0.000000  0.000000       1.0  0.0   \n",
       "70691            1.0          0.0     0.25  0.000000  0.000000       0.0  0.0   \n",
       "\n",
       "            age  education    income  \n",
       "0      0.250000        1.0  1.000000  \n",
       "1      0.916667        1.0  1.000000  \n",
       "2      1.000000        1.0  1.000000  \n",
       "3      0.833333        1.0  1.000000  \n",
       "4      0.583333        0.8  1.000000  \n",
       "...         ...        ...       ...  \n",
       "70687  0.416667        0.6  0.000000  \n",
       "70688  0.750000        0.4  0.714286  \n",
       "70689  1.000000        1.0  0.428571  \n",
       "70690  0.833333        0.2  0.428571  \n",
       "70691  0.666667        1.0  0.142857  \n",
       "\n",
       "[70692 rows x 21 columns]"
      ]
     },
     "execution_count": 5,
     "metadata": {},
     "output_type": "execute_result"
    }
   ],
   "source": [
    "from sklearn.preprocessing import MinMaxScaler\n",
    "\n",
    "min_max_scaler = MinMaxScaler()\n",
    "X_scaled = pd.DataFrame(min_max_scaler.fit_transform(X.values), columns=X.columns)\n",
    "X_scaled"
   ]
  },
  {
   "cell_type": "markdown",
   "id": "285da9a4",
   "metadata": {},
   "source": [
    "Here we split our balanced data into training and testing datasets in order to determine the training and testing accuracies of our models."
   ]
  },
  {
   "cell_type": "code",
   "execution_count": 6,
   "id": "72af1840",
   "metadata": {},
   "outputs": [],
   "source": [
    "from sklearn.model_selection import train_test_split\n",
    "X_train, X_test, y_train, y_test = train_test_split(X_scaled, y, test_size=0.20, random_state=0)"
   ]
  },
  {
   "cell_type": "code",
   "execution_count": 7,
   "id": "ee857f8c",
   "metadata": {},
   "outputs": [],
   "source": [
    "# remove warnings\n",
    "import warnings\n",
    "warnings.filterwarnings('ignore')"
   ]
  },
  {
   "cell_type": "markdown",
   "id": "377bda0a",
   "metadata": {},
   "source": [
    "---"
   ]
  },
  {
   "cell_type": "markdown",
   "id": "51dc2cf5",
   "metadata": {},
   "source": [
    "# Machine Learning Models <a class=\"anchor\" id=\"models\"></a>"
   ]
  },
  {
   "cell_type": "markdown",
   "id": "6ae8de0f",
   "metadata": {},
   "source": [
    "In this section we will be constructing a several machine learning models that predict diabetes. The models used include Neural Networks and Naive Bayes."
   ]
  },
  {
   "cell_type": "code",
   "execution_count": 8,
   "id": "5cbe5e6c",
   "metadata": {},
   "outputs": [],
   "source": [
    "from sklearn.model_selection import GridSearchCV\n",
    "from xgboost import XGBClassifier\n",
    "import sklearn\n",
    "import tensorflow as tf\n",
    "from tensorflow import keras\n",
    "from tensorflow.keras import layers\n",
    "from sklearn import preprocessing\n",
    "import pydot\n",
    "from sklearn.metrics import classification_report\n",
    "from sklearn.naive_bayes import GaussianNB\n",
    "from sklearn.metrics import accuracy_score\n",
    "from keras.wrappers.scikit_learn import KerasClassifier\n",
    "from sklearn.neural_network import MLPClassifier"
   ]
  },
  {
   "cell_type": "markdown",
   "id": "fdb36b63",
   "metadata": {},
   "source": [
    "## <u>Neural Networks</u>"
   ]
  },
  {
   "cell_type": "markdown",
   "id": "4315c7c9",
   "metadata": {},
   "source": [
    "We will first perform a grid search to determine the optimal number of hidden layer nodes and learning rate. Note that we a are creating neural network models with a single layer."
   ]
  },
  {
   "cell_type": "code",
   "execution_count": 9,
   "id": "76502bcf",
   "metadata": {
    "scrolled": true
   },
   "outputs": [
    {
     "name": "stdout",
     "output_type": "stream",
     "text": [
      "Fitting 1 folds for each of 80 candidates, totalling 80 fits\n",
      "[CV 1/1] END hidden_layer_sizes=5, learning_rate_init=0.001;, score=0.751 total time=  24.9s\n",
      "[CV 1/1] END hidden_layer_sizes=5, learning_rate_init=0.01;, score=0.751 total time=  10.6s\n",
      "[CV 1/1] END hidden_layer_sizes=5, learning_rate_init=0.1;, score=0.731 total time=   3.4s\n",
      "[CV 1/1] END hidden_layer_sizes=5, learning_rate_init=1;, score=0.498 total time=   1.0s\n",
      "[CV 1/1] END hidden_layer_sizes=10, learning_rate_init=0.001;, score=0.751 total time=   7.9s\n",
      "[CV 1/1] END hidden_layer_sizes=10, learning_rate_init=0.01;, score=0.753 total time=   4.0s\n",
      "[CV 1/1] END hidden_layer_sizes=10, learning_rate_init=0.1;, score=0.743 total time=   1.5s\n",
      "[CV 1/1] END hidden_layer_sizes=10, learning_rate_init=1;, score=0.502 total time=   1.5s\n",
      "[CV 1/1] END hidden_layer_sizes=15, learning_rate_init=0.001;, score=0.755 total time=  11.0s\n",
      "[CV 1/1] END hidden_layer_sizes=15, learning_rate_init=0.01;, score=0.749 total time=   4.1s\n",
      "[CV 1/1] END hidden_layer_sizes=15, learning_rate_init=0.1;, score=0.749 total time=   1.4s\n",
      "[CV 1/1] END hidden_layer_sizes=15, learning_rate_init=1;, score=0.502 total time=   1.2s\n",
      "[CV 1/1] END hidden_layer_sizes=20, learning_rate_init=0.001;, score=0.754 total time=  10.5s\n",
      "[CV 1/1] END hidden_layer_sizes=20, learning_rate_init=0.01;, score=0.755 total time=   6.9s\n",
      "[CV 1/1] END hidden_layer_sizes=20, learning_rate_init=0.1;, score=0.747 total time=   4.7s\n",
      "[CV 1/1] END hidden_layer_sizes=20, learning_rate_init=1;, score=0.502 total time=   3.2s\n",
      "[CV 1/1] END hidden_layer_sizes=25, learning_rate_init=0.001;, score=0.756 total time=  14.7s\n",
      "[CV 1/1] END hidden_layer_sizes=25, learning_rate_init=0.01;, score=0.757 total time=  13.5s\n",
      "[CV 1/1] END hidden_layer_sizes=25, learning_rate_init=0.1;, score=0.745 total time=   3.1s\n",
      "[CV 1/1] END hidden_layer_sizes=25, learning_rate_init=1;, score=0.502 total time=   1.4s\n",
      "[CV 1/1] END hidden_layer_sizes=30, learning_rate_init=0.001;, score=0.755 total time=  11.1s\n",
      "[CV 1/1] END hidden_layer_sizes=30, learning_rate_init=0.01;, score=0.749 total time=  10.7s\n",
      "[CV 1/1] END hidden_layer_sizes=30, learning_rate_init=0.1;, score=0.747 total time=   3.7s\n",
      "[CV 1/1] END hidden_layer_sizes=30, learning_rate_init=1;, score=0.502 total time=   1.8s\n",
      "[CV 1/1] END hidden_layer_sizes=35, learning_rate_init=0.001;, score=0.758 total time=  17.1s\n",
      "[CV 1/1] END hidden_layer_sizes=35, learning_rate_init=0.01;, score=0.757 total time=  16.1s\n",
      "[CV 1/1] END hidden_layer_sizes=35, learning_rate_init=0.1;, score=0.744 total time=   4.0s\n",
      "[CV 1/1] END hidden_layer_sizes=35, learning_rate_init=1;, score=0.502 total time=   4.8s\n",
      "[CV 1/1] END hidden_layer_sizes=40, learning_rate_init=0.001;, score=0.757 total time=  17.6s\n",
      "[CV 1/1] END hidden_layer_sizes=40, learning_rate_init=0.01;, score=0.758 total time=  25.2s\n",
      "[CV 1/1] END hidden_layer_sizes=40, learning_rate_init=0.1;, score=0.750 total time=   4.1s\n",
      "[CV 1/1] END hidden_layer_sizes=40, learning_rate_init=1;, score=0.498 total time=   1.9s\n",
      "[CV 1/1] END hidden_layer_sizes=45, learning_rate_init=0.001;, score=0.757 total time=  12.0s\n",
      "[CV 1/1] END hidden_layer_sizes=45, learning_rate_init=0.01;, score=0.759 total time=  15.5s\n",
      "[CV 1/1] END hidden_layer_sizes=45, learning_rate_init=0.1;, score=0.745 total time=   5.0s\n",
      "[CV 1/1] END hidden_layer_sizes=45, learning_rate_init=1;, score=0.502 total time=   1.7s\n",
      "[CV 1/1] END hidden_layer_sizes=50, learning_rate_init=0.001;, score=0.760 total time=  23.4s\n",
      "[CV 1/1] END hidden_layer_sizes=50, learning_rate_init=0.01;, score=0.755 total time=  12.3s\n",
      "[CV 1/1] END hidden_layer_sizes=50, learning_rate_init=0.1;, score=0.748 total time=   3.0s\n",
      "[CV 1/1] END hidden_layer_sizes=50, learning_rate_init=1;, score=0.498 total time=   3.9s\n",
      "[CV 1/1] END hidden_layer_sizes=55, learning_rate_init=0.001;, score=0.760 total time=  19.5s\n",
      "[CV 1/1] END hidden_layer_sizes=55, learning_rate_init=0.01;, score=0.759 total time=  11.5s\n",
      "[CV 1/1] END hidden_layer_sizes=55, learning_rate_init=0.1;, score=0.748 total time=   3.3s\n",
      "[CV 1/1] END hidden_layer_sizes=55, learning_rate_init=1;, score=0.498 total time=   5.2s\n",
      "[CV 1/1] END hidden_layer_sizes=60, learning_rate_init=0.001;, score=0.761 total time=  20.0s\n",
      "[CV 1/1] END hidden_layer_sizes=60, learning_rate_init=0.01;, score=0.760 total time=  14.1s\n",
      "[CV 1/1] END hidden_layer_sizes=60, learning_rate_init=0.1;, score=0.749 total time=   6.1s\n",
      "[CV 1/1] END hidden_layer_sizes=60, learning_rate_init=1;, score=0.502 total time=   5.8s\n",
      "[CV 1/1] END hidden_layer_sizes=65, learning_rate_init=0.001;, score=0.760 total time=  23.1s\n",
      "[CV 1/1] END hidden_layer_sizes=65, learning_rate_init=0.01;, score=0.759 total time=  15.9s\n",
      "[CV 1/1] END hidden_layer_sizes=65, learning_rate_init=0.1;, score=0.746 total time=   2.8s\n",
      "[CV 1/1] END hidden_layer_sizes=65, learning_rate_init=1;, score=0.502 total time=   6.7s\n",
      "[CV 1/1] END hidden_layer_sizes=70, learning_rate_init=0.001;, score=0.761 total time=  30.7s\n",
      "[CV 1/1] END hidden_layer_sizes=70, learning_rate_init=0.01;, score=0.762 total time=  19.7s\n",
      "[CV 1/1] END hidden_layer_sizes=70, learning_rate_init=0.1;, score=0.748 total time=   2.7s\n",
      "[CV 1/1] END hidden_layer_sizes=70, learning_rate_init=1;, score=0.498 total time=   2.7s\n",
      "[CV 1/1] END hidden_layer_sizes=75, learning_rate_init=0.001;, score=0.758 total time=  18.8s\n",
      "[CV 1/1] END hidden_layer_sizes=75, learning_rate_init=0.01;, score=0.762 total time=  26.2s\n",
      "[CV 1/1] END hidden_layer_sizes=75, learning_rate_init=0.1;, score=0.748 total time=   3.5s\n",
      "[CV 1/1] END hidden_layer_sizes=75, learning_rate_init=1;, score=0.502 total time=   7.1s\n",
      "[CV 1/1] END hidden_layer_sizes=80, learning_rate_init=0.001;, score=0.760 total time=  19.8s\n",
      "[CV 1/1] END hidden_layer_sizes=80, learning_rate_init=0.01;, score=0.757 total time=  23.5s\n",
      "[CV 1/1] END hidden_layer_sizes=80, learning_rate_init=0.1;, score=0.747 total time=   6.3s\n",
      "[CV 1/1] END hidden_layer_sizes=80, learning_rate_init=1;, score=0.502 total time=   7.3s\n",
      "[CV 1/1] END hidden_layer_sizes=85, learning_rate_init=0.001;, score=0.763 total time=  44.7s\n",
      "[CV 1/1] END hidden_layer_sizes=85, learning_rate_init=0.01;, score=0.759 total time=  22.9s\n",
      "[CV 1/1] END hidden_layer_sizes=85, learning_rate_init=0.1;, score=0.746 total time=   3.3s\n",
      "[CV 1/1] END hidden_layer_sizes=85, learning_rate_init=1;, score=0.498 total time=   2.5s\n",
      "[CV 1/1] END hidden_layer_sizes=90, learning_rate_init=0.001;, score=0.764 total time=  35.3s\n",
      "[CV 1/1] END hidden_layer_sizes=90, learning_rate_init=0.01;, score=0.762 total time=  24.2s\n",
      "[CV 1/1] END hidden_layer_sizes=90, learning_rate_init=0.1;, score=0.750 total time=   3.2s\n",
      "[CV 1/1] END hidden_layer_sizes=90, learning_rate_init=1;, score=0.498 total time=  11.9s\n",
      "[CV 1/1] END hidden_layer_sizes=95, learning_rate_init=0.001;, score=0.763 total time=  42.7s\n",
      "[CV 1/1] END hidden_layer_sizes=95, learning_rate_init=0.01;, score=0.763 total time=  22.0s\n",
      "[CV 1/1] END hidden_layer_sizes=95, learning_rate_init=0.1;, score=0.749 total time=   5.8s\n",
      "[CV 1/1] END hidden_layer_sizes=95, learning_rate_init=1;, score=0.498 total time=   7.1s\n",
      "[CV 1/1] END hidden_layer_sizes=100, learning_rate_init=0.001;, score=0.765 total time=  48.0s\n",
      "[CV 1/1] END hidden_layer_sizes=100, learning_rate_init=0.01;, score=0.760 total time=  27.1s\n",
      "[CV 1/1] END hidden_layer_sizes=100, learning_rate_init=0.1;, score=0.748 total time=   3.2s\n",
      "[CV 1/1] END hidden_layer_sizes=100, learning_rate_init=1;, score=0.502 total time=   6.3s\n",
      "Wall time: 16min 33s\n"
     ]
    },
    {
     "data": {
      "text/plain": [
       "GridSearchCV(cv=[(slice(None, None, None), slice(None, None, None))],\n",
       "             estimator=MLPClassifier(random_state=0),\n",
       "             param_grid={'hidden_layer_sizes': array([  5,  10,  15,  20,  25,  30,  35,  40,  45,  50,  55,  60,  65,\n",
       "        70,  75,  80,  85,  90,  95, 100]),\n",
       "                         'learning_rate_init': [0.001, 0.01, 0.1, 1]},\n",
       "             scoring='accuracy', verbose=5)"
      ]
     },
     "execution_count": 9,
     "metadata": {},
     "output_type": "execute_result"
    }
   ],
   "source": [
    "%%time\n",
    "params = dict()\n",
    "params['hidden_layer_sizes'] = np.arange(5, 105, 5)\n",
    "params['learning_rate_init'] = [0.001, 0.01, 0.1, 1]\n",
    "\n",
    "np.random.seed(0)\n",
    "grid_nn = GridSearchCV(estimator = MLPClassifier(random_state=0),\n",
    "                  param_grid = params,\n",
    "                  scoring = 'accuracy',\n",
    "                  cv = [(slice(None), slice(None))],\n",
    "                  verbose = 5)\n",
    "\n",
    "np.random.seed(0)\n",
    "grid_nn.fit(X_train, y_train)"
   ]
  },
  {
   "cell_type": "markdown",
   "id": "960da586",
   "metadata": {},
   "source": [
    "We can see that our optimal neural network has 100 nodes in the hidden layer and a learning rate of 0.001."
   ]
  },
  {
   "cell_type": "code",
   "execution_count": 10,
   "id": "5e2616a2",
   "metadata": {},
   "outputs": [
    {
     "data": {
      "text/plain": [
       "{'hidden_layer_sizes': 100, 'learning_rate_init': 0.001}"
      ]
     },
     "execution_count": 10,
     "metadata": {},
     "output_type": "execute_result"
    }
   ],
   "source": [
    "grid_nn.best_params_"
   ]
  },
  {
   "cell_type": "markdown",
   "id": "4954a9b4",
   "metadata": {},
   "source": [
    "Next we will determine the optimal neural network using Keras and test which activation and optimizer functions yield the highest test accuracy. "
   ]
  },
  {
   "cell_type": "code",
   "execution_count": 11,
   "id": "ff34b14e",
   "metadata": {},
   "outputs": [
    {
     "name": "stdout",
     "output_type": "stream",
     "text": [
      "test loss, test acc: [1.0986087322235107, 0.3664332628250122]\n"
     ]
    }
   ],
   "source": [
    "tf.random.set_seed(1)\n",
    "inputs = keras.Input(shape=(21,), dtype=\"float32\")\n",
    "x = layers.Dense(100, activation = 'relu')(inputs)\n",
    "outputs = layers.Dense(3)(x)\n",
    "model = keras.Model(inputs=inputs, outputs=outputs, name='diabetes_model')\n",
    "\n",
    "model.compile(loss='sparse_categorical_crossentropy', \n",
    "              optimizer=keras.optimizers.Adam(learning_rate=1e-3), \n",
    "              metrics=['accuracy']\n",
    "             )\n",
    "\n",
    "model.fit(X_train, y_train, epochs=50, verbose=0)\n",
    "preds = model.predict(X_test)\n",
    "preds = np.argmax(preds, axis=-1)\n",
    "\n",
    "scores = model.evaluate(X_test, y_test, verbose=0)\n",
    "print(\"test loss, test acc:\", scores)"
   ]
  },
  {
   "cell_type": "markdown",
   "id": "81ec843c",
   "metadata": {},
   "source": [
    "Using the optimal hyperparamaters from the grid search we see that the test accuracy = 36.6% with 50 epochs, relu activation function, and \"sparse_categorical_entropy\" loss function."
   ]
  },
  {
   "cell_type": "code",
   "execution_count": 12,
   "id": "efa767d0",
   "metadata": {},
   "outputs": [
    {
     "data": {
      "image/png": "[encoded data removed]",
      "text/plain": [
       "<IPython.core.display.Image object>"
      ]
     },
     "execution_count": 12,
     "metadata": {},
     "output_type": "execute_result"
    }
   ],
   "source": [
    "tf.random.set_seed(1)\n",
    "inputs = keras.Input(shape=(21,), dtype=\"float32\")\n",
    "x = layers.Dense(100, activation = 'softmax')(inputs)\n",
    "outputs = layers.Dense(3)(x)\n",
    "model = keras.Model(inputs=inputs, outputs=outputs, name='diabetes_model')\n",
    "\n",
    "model.compile(loss='sparse_categorical_crossentropy', \n",
    "              optimizer=keras.optimizers.Adam(learning_rate=1e-3), \n",
    "              metrics=['accuracy']\n",
    "             )\n",
    "\n",
    "keras.utils.plot_model(model, show_shapes = True)"
   ]
  },
  {
   "cell_type": "code",
   "execution_count": 13,
   "id": "ae764ea2",
   "metadata": {},
   "outputs": [
    {
     "name": "stdout",
     "output_type": "stream",
     "text": [
      "test loss, test acc: [0.5056045055389404, 0.7570549249649048]\n"
     ]
    }
   ],
   "source": [
    "model.fit(X_train, y_train, epochs=50, verbose=0)\n",
    "preds = model.predict(X_test)\n",
    "preds = np.argmax(preds, axis=-1)\n",
    "\n",
    "scores = model.evaluate(X_test, y_test, verbose=0)\n",
    "print(\"test loss, test acc:\", scores)"
   ]
  },
  {
   "cell_type": "markdown",
   "id": "6b58c063",
   "metadata": {},
   "source": [
    "Our optimal neural network model has a test accuracy of 75.7% and includes the following hyperparameters:\n",
    "- number of hidden layers = 1\n",
    "- number of nodes = 100\n",
    "- learning rate = 0.001\n",
    "- activation function = softmax\n",
    "- optimizer function = Adam\n",
    "- loss function = SparseCategoricalEntropy\n",
    "- number of epochs = 50"
   ]
  },
  {
   "cell_type": "markdown",
   "id": "db6ce17d",
   "metadata": {},
   "source": [
    "In the table below we see additional metrics for our Neural Network model including precision, recall, and f1-score."
   ]
  },
  {
   "cell_type": "code",
   "execution_count": 14,
   "id": "380e6103",
   "metadata": {},
   "outputs": [
    {
     "name": "stdout",
     "output_type": "stream",
     "text": [
      "              precision    recall  f1-score   support\n",
      "\n",
      "         0.0       0.79      0.69      0.74      6932\n",
      "         1.0       0.73      0.82      0.78      7207\n",
      "\n",
      "    accuracy                           0.76     14139\n",
      "   macro avg       0.76      0.76      0.76     14139\n",
      "weighted avg       0.76      0.76      0.76     14139\n",
      "\n"
     ]
    }
   ],
   "source": [
    "print(classification_report(y_test, preds))"
   ]
  },
  {
   "cell_type": "markdown",
   "id": "89e0514f",
   "metadata": {},
   "source": [
    "Here we create a dictionary `top_models` that contains the accuracies of our optimal models."
   ]
  },
  {
   "cell_type": "code",
   "execution_count": 15,
   "id": "9a256ded",
   "metadata": {},
   "outputs": [],
   "source": [
    "top_models = dict()\n",
    "top_models['neural_network'] = scores[1]*100"
   ]
  },
  {
   "cell_type": "markdown",
   "id": "ccf12275",
   "metadata": {},
   "source": [
    "## <u>Naive Bayes</u>"
   ]
  },
  {
   "cell_type": "markdown",
   "id": "f7e276cc",
   "metadata": {},
   "source": [
    "Now we determine the optimal Naive Bayes model. We first perform a grid search to find the optimal `var_smoothing` hyperparameter."
   ]
  },
  {
   "cell_type": "code",
   "execution_count": 16,
   "id": "6e81df88",
   "metadata": {},
   "outputs": [],
   "source": [
    "# define search space\n",
    "params = dict()\n",
    "params['var_smoothing'] = [1e-10, 1e-09, 1e-08, 1e-07, 1e-06, 1e-05, 1e-04, 1e-03, 1e-02, 1e-01]"
   ]
  },
  {
   "cell_type": "code",
   "execution_count": 17,
   "id": "8906a6db",
   "metadata": {},
   "outputs": [],
   "source": [
    "nb_model = GaussianNB()\n",
    "np.random.seed(0)\n",
    "grid_nb = GridSearchCV(estimator = nb_model,\n",
    "                  param_grid = params,\n",
    "                  scoring = 'accuracy',\n",
    "                  cv = [(slice(None), slice(None))],\n",
    "                  verbose = 1)"
   ]
  },
  {
   "cell_type": "code",
   "execution_count": 18,
   "id": "f7eae35f",
   "metadata": {},
   "outputs": [
    {
     "name": "stdout",
     "output_type": "stream",
     "text": [
      "Fitting 1 folds for each of 10 candidates, totalling 10 fits\n",
      "Wall time: 478 ms\n"
     ]
    },
    {
     "data": {
      "text/plain": [
       "GridSearchCV(cv=[(slice(None, None, None), slice(None, None, None))],\n",
       "             estimator=GaussianNB(),\n",
       "             param_grid={'var_smoothing': [1e-10, 1e-09, 1e-08, 1e-07, 1e-06,\n",
       "                                           1e-05, 0.0001, 0.001, 0.01, 0.1]},\n",
       "             scoring='accuracy', verbose=1)"
      ]
     },
     "execution_count": 18,
     "metadata": {},
     "output_type": "execute_result"
    }
   ],
   "source": [
    "%%time\n",
    "np.random.seed(0)\n",
    "grid_nb.fit(X_train, y_train)"
   ]
  },
  {
   "cell_type": "markdown",
   "id": "3e1fdf08",
   "metadata": {},
   "source": [
    "Our optimal Naive Bayes model has a test accuracy of 72.247% where `var_smoothing` = 1e-05."
   ]
  },
  {
   "cell_type": "code",
   "execution_count": 19,
   "id": "ff554daa",
   "metadata": {},
   "outputs": [
    {
     "name": "stdout",
     "output_type": "stream",
     "text": [
      "Best hyperparameters: {'var_smoothing': 1e-05}\n",
      "Training accuracy: 71.8 %\n",
      "Testing accuracy: 72.247 %\n"
     ]
    }
   ],
   "source": [
    "print('Best hyperparameters:', grid_nb.best_params_)\n",
    "print('Training accuracy:', round(grid_nb.best_score_, 4)*100, '%')\n",
    "\n",
    "nb = grid_nb.best_estimator_\n",
    "np.random.seed(0)\n",
    "nb.fit(X_train, y_train)\n",
    "nb_preds = nb.predict(X_test)\n",
    "nb_accuracy = nb.score(X_test, y_test)*100\n",
    "print('Testing accuracy:', round(nb_accuracy, 4), '%')"
   ]
  },
  {
   "cell_type": "markdown",
   "id": "595e7d20",
   "metadata": {},
   "source": [
    "In the table below we see additional metrics for our Naive Bayes model including precision, recall, and f1-score."
   ]
  },
  {
   "cell_type": "code",
   "execution_count": 20,
   "id": "9ccd5df3",
   "metadata": {},
   "outputs": [
    {
     "name": "stdout",
     "output_type": "stream",
     "text": [
      "              precision    recall  f1-score   support\n",
      "\n",
      "         0.0       0.71      0.73      0.72      6932\n",
      "         1.0       0.73      0.71      0.72      7207\n",
      "\n",
      "    accuracy                           0.72     14139\n",
      "   macro avg       0.72      0.72      0.72     14139\n",
      "weighted avg       0.72      0.72      0.72     14139\n",
      "\n"
     ]
    }
   ],
   "source": [
    "print(classification_report(y_test, nb_preds))"
   ]
  },
  {
   "cell_type": "markdown",
   "id": "7ebe6455",
   "metadata": {},
   "source": [
    "We add our optimal Naive Bayes model to the `top_models` dictionary."
   ]
  },
  {
   "cell_type": "code",
   "execution_count": 21,
   "id": "590af937",
   "metadata": {},
   "outputs": [],
   "source": [
    "top_models['naive_bayes'] = nb_accuracy"
   ]
  },
  {
   "cell_type": "markdown",
   "id": "f889575b",
   "metadata": {},
   "source": [
    "---"
   ]
  },
  {
   "cell_type": "markdown",
   "id": "b50dd606",
   "metadata": {},
   "source": [
    "# Conclusion <a class=\"anchor\" id=\"end\"></a>"
   ]
  },
  {
   "cell_type": "code",
   "execution_count": 22,
   "id": "6a975c71",
   "metadata": {},
   "outputs": [],
   "source": [
    "top_models = dict(sorted(top_models.items(),key= lambda x:x[1]))"
   ]
  },
  {
   "cell_type": "code",
   "execution_count": 23,
   "id": "c012f906",
   "metadata": {},
   "outputs": [
    {
     "data": {
      "text/plain": [
       "[Text(0.5, 1.0, 'Model Accuracy'), Text(0, 0.5, 'Test accuracy (in %)')]"
      ]
     },
     "execution_count": 23,
     "metadata": {},
     "output_type": "execute_result"
    },
    {
     "data": {
      "image/png": "[encoded data removed]",
      "text/plain": [
       "<Figure size 1008x504 with 1 Axes>"
      ]
     },
     "metadata": {
      "needs_background": "light"
     },
     "output_type": "display_data"
    }
   ],
   "source": [
    "import seaborn as sns\n",
    "import matplotlib.pyplot as plt\n",
    "\n",
    "plt.figure(figsize=(14, 7))\n",
    "\n",
    "keys = list(top_models.keys())\n",
    "# get values in the same order as keys, and parse percentage values\n",
    "vals = list(top_models.values())\n",
    "ax = sns.barplot(x=keys, y=vals)\n",
    "\n",
    "# set background theme\n",
    "sns.set_style(\"whitegrid\")\n",
    "\n",
    "ax.bar_label(ax.containers[0], label_type='edge', fmt='%.4f%%')\n",
    "ax.set(title='Model Accuracy', ylabel=\"Test accuracy (in %)\")"
   ]
  },
  {
   "cell_type": "code",
   "execution_count": 24,
   "id": "e6a46007",
   "metadata": {},
   "outputs": [
    {
     "data": {
      "text/plain": [
       "[Text(0.5, 1.0, 'Neural Network Confusion Matrix'),\n",
       " Text(0.5, 16.0, 'Predicted Label'),\n",
       " Text(34.0, 0.5, 'True Label')]"
      ]
     },
     "execution_count": 24,
     "metadata": {},
     "output_type": "execute_result"
    },
    {
     "data": {
      "image/png": "[encoded data removed]",
      "text/plain": [
       "<Figure size 432x288 with 2 Axes>"
      ]
     },
     "metadata": {},
     "output_type": "display_data"
    }
   ],
   "source": [
    "cf_matrix = tf.math.confusion_matrix(labels=y_test, predictions=preds)\n",
    "\n",
    "import seaborn as sns\n",
    "ax = sns.heatmap(cf_matrix, \n",
    "                 annot=True,\n",
    "                 cmap='Blues')\n",
    "\n",
    "ax.set(title=\"Neural Network Confusion Matrix\", \n",
    "       xlabel='Predicted Label', \n",
    "       ylabel='True Label')"
   ]
  },
  {
   "cell_type": "code",
   "execution_count": 25,
   "id": "4bff8b85",
   "metadata": {},
   "outputs": [
    {
     "data": {
      "text/plain": [
       "[Text(0.5, 1.0, 'Naive Bayes Confusion Matrix'),\n",
       " Text(0.5, 16.0, 'Predicted Label'),\n",
       " Text(34.0, 0.5, 'True Label')]"
      ]
     },
     "execution_count": 25,
     "metadata": {},
     "output_type": "execute_result"
    },
    {
     "data": {
      "image/png": "[encoded data removed]",
      "text/plain": [
       "<Figure size 432x288 with 2 Axes>"
      ]
     },
     "metadata": {},
     "output_type": "display_data"
    }
   ],
   "source": [
    "cf_matrix = tf.math.confusion_matrix(labels=y_test, predictions=nb_preds)\n",
    "\n",
    "import seaborn as sns\n",
    "ax = sns.heatmap(cf_matrix, \n",
    "                 annot=True,\n",
    "                 cmap='Blues')\n",
    "\n",
    "ax.set(title=\"Naive Bayes Confusion Matrix\", \n",
    "       xlabel='Predicted Label', \n",
    "       ylabel='True Label')"
   ]
  },
  {
   "cell_type": "markdown",
   "id": "4523cdfc",
   "metadata": {},
   "source": [
    "In conclusion, from the barchart above we can see that the optimal Neural Network model performed better in predicting whether a person had diabetes or not, compared to the optimal Naive Bayes model with a test accuracy of 75.7%. In addition, the neural network model had a higher sensitivity rate, meaning this model could correctly predict the people that were prone diabetes. On the other hand, the Naive Bayes model had a higher specificity rate, meaning this model could correctly predict people those that were not prone to diabetes."
   ]
  },
  {
   "cell_type": "markdown",
   "id": "368ae4ec",
   "metadata": {},
   "source": [
    "As specified earlier, the optimal neural network model has a test accuracy of 75.7% and includes the following hyperparameters:\n",
    "- number of hidden layers = 1\n",
    "- number of nodes = 100\n",
    "- learning rate = 0.001\n",
    "- activation function = softmax\n",
    "- optimizer function = Adam\n",
    "- loss function = SparseCategoricalEntropy\n",
    "- number of epochs = 50"
   ]
  }
 ],
 "metadata": {
  "kernelspec": {
   "display_name": "Python 3 (ipykernel)",
   "language": "python",
   "name": "python3"
  },
  "language_info": {
   "codemirror_mode": {
    "name": "ipython",
    "version": 3
   },
   "file_extension": ".py",
   "mimetype": "text/x-python",
   "name": "python",
   "nbconvert_exporter": "python",
   "pygments_lexer": "ipython3",
   "version": "3.9.7"
  }
 },
 "nbformat": 4,
 "nbformat_minor": 5
}
