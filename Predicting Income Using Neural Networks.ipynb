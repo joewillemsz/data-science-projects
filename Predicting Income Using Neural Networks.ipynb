{
 "cells": [
  {
   "cell_type": "markdown",
   "id": "98b24b5c",
   "metadata": {},
   "source": [
    "# Predicting Income Using Neural Networks\n",
    "\n",
    "### Name: Joseph Willemsz\n",
    "\n",
    "### Date: May 9, 2022"
   ]
  },
  {
   "cell_type": "markdown",
   "id": "03d78c26",
   "metadata": {},
   "source": [
    "#### <u>Income Evaluation</u>\n",
    "\n",
    "https://www.kaggle.com/datasets/lodetomasi1995/income-classification?sort=published"
   ]
  },
  {
   "cell_type": "markdown",
   "id": "efee7cde",
   "metadata": {},
   "source": [
    "In this lab we're using the income dataset where we want to use the other features to predict whether someone is making over $50,000 per year or not.\n",
    "\n",
    "**Goal:** Predict income using Neural Networks and at least least two other models."
   ]
  },
  {
   "cell_type": "markdown",
   "id": "5ba561ef",
   "metadata": {},
   "source": [
    "# Table of Contents\n",
    "* [Data Preparation & Pre-Processing](#one)\n",
    "* [Machine Learning Models](#two)\n",
    "    * [Random Forest](#rf)\n",
    "    * [XGBoosting](#xgb)\n",
    "    * [Naive Bayes](#nb)\n",
    "    * [Neural Network](#nn)\n",
    "* [Conclusion](#three)"
   ]
  },
  {
   "cell_type": "markdown",
   "id": "51a55845",
   "metadata": {},
   "source": [
    "---"
   ]
  },
  {
   "cell_type": "markdown",
   "id": "4239e95a",
   "metadata": {},
   "source": [
    "# Data Preparation & Pre-Processing <a class=\"anchor\" id=\"one\"></a>"
   ]
  },
  {
   "cell_type": "markdown",
   "id": "b4358601",
   "metadata": {},
   "source": [
    "First we import the data as `income_data` and drop the missing values."
   ]
  },
  {
   "cell_type": "code",
   "execution_count": 1,
   "id": "177fe491",
   "metadata": {},
   "outputs": [],
   "source": [
    "import pandas as pd\n",
    "import numpy as np\n",
    "\n",
    "income_data = pd.read_csv(\"Data/income_evaluation.csv\").dropna()"
   ]
  },
  {
   "cell_type": "markdown",
   "id": "188faa19",
   "metadata": {},
   "source": [
    "Then we clean the variable names using our custom function `clean_names()`"
   ]
  },
  {
   "cell_type": "code",
   "execution_count": 2,
   "id": "7f02dab0",
   "metadata": {},
   "outputs": [],
   "source": [
    "from janitor import clean_names\n",
    "\n",
    "names = []\n",
    "for i in range(len(income_data.columns)):\n",
    "    names.append(clean_names(income_data.columns[i]))\n",
    "\n",
    "income_data.columns = names"
   ]
  },
  {
   "cell_type": "code",
   "execution_count": 3,
   "id": "22e3159a",
   "metadata": {
    "scrolled": false
   },
   "outputs": [
    {
     "data": {
      "text/html": [
       "<div>\n",
       "<style scoped>\n",
       "    .dataframe tbody tr th:only-of-type {\n",
       "        vertical-align: middle;\n",
       "    }\n",
       "\n",
       "    .dataframe tbody tr th {\n",
       "        vertical-align: top;\n",
       "    }\n",
       "\n",
       "    .dataframe thead th {\n",
       "        text-align: right;\n",
       "    }\n",
       "</style>\n",
       "<table border=\"1\" class=\"dataframe\">\n",
       "  <thead>\n",
       "    <tr style=\"text-align: right;\">\n",
       "      <th></th>\n",
       "      <th>age</th>\n",
       "      <th>workclass</th>\n",
       "      <th>fnlwgt</th>\n",
       "      <th>education</th>\n",
       "      <th>education_num</th>\n",
       "      <th>marital_status</th>\n",
       "      <th>occupation</th>\n",
       "      <th>relationship</th>\n",
       "      <th>race</th>\n",
       "      <th>sex</th>\n",
       "      <th>capital_gain</th>\n",
       "      <th>capital_loss</th>\n",
       "      <th>hours_per_week</th>\n",
       "      <th>native_country</th>\n",
       "      <th>income</th>\n",
       "    </tr>\n",
       "  </thead>\n",
       "  <tbody>\n",
       "    <tr>\n",
       "      <th>0</th>\n",
       "      <td>39</td>\n",
       "      <td>State-gov</td>\n",
       "      <td>77516</td>\n",
       "      <td>Bachelors</td>\n",
       "      <td>13</td>\n",
       "      <td>Never-married</td>\n",
       "      <td>Adm-clerical</td>\n",
       "      <td>Not-in-family</td>\n",
       "      <td>White</td>\n",
       "      <td>Male</td>\n",
       "      <td>2174</td>\n",
       "      <td>0</td>\n",
       "      <td>40</td>\n",
       "      <td>United-States</td>\n",
       "      <td>&lt;=50K</td>\n",
       "    </tr>\n",
       "    <tr>\n",
       "      <th>1</th>\n",
       "      <td>50</td>\n",
       "      <td>Self-emp-not-inc</td>\n",
       "      <td>83311</td>\n",
       "      <td>Bachelors</td>\n",
       "      <td>13</td>\n",
       "      <td>Married-civ-spouse</td>\n",
       "      <td>Exec-managerial</td>\n",
       "      <td>Husband</td>\n",
       "      <td>White</td>\n",
       "      <td>Male</td>\n",
       "      <td>0</td>\n",
       "      <td>0</td>\n",
       "      <td>13</td>\n",
       "      <td>United-States</td>\n",
       "      <td>&lt;=50K</td>\n",
       "    </tr>\n",
       "    <tr>\n",
       "      <th>2</th>\n",
       "      <td>38</td>\n",
       "      <td>Private</td>\n",
       "      <td>215646</td>\n",
       "      <td>HS-grad</td>\n",
       "      <td>9</td>\n",
       "      <td>Divorced</td>\n",
       "      <td>Handlers-cleaners</td>\n",
       "      <td>Not-in-family</td>\n",
       "      <td>White</td>\n",
       "      <td>Male</td>\n",
       "      <td>0</td>\n",
       "      <td>0</td>\n",
       "      <td>40</td>\n",
       "      <td>United-States</td>\n",
       "      <td>&lt;=50K</td>\n",
       "    </tr>\n",
       "    <tr>\n",
       "      <th>3</th>\n",
       "      <td>53</td>\n",
       "      <td>Private</td>\n",
       "      <td>234721</td>\n",
       "      <td>11th</td>\n",
       "      <td>7</td>\n",
       "      <td>Married-civ-spouse</td>\n",
       "      <td>Handlers-cleaners</td>\n",
       "      <td>Husband</td>\n",
       "      <td>Black</td>\n",
       "      <td>Male</td>\n",
       "      <td>0</td>\n",
       "      <td>0</td>\n",
       "      <td>40</td>\n",
       "      <td>United-States</td>\n",
       "      <td>&lt;=50K</td>\n",
       "    </tr>\n",
       "    <tr>\n",
       "      <th>4</th>\n",
       "      <td>28</td>\n",
       "      <td>Private</td>\n",
       "      <td>338409</td>\n",
       "      <td>Bachelors</td>\n",
       "      <td>13</td>\n",
       "      <td>Married-civ-spouse</td>\n",
       "      <td>Prof-specialty</td>\n",
       "      <td>Wife</td>\n",
       "      <td>Black</td>\n",
       "      <td>Female</td>\n",
       "      <td>0</td>\n",
       "      <td>0</td>\n",
       "      <td>40</td>\n",
       "      <td>Cuba</td>\n",
       "      <td>&lt;=50K</td>\n",
       "    </tr>\n",
       "    <tr>\n",
       "      <th>...</th>\n",
       "      <td>...</td>\n",
       "      <td>...</td>\n",
       "      <td>...</td>\n",
       "      <td>...</td>\n",
       "      <td>...</td>\n",
       "      <td>...</td>\n",
       "      <td>...</td>\n",
       "      <td>...</td>\n",
       "      <td>...</td>\n",
       "      <td>...</td>\n",
       "      <td>...</td>\n",
       "      <td>...</td>\n",
       "      <td>...</td>\n",
       "      <td>...</td>\n",
       "      <td>...</td>\n",
       "    </tr>\n",
       "    <tr>\n",
       "      <th>32556</th>\n",
       "      <td>27</td>\n",
       "      <td>Private</td>\n",
       "      <td>257302</td>\n",
       "      <td>Assoc-acdm</td>\n",
       "      <td>12</td>\n",
       "      <td>Married-civ-spouse</td>\n",
       "      <td>Tech-support</td>\n",
       "      <td>Wife</td>\n",
       "      <td>White</td>\n",
       "      <td>Female</td>\n",
       "      <td>0</td>\n",
       "      <td>0</td>\n",
       "      <td>38</td>\n",
       "      <td>United-States</td>\n",
       "      <td>&lt;=50K</td>\n",
       "    </tr>\n",
       "    <tr>\n",
       "      <th>32557</th>\n",
       "      <td>40</td>\n",
       "      <td>Private</td>\n",
       "      <td>154374</td>\n",
       "      <td>HS-grad</td>\n",
       "      <td>9</td>\n",
       "      <td>Married-civ-spouse</td>\n",
       "      <td>Machine-op-inspct</td>\n",
       "      <td>Husband</td>\n",
       "      <td>White</td>\n",
       "      <td>Male</td>\n",
       "      <td>0</td>\n",
       "      <td>0</td>\n",
       "      <td>40</td>\n",
       "      <td>United-States</td>\n",
       "      <td>&gt;50K</td>\n",
       "    </tr>\n",
       "    <tr>\n",
       "      <th>32558</th>\n",
       "      <td>58</td>\n",
       "      <td>Private</td>\n",
       "      <td>151910</td>\n",
       "      <td>HS-grad</td>\n",
       "      <td>9</td>\n",
       "      <td>Widowed</td>\n",
       "      <td>Adm-clerical</td>\n",
       "      <td>Unmarried</td>\n",
       "      <td>White</td>\n",
       "      <td>Female</td>\n",
       "      <td>0</td>\n",
       "      <td>0</td>\n",
       "      <td>40</td>\n",
       "      <td>United-States</td>\n",
       "      <td>&lt;=50K</td>\n",
       "    </tr>\n",
       "    <tr>\n",
       "      <th>32559</th>\n",
       "      <td>22</td>\n",
       "      <td>Private</td>\n",
       "      <td>201490</td>\n",
       "      <td>HS-grad</td>\n",
       "      <td>9</td>\n",
       "      <td>Never-married</td>\n",
       "      <td>Adm-clerical</td>\n",
       "      <td>Own-child</td>\n",
       "      <td>White</td>\n",
       "      <td>Male</td>\n",
       "      <td>0</td>\n",
       "      <td>0</td>\n",
       "      <td>20</td>\n",
       "      <td>United-States</td>\n",
       "      <td>&lt;=50K</td>\n",
       "    </tr>\n",
       "    <tr>\n",
       "      <th>32560</th>\n",
       "      <td>52</td>\n",
       "      <td>Self-emp-inc</td>\n",
       "      <td>287927</td>\n",
       "      <td>HS-grad</td>\n",
       "      <td>9</td>\n",
       "      <td>Married-civ-spouse</td>\n",
       "      <td>Exec-managerial</td>\n",
       "      <td>Wife</td>\n",
       "      <td>White</td>\n",
       "      <td>Female</td>\n",
       "      <td>15024</td>\n",
       "      <td>0</td>\n",
       "      <td>40</td>\n",
       "      <td>United-States</td>\n",
       "      <td>&gt;50K</td>\n",
       "    </tr>\n",
       "  </tbody>\n",
       "</table>\n",
       "<p>32561 rows × 15 columns</p>\n",
       "</div>"
      ],
      "text/plain": [
       "       age          workclass  fnlwgt    education  education_num  \\\n",
       "0       39          State-gov   77516    Bachelors             13   \n",
       "1       50   Self-emp-not-inc   83311    Bachelors             13   \n",
       "2       38            Private  215646      HS-grad              9   \n",
       "3       53            Private  234721         11th              7   \n",
       "4       28            Private  338409    Bachelors             13   \n",
       "...    ...                ...     ...          ...            ...   \n",
       "32556   27            Private  257302   Assoc-acdm             12   \n",
       "32557   40            Private  154374      HS-grad              9   \n",
       "32558   58            Private  151910      HS-grad              9   \n",
       "32559   22            Private  201490      HS-grad              9   \n",
       "32560   52       Self-emp-inc  287927      HS-grad              9   \n",
       "\n",
       "            marital_status          occupation    relationship    race  \\\n",
       "0            Never-married        Adm-clerical   Not-in-family   White   \n",
       "1       Married-civ-spouse     Exec-managerial         Husband   White   \n",
       "2                 Divorced   Handlers-cleaners   Not-in-family   White   \n",
       "3       Married-civ-spouse   Handlers-cleaners         Husband   Black   \n",
       "4       Married-civ-spouse      Prof-specialty            Wife   Black   \n",
       "...                    ...                 ...             ...     ...   \n",
       "32556   Married-civ-spouse        Tech-support            Wife   White   \n",
       "32557   Married-civ-spouse   Machine-op-inspct         Husband   White   \n",
       "32558              Widowed        Adm-clerical       Unmarried   White   \n",
       "32559        Never-married        Adm-clerical       Own-child   White   \n",
       "32560   Married-civ-spouse     Exec-managerial            Wife   White   \n",
       "\n",
       "           sex  capital_gain  capital_loss  hours_per_week  native_country  \\\n",
       "0         Male          2174             0              40   United-States   \n",
       "1         Male             0             0              13   United-States   \n",
       "2         Male             0             0              40   United-States   \n",
       "3         Male             0             0              40   United-States   \n",
       "4       Female             0             0              40            Cuba   \n",
       "...        ...           ...           ...             ...             ...   \n",
       "32556   Female             0             0              38   United-States   \n",
       "32557     Male             0             0              40   United-States   \n",
       "32558   Female             0             0              40   United-States   \n",
       "32559     Male             0             0              20   United-States   \n",
       "32560   Female         15024             0              40   United-States   \n",
       "\n",
       "       income  \n",
       "0       <=50K  \n",
       "1       <=50K  \n",
       "2       <=50K  \n",
       "3       <=50K  \n",
       "4       <=50K  \n",
       "...       ...  \n",
       "32556   <=50K  \n",
       "32557    >50K  \n",
       "32558   <=50K  \n",
       "32559   <=50K  \n",
       "32560    >50K  \n",
       "\n",
       "[32561 rows x 15 columns]"
      ]
     },
     "execution_count": 3,
     "metadata": {},
     "output_type": "execute_result"
    }
   ],
   "source": [
    "income_data"
   ]
  },
  {
   "cell_type": "markdown",
   "id": "9dafe769",
   "metadata": {},
   "source": [
    "We can see that our values for `income` are character strings, but we need to convert them to numeric integer values to run our machine learning models. The `y_full` dataset contains the encoded only the encoded target variable `income`."
   ]
  },
  {
   "cell_type": "code",
   "execution_count": 5,
   "id": "71b6eb09",
   "metadata": {},
   "outputs": [],
   "source": [
    "from sklearn.preprocessing import LabelEncoder\n",
    "\n",
    "le = LabelEncoder()\n",
    "y_full = income_data[\"income\"]\n",
    "y_full = le.fit_transform(y_full)"
   ]
  },
  {
   "cell_type": "markdown",
   "id": "1dbe77d6",
   "metadata": {},
   "source": [
    "The dataset `X_full` contains only the predictor varibles, where categorical variables turn into dummy variables. "
   ]
  },
  {
   "cell_type": "code",
   "execution_count": 6,
   "id": "82cd4224",
   "metadata": {},
   "outputs": [],
   "source": [
    "X_full = income_data.drop('income', axis='columns')\n",
    "X_full = pd.get_dummies(X_full)\n",
    "X_full.columns = X_full.columns.str.replace(' ', '')"
   ]
  },
  {
   "cell_type": "markdown",
   "id": "a3336451",
   "metadata": {},
   "source": [
    "Here we standardize the observations in the predictor dataset `X_full`."
   ]
  },
  {
   "cell_type": "code",
   "execution_count": 7,
   "id": "7316baaf",
   "metadata": {},
   "outputs": [],
   "source": [
    "from sklearn.preprocessing import MaxAbsScaler\n",
    "\n",
    "scaler = MaxAbsScaler()\n",
    "scaler.fit(X_full)\n",
    "scaled = scaler.transform(X_full)\n",
    "X_full = pd.DataFrame(scaled, columns=X_full.columns)"
   ]
  },
  {
   "cell_type": "markdown",
   "id": "05bf8af1",
   "metadata": {},
   "source": [
    "We want to predict `income` in the exercise. However, from the table below we see that the data is imbalanced with 24,720 observations where `income` < \\$50,000 and 7,841 observations where `income` > \\$50,000."
   ]
  },
  {
   "cell_type": "code",
   "execution_count": 18,
   "id": "6daa1ec0",
   "metadata": {},
   "outputs": [
    {
     "data": {
      "text/plain": [
       " <=50K    24720\n",
       " >50K      7841\n",
       "Name: income, dtype: int64"
      ]
     },
     "execution_count": 18,
     "metadata": {},
     "output_type": "execute_result"
    }
   ],
   "source": [
    "income_data.income.value_counts()"
   ]
  },
  {
   "cell_type": "markdown",
   "id": "3eecd00c",
   "metadata": {},
   "source": [
    "In order to fix this issue of imbalanced data, we implement random oversampling to have an equal number of observations within the two `income` target variable classes."
   ]
  },
  {
   "cell_type": "code",
   "execution_count": 13,
   "id": "50b21864",
   "metadata": {},
   "outputs": [],
   "source": [
    "from imblearn.over_sampling import RandomOverSampler\n",
    "\n",
    "np.random.seed(0)\n",
    "ros = RandomOverSampler(sampling_strategy=1) #float\n",
    "\n",
    "X, y = ros.fit_resample(X_full, y_full)"
   ]
  },
  {
   "cell_type": "code",
   "execution_count": 9,
   "id": "8c57ea07",
   "metadata": {},
   "outputs": [],
   "source": [
    "# from imblearn.under_sampling import RandomUnderSampler\n",
    "\n",
    "# np.random.seed(0)\n",
    "# rus = RandomUnderSampler(sampling_strategy='auto') #float\n",
    "\n",
    "# X, y = rus.fit_resample(X_full, y_full)"
   ]
  },
  {
   "cell_type": "markdown",
   "id": "e65891d0",
   "metadata": {},
   "source": [
    "Here we split our balanced data into training and testing datasets in order to determine the training and testing accuracies of our models."
   ]
  },
  {
   "cell_type": "code",
   "execution_count": 10,
   "id": "755f934c",
   "metadata": {},
   "outputs": [],
   "source": [
    "from sklearn.model_selection import train_test_split\n",
    "X_train, X_test, y_train, y_test = train_test_split(X, y, test_size=0.20, random_state=0)"
   ]
  },
  {
   "cell_type": "code",
   "execution_count": 23,
   "id": "76f1e67d",
   "metadata": {},
   "outputs": [],
   "source": [
    "# remove warnings\n",
    "import warnings\n",
    "warnings.filterwarnings('ignore')"
   ]
  },
  {
   "cell_type": "markdown",
   "id": "4820ef93",
   "metadata": {},
   "source": [
    "---"
   ]
  },
  {
   "cell_type": "markdown",
   "id": "87f88529",
   "metadata": {},
   "source": [
    "# Machine Learning Models <a class=\"anchor\" id=\"two\"></a>"
   ]
  },
  {
   "cell_type": "markdown",
   "id": "1acb9d54",
   "metadata": {},
   "source": [
    "Here we import the necessary Python functions for our models."
   ]
  },
  {
   "cell_type": "code",
   "execution_count": 2,
   "id": "7b2d57cf",
   "metadata": {},
   "outputs": [],
   "source": [
    "from sklearn.neural_network import MLPClassifier\n",
    "from sklearn.model_selection import GridSearchCV\n",
    "from sklearn.metrics import accuracy_score\n",
    "from xgboost import XGBClassifier\n",
    "from sklearn.ensemble import RandomForestClassifier\n",
    "from sklearn.naive_bayes import GaussianNB"
   ]
  },
  {
   "cell_type": "markdown",
   "id": "969bd3b3",
   "metadata": {},
   "source": [
    "## <u>Random Forest</u> <a class=\"anchor\" id=\"rf\"></a>"
   ]
  },
  {
   "cell_type": "code",
   "execution_count": 13,
   "id": "14444bf4",
   "metadata": {},
   "outputs": [],
   "source": [
    "# define search space\n",
    "params = dict()\n",
    "params['n_estimators'] = [50, 100, 500, 1000]\n",
    "params['max_samples'] = np.arange(0.1, 1.1, 0.1)"
   ]
  },
  {
   "cell_type": "code",
   "execution_count": 14,
   "id": "7aac159d",
   "metadata": {},
   "outputs": [],
   "source": [
    "np.random.seed(0)\n",
    "rf_model = RandomForestClassifier()\n",
    "grid_rf = GridSearchCV(estimator = rf_model,\n",
    "                  param_grid = params,\n",
    "                  scoring = 'accuracy',\n",
    "                  cv = [(slice(None), slice(None))],\n",
    "                  verbose = 1)"
   ]
  },
  {
   "cell_type": "code",
   "execution_count": 15,
   "id": "955f6121",
   "metadata": {},
   "outputs": [
    {
     "name": "stdout",
     "output_type": "stream",
     "text": [
      "Fitting 1 folds for each of 40 candidates, totalling 40 fits\n",
      "Wall time: 11min 28s\n"
     ]
    },
    {
     "data": {
      "text/plain": [
       "GridSearchCV(cv=[(slice(None, None, None), slice(None, None, None))],\n",
       "             estimator=RandomForestClassifier(),\n",
       "             param_grid={'max_samples': array([0.1, 0.2, 0.3, 0.4, 0.5, 0.6, 0.7, 0.8, 0.9, 1. ]),\n",
       "                         'n_estimators': [50, 100, 500, 1000]},\n",
       "             scoring='accuracy', verbose=1)"
      ]
     },
     "execution_count": 15,
     "metadata": {},
     "output_type": "execute_result"
    }
   ],
   "source": [
    "%%time\n",
    "np.random.seed(0)\n",
    "grid_rf.fit(X_train, y_train)"
   ]
  },
  {
   "cell_type": "code",
   "execution_count": 16,
   "id": "fea90b35",
   "metadata": {},
   "outputs": [
    {
     "name": "stdout",
     "output_type": "stream",
     "text": [
      "Optimal Model: RandomForestClassifier(max_samples=0.8, n_estimators=1000)\n",
      "Training accuracy: 99.9975 %\n",
      "Testing accuracy: 92.9409 %\n"
     ]
    }
   ],
   "source": [
    "print('Optimal Model:', grid_rf.best_estimator_)\n",
    "print('Training accuracy:', round(grid_rf.best_score_*100, 4), \"%\")\n",
    "\n",
    "rf = grid_rf.best_estimator_\n",
    "np.random.seed(0)\n",
    "rf.fit(X_train, y_train)\n",
    "y_hat = rf.predict(X_test)\n",
    "rf_accuracy = accuracy_score(y_test, y_hat)*100\n",
    "print('Testing accuracy:', round(rf_accuracy, 4), '%')"
   ]
  },
  {
   "cell_type": "markdown",
   "id": "d9100bc0",
   "metadata": {},
   "source": [
    "Our optimal Random Forest model had a training accuracy of 92% with the following hyperparameters:\n",
    "- `max_samples` = 0.8\n",
    "- `n_estimators` = 1000"
   ]
  },
  {
   "cell_type": "code",
   "execution_count": 7,
   "id": "35440258",
   "metadata": {},
   "outputs": [],
   "source": [
    "top_models = dict()\n",
    "top_models['random_forest'] = rf_accuracy"
   ]
  },
  {
   "cell_type": "markdown",
   "id": "9c0c2322",
   "metadata": {},
   "source": [
    "## <u>XGBoosting</u> <a class=\"anchor\" id=\"xgb\"></a>"
   ]
  },
  {
   "cell_type": "code",
   "execution_count": 18,
   "id": "0ff806d6",
   "metadata": {},
   "outputs": [],
   "source": [
    "params = dict()\n",
    "params['n_estimators'] = [50, 100, 500, 1000]\n",
    "params['learning_rate'] = np.arange(0.1, 1.1, 0.1).round(1)"
   ]
  },
  {
   "cell_type": "code",
   "execution_count": 19,
   "id": "e22b44a9",
   "metadata": {},
   "outputs": [],
   "source": [
    "np.random.seed(0)\n",
    "xgb_model = XGBClassifier(eval_metric='mlogloss', use_label_encoder=False, random_state=0)\n",
    "grid_xgb = GridSearchCV(estimator = xgb_model,\n",
    "                  param_grid = params,\n",
    "                  scoring = 'accuracy',\n",
    "                  cv = [(slice(None), slice(None))],\n",
    "                  verbose = 1)"
   ]
  },
  {
   "cell_type": "code",
   "execution_count": 20,
   "id": "9f0c46a7",
   "metadata": {},
   "outputs": [
    {
     "name": "stdout",
     "output_type": "stream",
     "text": [
      "Fitting 1 folds for each of 40 candidates, totalling 40 fits\n"
     ]
    },
    {
     "data": {
      "text/plain": [
       "GridSearchCV(cv=[(slice(None, None, None), slice(None, None, None))],\n",
       "             estimator=XGBClassifier(base_score=None, booster=None,\n",
       "                                     colsample_bylevel=None,\n",
       "                                     colsample_bynode=None,\n",
       "                                     colsample_bytree=None,\n",
       "                                     enable_categorical=False,\n",
       "                                     eval_metric='mlogloss', gamma=None,\n",
       "                                     gpu_id=None, importance_type=None,\n",
       "                                     interaction_constraints=None,\n",
       "                                     learning_rate=None, max_delta_step=None,\n",
       "                                     max_de...\n",
       "                                     n_estimators=100, n_jobs=None,\n",
       "                                     num_parallel_tree=None, predictor=None,\n",
       "                                     random_state=0, reg_alpha=None,\n",
       "                                     reg_lambda=None, scale_pos_weight=None,\n",
       "                                     subsample=None, tree_method=None,\n",
       "                                     use_label_encoder=False,\n",
       "                                     validate_parameters=None, verbosity=None),\n",
       "             param_grid={'learning_rate': array([0.1, 0.2, 0.3, 0.4, 0.5, 0.6, 0.7, 0.8, 0.9, 1. ]),\n",
       "                         'n_estimators': [50, 100, 500, 1000]},\n",
       "             scoring='accuracy', verbose=1)"
      ]
     },
     "execution_count": 20,
     "metadata": {},
     "output_type": "execute_result"
    }
   ],
   "source": [
    "np.random.seed(0)\n",
    "grid_xgb.fit(X_train, y_train)"
   ]
  },
  {
   "cell_type": "code",
   "execution_count": 21,
   "id": "faf45003",
   "metadata": {},
   "outputs": [
    {
     "name": "stdout",
     "output_type": "stream",
     "text": [
      "Best hyperparameters: {'learning_rate': 0.7, 'n_estimators': 1000}\n",
      "Training accuracy: 100.0 %\n",
      "Testing accuracy: 93.1837 %\n"
     ]
    }
   ],
   "source": [
    "print('Best hyperparameters:', grid_xgb.best_params_)\n",
    "print('Training accuracy:', round(grid_xgb.best_score_, 4)*100, '%')\n",
    "\n",
    "xgb = grid_xgb.best_estimator_\n",
    "np.random.seed(0)\n",
    "xgb.fit(X_train, y_train)\n",
    "y_hat = xgb.predict(X_test)\n",
    "xgb_accuracy = accuracy_score(y_test, y_hat)*100\n",
    "print('Testing accuracy:', round(xgb_accuracy, 4), '%')"
   ]
  },
  {
   "cell_type": "markdown",
   "id": "03fa70ee",
   "metadata": {},
   "source": [
    "Our optimal XGBoosting model had a training accuracy of 93% with the following hyperparameters:\n",
    "- `learning_rate` = 0.7\n",
    "- `n_estimators` = 1000"
   ]
  },
  {
   "cell_type": "code",
   "execution_count": 22,
   "id": "f6f4a3f4",
   "metadata": {},
   "outputs": [],
   "source": [
    "top_models['xgboosting'] = xgb_accuracy"
   ]
  },
  {
   "cell_type": "markdown",
   "id": "adfc7034",
   "metadata": {},
   "source": [
    "## <u>Naive Bayes</u> <a class=\"anchor\" id=\"nb\"></a>"
   ]
  },
  {
   "cell_type": "code",
   "execution_count": 3,
   "id": "7863f574",
   "metadata": {},
   "outputs": [],
   "source": [
    "# define search space\n",
    "params = dict()\n",
    "params['var_smoothing'] = [1e-10, 1e-09, 1e-08, 1e-07, 1e-06, 1e-05, 1e-04, 1e-03, 1e-02, 1e-01]"
   ]
  },
  {
   "cell_type": "code",
   "execution_count": 4,
   "id": "6d8f07cb",
   "metadata": {},
   "outputs": [],
   "source": [
    "nb_model = GaussianNB()"
   ]
  },
  {
   "cell_type": "code",
   "execution_count": 5,
   "id": "8ef37c67",
   "metadata": {},
   "outputs": [],
   "source": [
    "np.random.seed(0)\n",
    "grid_nb = GridSearchCV(estimator = nb_model,\n",
    "                  param_grid = params,\n",
    "                  scoring = 'accuracy',\n",
    "                  cv = [(slice(None), slice(None))],\n",
    "                  verbose = 1)"
   ]
  },
  {
   "cell_type": "code",
   "execution_count": 6,
   "id": "12cfac47",
   "metadata": {},
   "outputs": [
    {
     "name": "stdout",
     "output_type": "stream",
     "text": [
      "Fitting 1 folds for each of 10 candidates, totalling 10 fits\n",
      "Wall time: 3.29 s\n"
     ]
    },
    {
     "data": {
      "text/plain": [
       "GridSearchCV(cv=[(slice(None, None, None), slice(None, None, None))],\n",
       "             estimator=GaussianNB(),\n",
       "             param_grid={'var_smoothing': [1e-10, 1e-09, 1e-08, 1e-07, 1e-06,\n",
       "                                           1e-05, 0.0001, 0.001, 0.01, 0.1]},\n",
       "             scoring='accuracy', verbose=1)"
      ]
     },
     "execution_count": 6,
     "metadata": {},
     "output_type": "execute_result"
    }
   ],
   "source": [
    "%%time\n",
    "np.random.seed(0)\n",
    "grid_nb.fit(X_train, y_train)"
   ]
  },
  {
   "cell_type": "code",
   "execution_count": 7,
   "id": "e3073f89",
   "metadata": {},
   "outputs": [
    {
     "name": "stdout",
     "output_type": "stream",
     "text": [
      "Best hyperparameters: {'var_smoothing': 0.1}\n",
      "Training accuracy: 78.64 %\n",
      "Testing accuracy: 79.1768 %\n"
     ]
    }
   ],
   "source": [
    "print('Best hyperparameters:', grid_nb.best_params_)\n",
    "print('Training accuracy:', round(grid_nb.best_score_, 4)*100, '%')\n",
    "\n",
    "nb = grid_nb.best_estimator_\n",
    "np.random.seed(0)\n",
    "nb.fit(X_train, y_train)\n",
    "nb_accuracy = nb.score(X_test, y_test)*100\n",
    "print('Testing accuracy:', round(nb_accuracy, 4), '%')"
   ]
  },
  {
   "cell_type": "markdown",
   "id": "dd532ed6",
   "metadata": {},
   "source": [
    "Our optimal Naive Bayes model had a training accuracy of 79% with the following hyperparameters:\n",
    "- `var_smoothing` = 0.1"
   ]
  },
  {
   "cell_type": "code",
   "execution_count": 8,
   "id": "c3f71ac0",
   "metadata": {},
   "outputs": [],
   "source": [
    "top_models[\"naive_bayes\"] = nb_accuracy"
   ]
  },
  {
   "cell_type": "markdown",
   "id": "25534a72",
   "metadata": {},
   "source": [
    "## <u>Neural Network</u> <a class=\"anchor\" id=\"nn\"></a>"
   ]
  },
  {
   "cell_type": "code",
   "execution_count": 23,
   "id": "8f7fffd7",
   "metadata": {},
   "outputs": [],
   "source": [
    "params = dict()\n",
    "params['activation'] = ['identity', 'logistic', 'tanh', 'relu']\n",
    "params['hidden_layer_sizes'] = np.arange(5, 105, 5)\n",
    "params['learning_rate_init'] = [0.001, 0.01, 0.1, 1]\n",
    "#params['max_iter'] = [100, 200, 300, 400, 500]"
   ]
  },
  {
   "cell_type": "code",
   "execution_count": 24,
   "id": "a839f01c",
   "metadata": {},
   "outputs": [],
   "source": [
    "np.random.seed(0)\n",
    "grid_nn = GridSearchCV(estimator = MLPClassifier(random_state=0),\n",
    "                  param_grid = params,\n",
    "                  scoring = 'accuracy',\n",
    "                  cv = [(slice(None), slice(None))],\n",
    "                  verbose = 1)"
   ]
  },
  {
   "cell_type": "code",
   "execution_count": 25,
   "id": "e70b2bc7",
   "metadata": {
    "scrolled": true
   },
   "outputs": [
    {
     "name": "stdout",
     "output_type": "stream",
     "text": [
      "Fitting 1 folds for each of 320 candidates, totalling 320 fits\n",
      "Wall time: 1h 36min 44s\n"
     ]
    },
    {
     "data": {
      "text/plain": [
       "GridSearchCV(cv=[(slice(None, None, None), slice(None, None, None))],\n",
       "             estimator=MLPClassifier(random_state=0),\n",
       "             param_grid={'activation': ['identity', 'logistic', 'tanh', 'relu'],\n",
       "                         'hidden_layer_sizes': array([  5,  10,  15,  20,  25,  30,  35,  40,  45,  50,  55,  60,  65,\n",
       "        70,  75,  80,  85,  90,  95, 100]),\n",
       "                         'learning_rate_init': [0.001, 0.01, 0.1, 1]},\n",
       "             scoring='accuracy', verbose=1)"
      ]
     },
     "execution_count": 25,
     "metadata": {},
     "output_type": "execute_result"
    }
   ],
   "source": [
    "%%time\n",
    "np.random.seed(0)\n",
    "grid_nn.fit(X_train, y_train)"
   ]
  },
  {
   "cell_type": "code",
   "execution_count": 26,
   "id": "f087a2ce",
   "metadata": {},
   "outputs": [
    {
     "name": "stdout",
     "output_type": "stream",
     "text": [
      "Best hyperparameters: {'activation': 'logistic', 'hidden_layer_sizes': 90, 'learning_rate_init': 0.01}\n",
      "Training accuracy: 90.1446\n",
      "Testing accuracy: 87.1764\n"
     ]
    }
   ],
   "source": [
    "print('Best hyperparameters:', grid_nn.best_params_)\n",
    "print('Training accuracy:', round(grid_nn.best_score_*100, 4))\n",
    "\n",
    "nn = grid_nn.best_estimator_\n",
    "np.random.seed(0)\n",
    "nn.fit(X_train, y_train)\n",
    "nn_accuracy = nn.score(X_test, y_test)*100\n",
    "print('Testing accuracy:', round(nn_accuracy, 4))"
   ]
  },
  {
   "cell_type": "markdown",
   "id": "dd7eddd1",
   "metadata": {},
   "source": [
    "Our optimal Neural Network model with a single hidden layer had a training accuracy of 92% with the following hyperparameters:\n",
    "- `activation` = logistic\n",
    "- `hidden_layer_sizes` = 90\n",
    "- `learning_rate_init` = 0.01"
   ]
  },
  {
   "cell_type": "code",
   "execution_count": 27,
   "id": "42f5e773",
   "metadata": {},
   "outputs": [],
   "source": [
    "top_models[\"neural_network\"] = nn_accuracy"
   ]
  },
  {
   "cell_type": "markdown",
   "id": "7ddeafa9",
   "metadata": {},
   "source": [
    "---"
   ]
  },
  {
   "cell_type": "markdown",
   "id": "acad8e83",
   "metadata": {},
   "source": [
    "# Conclusion <a class=\"anchor\" id=\"three\"></a>"
   ]
  },
  {
   "cell_type": "markdown",
   "id": "57c7e910",
   "metadata": {},
   "source": [
    "Sort models in dictionary from smallest to largest accuracies."
   ]
  },
  {
   "cell_type": "code",
   "execution_count": 2,
   "id": "7bcc91f7",
   "metadata": {},
   "outputs": [],
   "source": [
    "top_models = dict(sorted(top_models.items(),key= lambda x:x[1]))"
   ]
  },
  {
   "cell_type": "code",
   "execution_count": 20,
   "id": "c05ddd86",
   "metadata": {},
   "outputs": [
    {
     "data": {
      "text/plain": [
       "[Text(0.5, 1.0, 'Model Accuracy'), Text(0, 0.5, 'Training accuracy (in %)')]"
      ]
     },
     "execution_count": 20,
     "metadata": {},
     "output_type": "execute_result"
    },
    {
     "data": {
      "image/png": "[encoded data removed]",
      "text/plain": [
       "<Figure size 1008x504 with 1 Axes>"
      ]
     },
     "metadata": {},
     "output_type": "display_data"
    }
   ],
   "source": [
    "import seaborn as sns\n",
    "import matplotlib.pyplot as plt\n",
    "\n",
    "plt.figure(figsize=(14, 7))\n",
    "\n",
    "keys = list(top_models.keys())\n",
    "# get values in the same order as keys, and parse percentage values\n",
    "vals = list(top_models.values())\n",
    "ax = sns.barplot(x=keys, y=vals)\n",
    "\n",
    "# set background theme\n",
    "sns.set_style(\"whitegrid\")\n",
    "\n",
    "ax.bar_label(ax.containers[0], label_type='edge', fmt='%.4f%%')\n",
    "ax.set(title='Model Accuracy', ylabel=\"Training accuracy (in %)\")"
   ]
  },
  {
   "cell_type": "markdown",
   "id": "00de7998",
   "metadata": {},
   "source": [
    "From the plot above we can see that the **XGBoosting model** performed the best in predicting whether a person is making over \\$50,000 a year or not, with a training accuracy of 93%.\n",
    "\n",
    "Followed by the Random Forest, Neural Network, and Naive Bayes models."
   ]
  },
  {
   "cell_type": "markdown",
   "id": "503a5c76",
   "metadata": {},
   "source": [
    "### Save & Load Workspace"
   ]
  },
  {
   "cell_type": "code",
   "execution_count": 11,
   "id": "06a32f90",
   "metadata": {},
   "outputs": [],
   "source": [
    "# import dill\n",
    "# dill.dump_session('lab5_env.db')"
   ]
  },
  {
   "cell_type": "code",
   "execution_count": 1,
   "id": "b62e95c9",
   "metadata": {},
   "outputs": [],
   "source": [
    "import dill\n",
    "dill.load_session('lab5_env.db')"
   ]
  }
 ],
 "metadata": {
  "kernelspec": {
   "display_name": "Python 3 (ipykernel)",
   "language": "python",
   "name": "python3"
  },
  "language_info": {
   "codemirror_mode": {
    "name": "ipython",
    "version": 3
   },
   "file_extension": ".py",
   "mimetype": "text/x-python",
   "name": "python",
   "nbconvert_exporter": "python",
   "pygments_lexer": "ipython3",
   "version": "3.9.7"
  }
 },
 "nbformat": 4,
 "nbformat_minor": 5
}
