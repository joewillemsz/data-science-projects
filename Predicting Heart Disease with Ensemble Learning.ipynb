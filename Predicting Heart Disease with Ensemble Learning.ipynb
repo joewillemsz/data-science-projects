{
 "cells": [
  {
   "cell_type": "markdown",
   "id": "03e4d767-08e2-44d8-9e2a-7902bfd7bd88",
   "metadata": {},
   "source": [
    "# Predicting Heart Disease with Ensemble Learning\n",
    "\n",
    "## Name: Joseph Willemsz\n",
    "\n",
    "## Date: April 25, 2022"
   ]
  },
  {
   "cell_type": "markdown",
   "id": "f5fdce9f",
   "metadata": {},
   "source": [
    "**Predicting Heart Disease**\n",
    "\n",
    "In this lab we will be using publicly available data from the Centers for Disease Control and Prevention (CDC), and in particular the Behavioral Risk Factor Surveillance System (BRFSS).\n",
    "\n",
    "Dataset: https://www.kaggle.com/datasets/kamilpytlak/personal-key-indicators-of-heart-disease\n",
    "\n",
    "**Our primary goal is to predict heart disease.** "
   ]
  },
  {
   "cell_type": "markdown",
   "id": "d67b9e64",
   "metadata": {},
   "source": [
    "# Table of Contents\n",
    "\n",
    "- [Data Import and Cleaning](#import)\n",
    "- [Adaboost Ensemble Model](#ada)\n",
    "- [Gradient Boosting Ensemble Model](#gradient)\n",
    "- [XGBoosting Ensemble Model](#xg)\n",
    "- [Conclusion](#conc)"
   ]
  },
  {
   "cell_type": "markdown",
   "id": "2c537dce",
   "metadata": {},
   "source": [
    "---"
   ]
  },
  {
   "cell_type": "markdown",
   "id": "abced496",
   "metadata": {},
   "source": [
    "# Data Import and Cleaning <a class=\"anchor\" id=\"import\"></a>"
   ]
  },
  {
   "cell_type": "markdown",
   "id": "044a1252-ad72-4144-b12c-c23da9a7bb90",
   "metadata": {},
   "source": [
    "Import heart disease data set. "
   ]
  },
  {
   "cell_type": "code",
   "execution_count": 1,
   "id": "6b80b664",
   "metadata": {},
   "outputs": [],
   "source": [
    "import pandas as pd\n",
    "import numpy as np\n",
    "heart_data = pd.read_csv(\"Data/heart_2020_cleaned.csv\")"
   ]
  },
  {
   "cell_type": "markdown",
   "id": "c0f68c97-b4ed-4dc9-b735-06ca5af9bb22",
   "metadata": {},
   "source": [
    "Next we apply the `clean_names()` function to the `heart_data` columns names."
   ]
  },
  {
   "cell_type": "code",
   "execution_count": 2,
   "id": "4427e2a3-b2a2-401a-baac-da7b1b5d652d",
   "metadata": {},
   "outputs": [],
   "source": [
    "from janitor import clean_names\n",
    "\n",
    "names = []\n",
    "for i in range(len(heart_data.columns)):\n",
    "    names.append(clean_names(heart_data.columns[i]))\n",
    "\n",
    "# fix b_mi -> bmi\n",
    "names[1] = 'bmi'\n",
    "\n",
    "heart_data.columns = names"
   ]
  },
  {
   "cell_type": "code",
   "execution_count": 3,
   "id": "b229c1df-9a99-40f6-8b41-cab425e0839e",
   "metadata": {},
   "outputs": [
    {
     "data": {
      "text/html": [
       "<div>\n",
       "<style scoped>\n",
       "    .dataframe tbody tr th:only-of-type {\n",
       "        vertical-align: middle;\n",
       "    }\n",
       "\n",
       "    .dataframe tbody tr th {\n",
       "        vertical-align: top;\n",
       "    }\n",
       "\n",
       "    .dataframe thead th {\n",
       "        text-align: right;\n",
       "    }\n",
       "</style>\n",
       "<table border=\"1\" class=\"dataframe\">\n",
       "  <thead>\n",
       "    <tr style=\"text-align: right;\">\n",
       "      <th></th>\n",
       "      <th>heart_disease</th>\n",
       "      <th>bmi</th>\n",
       "      <th>smoking</th>\n",
       "      <th>alcohol_drinking</th>\n",
       "      <th>stroke</th>\n",
       "      <th>physical_health</th>\n",
       "      <th>mental_health</th>\n",
       "      <th>diff_walking</th>\n",
       "      <th>sex</th>\n",
       "      <th>age_category</th>\n",
       "      <th>race</th>\n",
       "      <th>diabetic</th>\n",
       "      <th>physical_activity</th>\n",
       "      <th>gen_health</th>\n",
       "      <th>sleep_time</th>\n",
       "      <th>asthma</th>\n",
       "      <th>kidney_disease</th>\n",
       "      <th>skin_cancer</th>\n",
       "    </tr>\n",
       "  </thead>\n",
       "  <tbody>\n",
       "    <tr>\n",
       "      <th>0</th>\n",
       "      <td>No</td>\n",
       "      <td>16.60</td>\n",
       "      <td>Yes</td>\n",
       "      <td>No</td>\n",
       "      <td>No</td>\n",
       "      <td>3.0</td>\n",
       "      <td>30.0</td>\n",
       "      <td>No</td>\n",
       "      <td>Female</td>\n",
       "      <td>55-59</td>\n",
       "      <td>White</td>\n",
       "      <td>Yes</td>\n",
       "      <td>Yes</td>\n",
       "      <td>Very good</td>\n",
       "      <td>5.0</td>\n",
       "      <td>Yes</td>\n",
       "      <td>No</td>\n",
       "      <td>Yes</td>\n",
       "    </tr>\n",
       "    <tr>\n",
       "      <th>1</th>\n",
       "      <td>No</td>\n",
       "      <td>20.34</td>\n",
       "      <td>No</td>\n",
       "      <td>No</td>\n",
       "      <td>Yes</td>\n",
       "      <td>0.0</td>\n",
       "      <td>0.0</td>\n",
       "      <td>No</td>\n",
       "      <td>Female</td>\n",
       "      <td>80 or older</td>\n",
       "      <td>White</td>\n",
       "      <td>No</td>\n",
       "      <td>Yes</td>\n",
       "      <td>Very good</td>\n",
       "      <td>7.0</td>\n",
       "      <td>No</td>\n",
       "      <td>No</td>\n",
       "      <td>No</td>\n",
       "    </tr>\n",
       "    <tr>\n",
       "      <th>2</th>\n",
       "      <td>No</td>\n",
       "      <td>26.58</td>\n",
       "      <td>Yes</td>\n",
       "      <td>No</td>\n",
       "      <td>No</td>\n",
       "      <td>20.0</td>\n",
       "      <td>30.0</td>\n",
       "      <td>No</td>\n",
       "      <td>Male</td>\n",
       "      <td>65-69</td>\n",
       "      <td>White</td>\n",
       "      <td>Yes</td>\n",
       "      <td>Yes</td>\n",
       "      <td>Fair</td>\n",
       "      <td>8.0</td>\n",
       "      <td>Yes</td>\n",
       "      <td>No</td>\n",
       "      <td>No</td>\n",
       "    </tr>\n",
       "    <tr>\n",
       "      <th>3</th>\n",
       "      <td>No</td>\n",
       "      <td>24.21</td>\n",
       "      <td>No</td>\n",
       "      <td>No</td>\n",
       "      <td>No</td>\n",
       "      <td>0.0</td>\n",
       "      <td>0.0</td>\n",
       "      <td>No</td>\n",
       "      <td>Female</td>\n",
       "      <td>75-79</td>\n",
       "      <td>White</td>\n",
       "      <td>No</td>\n",
       "      <td>No</td>\n",
       "      <td>Good</td>\n",
       "      <td>6.0</td>\n",
       "      <td>No</td>\n",
       "      <td>No</td>\n",
       "      <td>Yes</td>\n",
       "    </tr>\n",
       "    <tr>\n",
       "      <th>4</th>\n",
       "      <td>No</td>\n",
       "      <td>23.71</td>\n",
       "      <td>No</td>\n",
       "      <td>No</td>\n",
       "      <td>No</td>\n",
       "      <td>28.0</td>\n",
       "      <td>0.0</td>\n",
       "      <td>Yes</td>\n",
       "      <td>Female</td>\n",
       "      <td>40-44</td>\n",
       "      <td>White</td>\n",
       "      <td>No</td>\n",
       "      <td>Yes</td>\n",
       "      <td>Very good</td>\n",
       "      <td>8.0</td>\n",
       "      <td>No</td>\n",
       "      <td>No</td>\n",
       "      <td>No</td>\n",
       "    </tr>\n",
       "    <tr>\n",
       "      <th>...</th>\n",
       "      <td>...</td>\n",
       "      <td>...</td>\n",
       "      <td>...</td>\n",
       "      <td>...</td>\n",
       "      <td>...</td>\n",
       "      <td>...</td>\n",
       "      <td>...</td>\n",
       "      <td>...</td>\n",
       "      <td>...</td>\n",
       "      <td>...</td>\n",
       "      <td>...</td>\n",
       "      <td>...</td>\n",
       "      <td>...</td>\n",
       "      <td>...</td>\n",
       "      <td>...</td>\n",
       "      <td>...</td>\n",
       "      <td>...</td>\n",
       "      <td>...</td>\n",
       "    </tr>\n",
       "    <tr>\n",
       "      <th>319790</th>\n",
       "      <td>Yes</td>\n",
       "      <td>27.41</td>\n",
       "      <td>Yes</td>\n",
       "      <td>No</td>\n",
       "      <td>No</td>\n",
       "      <td>7.0</td>\n",
       "      <td>0.0</td>\n",
       "      <td>Yes</td>\n",
       "      <td>Male</td>\n",
       "      <td>60-64</td>\n",
       "      <td>Hispanic</td>\n",
       "      <td>Yes</td>\n",
       "      <td>No</td>\n",
       "      <td>Fair</td>\n",
       "      <td>6.0</td>\n",
       "      <td>Yes</td>\n",
       "      <td>No</td>\n",
       "      <td>No</td>\n",
       "    </tr>\n",
       "    <tr>\n",
       "      <th>319791</th>\n",
       "      <td>No</td>\n",
       "      <td>29.84</td>\n",
       "      <td>Yes</td>\n",
       "      <td>No</td>\n",
       "      <td>No</td>\n",
       "      <td>0.0</td>\n",
       "      <td>0.0</td>\n",
       "      <td>No</td>\n",
       "      <td>Male</td>\n",
       "      <td>35-39</td>\n",
       "      <td>Hispanic</td>\n",
       "      <td>No</td>\n",
       "      <td>Yes</td>\n",
       "      <td>Very good</td>\n",
       "      <td>5.0</td>\n",
       "      <td>Yes</td>\n",
       "      <td>No</td>\n",
       "      <td>No</td>\n",
       "    </tr>\n",
       "    <tr>\n",
       "      <th>319792</th>\n",
       "      <td>No</td>\n",
       "      <td>24.24</td>\n",
       "      <td>No</td>\n",
       "      <td>No</td>\n",
       "      <td>No</td>\n",
       "      <td>0.0</td>\n",
       "      <td>0.0</td>\n",
       "      <td>No</td>\n",
       "      <td>Female</td>\n",
       "      <td>45-49</td>\n",
       "      <td>Hispanic</td>\n",
       "      <td>No</td>\n",
       "      <td>Yes</td>\n",
       "      <td>Good</td>\n",
       "      <td>6.0</td>\n",
       "      <td>No</td>\n",
       "      <td>No</td>\n",
       "      <td>No</td>\n",
       "    </tr>\n",
       "    <tr>\n",
       "      <th>319793</th>\n",
       "      <td>No</td>\n",
       "      <td>32.81</td>\n",
       "      <td>No</td>\n",
       "      <td>No</td>\n",
       "      <td>No</td>\n",
       "      <td>0.0</td>\n",
       "      <td>0.0</td>\n",
       "      <td>No</td>\n",
       "      <td>Female</td>\n",
       "      <td>25-29</td>\n",
       "      <td>Hispanic</td>\n",
       "      <td>No</td>\n",
       "      <td>No</td>\n",
       "      <td>Good</td>\n",
       "      <td>12.0</td>\n",
       "      <td>No</td>\n",
       "      <td>No</td>\n",
       "      <td>No</td>\n",
       "    </tr>\n",
       "    <tr>\n",
       "      <th>319794</th>\n",
       "      <td>No</td>\n",
       "      <td>46.56</td>\n",
       "      <td>No</td>\n",
       "      <td>No</td>\n",
       "      <td>No</td>\n",
       "      <td>0.0</td>\n",
       "      <td>0.0</td>\n",
       "      <td>No</td>\n",
       "      <td>Female</td>\n",
       "      <td>80 or older</td>\n",
       "      <td>Hispanic</td>\n",
       "      <td>No</td>\n",
       "      <td>Yes</td>\n",
       "      <td>Good</td>\n",
       "      <td>8.0</td>\n",
       "      <td>No</td>\n",
       "      <td>No</td>\n",
       "      <td>No</td>\n",
       "    </tr>\n",
       "  </tbody>\n",
       "</table>\n",
       "<p>319795 rows × 18 columns</p>\n",
       "</div>"
      ],
      "text/plain": [
       "       heart_disease    bmi smoking alcohol_drinking stroke  physical_health  \\\n",
       "0                 No  16.60     Yes               No     No              3.0   \n",
       "1                 No  20.34      No               No    Yes              0.0   \n",
       "2                 No  26.58     Yes               No     No             20.0   \n",
       "3                 No  24.21      No               No     No              0.0   \n",
       "4                 No  23.71      No               No     No             28.0   \n",
       "...              ...    ...     ...              ...    ...              ...   \n",
       "319790           Yes  27.41     Yes               No     No              7.0   \n",
       "319791            No  29.84     Yes               No     No              0.0   \n",
       "319792            No  24.24      No               No     No              0.0   \n",
       "319793            No  32.81      No               No     No              0.0   \n",
       "319794            No  46.56      No               No     No              0.0   \n",
       "\n",
       "        mental_health diff_walking     sex age_category      race diabetic  \\\n",
       "0                30.0           No  Female        55-59     White      Yes   \n",
       "1                 0.0           No  Female  80 or older     White       No   \n",
       "2                30.0           No    Male        65-69     White      Yes   \n",
       "3                 0.0           No  Female        75-79     White       No   \n",
       "4                 0.0          Yes  Female        40-44     White       No   \n",
       "...               ...          ...     ...          ...       ...      ...   \n",
       "319790            0.0          Yes    Male        60-64  Hispanic      Yes   \n",
       "319791            0.0           No    Male        35-39  Hispanic       No   \n",
       "319792            0.0           No  Female        45-49  Hispanic       No   \n",
       "319793            0.0           No  Female        25-29  Hispanic       No   \n",
       "319794            0.0           No  Female  80 or older  Hispanic       No   \n",
       "\n",
       "       physical_activity gen_health  sleep_time asthma kidney_disease  \\\n",
       "0                    Yes  Very good         5.0    Yes             No   \n",
       "1                    Yes  Very good         7.0     No             No   \n",
       "2                    Yes       Fair         8.0    Yes             No   \n",
       "3                     No       Good         6.0     No             No   \n",
       "4                    Yes  Very good         8.0     No             No   \n",
       "...                  ...        ...         ...    ...            ...   \n",
       "319790                No       Fair         6.0    Yes             No   \n",
       "319791               Yes  Very good         5.0    Yes             No   \n",
       "319792               Yes       Good         6.0     No             No   \n",
       "319793                No       Good        12.0     No             No   \n",
       "319794               Yes       Good         8.0     No             No   \n",
       "\n",
       "       skin_cancer  \n",
       "0              Yes  \n",
       "1               No  \n",
       "2               No  \n",
       "3              Yes  \n",
       "4               No  \n",
       "...            ...  \n",
       "319790          No  \n",
       "319791          No  \n",
       "319792          No  \n",
       "319793          No  \n",
       "319794          No  \n",
       "\n",
       "[319795 rows x 18 columns]"
      ]
     },
     "execution_count": 3,
     "metadata": {},
     "output_type": "execute_result"
    }
   ],
   "source": [
    "heart_data"
   ]
  },
  {
   "cell_type": "markdown",
   "id": "d9923803-dcb1-4dd3-abb0-85c658e33ecb",
   "metadata": {},
   "source": [
    "Here we define a dataset `X` that contains data on the predictor variables and a dataset `y` that contains the target variable `heart_disease`."
   ]
  },
  {
   "cell_type": "code",
   "execution_count": 4,
   "id": "6ffc0466-6438-4b1b-b70f-10e845a38159",
   "metadata": {},
   "outputs": [],
   "source": [
    "X_total = heart_data.drop('heart_disease', axis='columns')\n",
    "X_total = pd.get_dummies(X_total, drop_first=True)\n",
    "y_total = heart_data[\"heart_disease\"]"
   ]
  },
  {
   "cell_type": "markdown",
   "id": "e7986b5d-fe25-4ee2-ade8-3e6aaff74d36",
   "metadata": {},
   "source": [
    "We can see that the data is imbalanced since the there are more observations that do not have heart disease **(292,422)** than those that do **(27,373)**. "
   ]
  },
  {
   "cell_type": "code",
   "execution_count": 5,
   "id": "cb71499b-28ae-4ade-8dae-5fdb23163c86",
   "metadata": {},
   "outputs": [
    {
     "data": {
      "text/plain": [
       "No     292422\n",
       "Yes     27373\n",
       "Name: heart_disease, dtype: int64"
      ]
     },
     "execution_count": 5,
     "metadata": {},
     "output_type": "execute_result"
    }
   ],
   "source": [
    "y_total.value_counts()"
   ]
  },
  {
   "cell_type": "markdown",
   "id": "0dcd2b3e-5021-4338-9298-7498072c5637",
   "metadata": {},
   "source": [
    "Here we can see that only **8.6%** of the observations in the data have heart disease."
   ]
  },
  {
   "cell_type": "code",
   "execution_count": 6,
   "id": "ae329980-6484-4a96-aa56-d78494c25b2a",
   "metadata": {},
   "outputs": [
    {
     "data": {
      "image/png": "[encoded data removed]",
      "text/plain": [
       "<Figure size 432x288 with 1 Axes>"
      ]
     },
     "metadata": {},
     "output_type": "display_data"
    }
   ],
   "source": [
    "ax = y_total.value_counts().plot(kind='pie',\n",
    "                          explode=[0.05, 0.05], \n",
    "                          autopct='%.1f%%', \n",
    "                          title = \"Heart disease distribution\",\n",
    "                          ylabel=\"\")"
   ]
  },
  {
   "cell_type": "markdown",
   "id": "9166490a-cfae-4502-a6a2-4769f4ff890d",
   "metadata": {},
   "source": [
    "In order to fix this we must use a method called random undersampling. That is, we will sample 27,373 non-heart-disease observations in order to have balanced data. "
   ]
  },
  {
   "cell_type": "code",
   "execution_count": 7,
   "id": "5b639a96-93f3-460e-a3b3-a8ba9f86d64a",
   "metadata": {},
   "outputs": [
    {
     "data": {
      "text/plain": [
       "No     54746\n",
       "Yes    27373\n",
       "Name: heart_disease, dtype: int64"
      ]
     },
     "execution_count": 7,
     "metadata": {},
     "output_type": "execute_result"
    }
   ],
   "source": [
    "from imblearn.under_sampling import RandomUnderSampler\n",
    "\n",
    "rus = RandomUnderSampler(sampling_strategy=0.5) #float\n",
    "# rus = RandomUnderSampler(sampling_strategy=\"not minority\") #string\n",
    "\n",
    "X, y = rus.fit_resample(X_total, y_total)\n",
    "y.value_counts()"
   ]
  },
  {
   "cell_type": "markdown",
   "id": "e30fd66d-1c5c-4f54-b93f-c83238b53900",
   "metadata": {},
   "source": [
    "Here is a visual representation showing us that our data is now balanced within the `heart_disease` variable."
   ]
  },
  {
   "cell_type": "code",
   "execution_count": 8,
   "id": "7c175656-734e-4abd-bf0a-b23a669e33de",
   "metadata": {},
   "outputs": [
    {
     "data": {
      "image/png": "[encoded data removed]",
      "text/plain": [
       "<Figure size 432x288 with 1 Axes>"
      ]
     },
     "metadata": {},
     "output_type": "display_data"
    }
   ],
   "source": [
    "ax = y.value_counts().plot(kind='pie',\n",
    "                          explode=[0.025, 0.025], \n",
    "                          autopct='%.1f%%', \n",
    "                          title = \"Heart disease distribution\",\n",
    "                          ylabel=\"\")"
   ]
  },
  {
   "cell_type": "code",
   "execution_count": 9,
   "id": "2642e2fc-25e7-4eab-bad7-4381247aa2aa",
   "metadata": {},
   "outputs": [],
   "source": [
    "# remove warnings\n",
    "import warnings\n",
    "warnings.filterwarnings('ignore')"
   ]
  },
  {
   "cell_type": "markdown",
   "id": "fbdcf6bf-a18f-403f-ad8d-77a40c06df2d",
   "metadata": {},
   "source": [
    "---"
   ]
  },
  {
   "cell_type": "markdown",
   "id": "e5b226f8-6958-434d-89b4-d3b933bd71ca",
   "metadata": {},
   "source": [
    "# AdaBoost Ensemble Model <a class=\"anchor\" id=\"ada\"></a>"
   ]
  },
  {
   "cell_type": "code",
   "execution_count": 10,
   "id": "7993543a-62ab-45b3-8180-daf7f4de0be4",
   "metadata": {},
   "outputs": [
    {
     "name": "stdout",
     "output_type": "stream",
     "text": [
      "Accuracy: 73.8964 % \t where learning_rate= 0.1\n",
      "Accuracy: 75.5903 % \t where learning_rate= 0.2\n",
      "Accuracy: 76.3648 % \t where learning_rate= 0.3\n",
      "Accuracy: 76.6132 % \t where learning_rate= 0.4\n",
      "Accuracy: 76.8896 % \t where learning_rate= 0.5\n",
      "Accuracy: 77.026 % \t where learning_rate= 0.6\n",
      "Accuracy: 77.1709 % \t where learning_rate= 0.7\n",
      "Accuracy: 77.1868 % \t where learning_rate= 0.8\n",
      "Accuracy: 77.2245 % \t where learning_rate= 0.9\n",
      "Accuracy: 77.2416 % \t where learning_rate= 1.0\n",
      "Accuracy: 77.3329 % \t where learning_rate= 1.1\n",
      "Accuracy: 77.2598 % \t where learning_rate= 1.2\n",
      "Accuracy: 77.2087 % \t where learning_rate= 1.3\n",
      "Accuracy: 77.339 % \t where learning_rate= 1.4\n",
      "Accuracy: 77.188 % \t where learning_rate= 1.5\n",
      "Accuracy: 76.9347 % \t where learning_rate= 1.6\n",
      "Accuracy: 76.8592 % \t where learning_rate= 1.7\n",
      "Accuracy: 76.6777 % \t where learning_rate= 1.8\n",
      "Accuracy: 75.6962 % \t where learning_rate= 1.9\n",
      "Accuracy: 28.9969 % \t where learning_rate= 2.0\n"
     ]
    }
   ],
   "source": [
    "# evaluate adaboost algorithm for classification\n",
    "from numpy import mean\n",
    "from numpy import std\n",
    "from sklearn.datasets import make_classification\n",
    "from sklearn.model_selection import cross_val_score\n",
    "from sklearn.model_selection import RepeatedStratifiedKFold\n",
    "from sklearn.ensemble import AdaBoostClassifier\n",
    "from random import seed\n",
    "\n",
    "seed(0)\n",
    "for i in np.arange(0.1, 2.1, 0.1):\n",
    "    AdaBoost = AdaBoostClassifier(learning_rate=i)\n",
    "    AdaBoost.fit(X,y)\n",
    "    prediction = AdaBoost.score(X,y)\n",
    "    print('Accuracy:', round(prediction*100, 4),'%', \"\\t where learning_rate=\", round(i, 2))"
   ]
  },
  {
   "cell_type": "code",
   "execution_count": null,
   "id": "a3a6c715-5457-479b-a367-2969a2fe96f0",
   "metadata": {},
   "outputs": [
    {
     "name": "stdout",
     "output_type": "stream",
     "text": [
      "Accuracy: 74.3178 % \t where learning_rate=1.1 and n_trees= 10\n",
      "Accuracy: 77.339 % \t where learning_rate=1.1 and n_trees= 50\n",
      "Accuracy: 77.4352 % \t where learning_rate=1.1 and n_trees= 100\n",
      "Accuracy: 77.5387 % \t where learning_rate=1.1 and n_trees= 500\n"
     ]
    }
   ],
   "source": [
    "seed(0)\n",
    "for n in [10, 50, 100, 500, 1000]:\n",
    "    AdaBoost = AdaBoostClassifier(n_estimators=n, learning_rate=1.4)\n",
    "    AdaBoost.fit(X,y)\n",
    "    prediction = AdaBoost.score(X,y)\n",
    "    print('Accuracy:', round(prediction*100, 4),'%', \"\\t where learning_rate=1.4 and n_trees=\", n)"
   ]
  },
  {
   "cell_type": "code",
   "execution_count": null,
   "id": "4a6c3a6f-f96b-47ab-ab99-46559ba52271",
   "metadata": {},
   "outputs": [],
   "source": []
  },
  {
   "cell_type": "code",
   "execution_count": null,
   "id": "acacf8a2-7e77-4f5e-a84f-7d53f433d2dc",
   "metadata": {},
   "outputs": [],
   "source": []
  },
  {
   "cell_type": "code",
   "execution_count": null,
   "id": "8b8ad73e-236c-4a0e-9071-bc9403a188de",
   "metadata": {},
   "outputs": [],
   "source": []
  },
  {
   "cell_type": "code",
   "execution_count": null,
   "id": "b8488950-cf52-49b9-ab81-6d2d34f3c257",
   "metadata": {},
   "outputs": [],
   "source": []
  },
  {
   "cell_type": "code",
   "execution_count": null,
   "id": "69c9e40e-7667-4b50-8aeb-7ca5f4b77057",
   "metadata": {},
   "outputs": [],
   "source": [
    "# hyperparameters values for adaboost\n",
    "search_space = {\n",
    "    'n_estimators' : [10, 50, 100, 500, 1000],\n",
    "    'learning_rate':[0.001, 0.01, 0.1, 1]\n",
    "}"
   ]
  },
  {
   "cell_type": "code",
   "execution_count": null,
   "id": "28bff653-3e1a-4267-a639-aa40e8417859",
   "metadata": {},
   "outputs": [],
   "source": [
    "from sklearn.ensemble import AdaBoostClassifier\n",
    "\n",
    "np.random.seed(1)\n",
    "adaboost_model = AdaBoostClassifier()"
   ]
  },
  {
   "cell_type": "code",
   "execution_count": null,
   "id": "376f5870-69b3-4e12-bf78-e68d4dcc7b32",
   "metadata": {},
   "outputs": [],
   "source": [
    "from sklearn.model_selection import GridSearchCV\n",
    "\n",
    "np.random.seed(1)\n",
    "\n",
    "adaboost_gs = GridSearchCV(estimator = adaboost_model,\n",
    "                  param_grid = search_space,\n",
    "                  scoring = 'accuracy',\n",
    "                  cv = 2,\n",
    "                  verbose = 4)"
   ]
  },
  {
   "cell_type": "code",
   "execution_count": null,
   "id": "36ec07d9-64a2-4506-a7d4-d41b1478c62f",
   "metadata": {},
   "outputs": [],
   "source": [
    "adaboost_gs.fit(X, y)"
   ]
  },
  {
   "cell_type": "code",
   "execution_count": null,
   "id": "bd30d0ce-56a4-47e2-8238-e584b2a0652d",
   "metadata": {},
   "outputs": [],
   "source": [
    "# complete details of the best model\n",
    "adaboost_gs.best_params_"
   ]
  },
  {
   "cell_type": "code",
   "execution_count": null,
   "id": "c79cc31e-2898-4eae-b1e9-331d340cf695",
   "metadata": {},
   "outputs": [],
   "source": [
    "# get best hyperparameters we specified\n",
    "adaboost_gs.best_score_"
   ]
  },
  {
   "cell_type": "markdown",
   "id": "da8d9a72-9f8b-4cea-bb18-a9552cc25874",
   "metadata": {},
   "source": [
    "After testing various values for the learing rate and number of trees in our AdaBoosting Ensemble model, we found the following optimal hyperparameters:\n",
    "- **Learning rate = 0.1**\n",
    "- **Number of estimators = 500**"
   ]
  },
  {
   "cell_type": "markdown",
   "id": "de9b583f-1ada-4b8d-a55a-859d1b436fe0",
   "metadata": {},
   "source": [
    "---"
   ]
  },
  {
   "cell_type": "markdown",
   "id": "3527abd9-a71d-4cf4-aa8e-2d1a04b83693",
   "metadata": {},
   "source": [
    "# Gradient Boosting Ensemble Model <a class=\"anchor\" id=\"gradient\"></a>"
   ]
  },
  {
   "cell_type": "code",
   "execution_count": null,
   "id": "c4abb4cc-cf19-416d-8ea1-2ede1a389585",
   "metadata": {},
   "outputs": [],
   "source": [
    "from sklearn.ensemble import GradientBoostingClassifier\n",
    "from sklearn.preprocessing import LabelEncoder\n",
    "from sklearn.tree import DecisionTreeClassifier\n",
    "\n",
    "seed(0)\n",
    "for i in np.arange(0.1, 2.1, 0.1):\n",
    "    GradientBoost = GradientBoostingClassifier(learning_rate=i)\n",
    "    GradientBoost.fit(X,y)\n",
    "    prediction = GradientBoost.score(X,y)\n",
    "    print('Accuracy:', round(prediction*100, 4),'%', \"\\t where learning_rate=\", round(i, 2))"
   ]
  },
  {
   "cell_type": "code",
   "execution_count": null,
   "id": "bc44dca1-3fdb-4b47-8d38-e7d9b279bc85",
   "metadata": {},
   "outputs": [],
   "source": [
    "seed(0)\n",
    "for n in [10, 50, 100, 500, 1000]:\n",
    "    GradientBoost = GradientBoostingClassifier(n_estimators=n, learning_rate=0.8)\n",
    "    GradientBoost.fit(X,y)\n",
    "    prediction = GradientBoost.score(X,y)\n",
    "    print('Accuracy:', round(prediction*100, 4),'%', \"\\t where learning_rate=0.8 and n_trees=\", n)"
   ]
  },
  {
   "cell_type": "code",
   "execution_count": null,
   "id": "dec8d945-2993-421f-9718-fa1d9958af5d",
   "metadata": {},
   "outputs": [],
   "source": []
  },
  {
   "cell_type": "code",
   "execution_count": null,
   "id": "9f4bdb40-b680-4d13-ad7d-bd3f1f70f97a",
   "metadata": {},
   "outputs": [],
   "source": []
  },
  {
   "cell_type": "code",
   "execution_count": null,
   "id": "5e8bc92b-ca4d-4552-8b6e-be1086a2c9d9",
   "metadata": {},
   "outputs": [],
   "source": []
  },
  {
   "cell_type": "code",
   "execution_count": null,
   "id": "353a862e-db9d-4f94-b5ee-b8b18189e244",
   "metadata": {},
   "outputs": [],
   "source": []
  },
  {
   "cell_type": "code",
   "execution_count": null,
   "id": "2f0c534b-c229-4d0d-b2d2-9f89a01eac9a",
   "metadata": {},
   "outputs": [],
   "source": []
  },
  {
   "cell_type": "code",
   "execution_count": null,
   "id": "e190b9e4-bee2-4abc-afbc-320fec4ba1b8",
   "metadata": {},
   "outputs": [],
   "source": [
    "# hyperparameters values for adaboost\n",
    "search_space = {\n",
    "    'n_estimators' : [10, 50, 100, 500, 1000],\n",
    "    'learning_rate':[0.001, 0.01, 0.1, 1]\n",
    "}"
   ]
  },
  {
   "cell_type": "code",
   "execution_count": null,
   "id": "ae30dfec-f478-476a-9a4a-7e040aa766c7",
   "metadata": {},
   "outputs": [],
   "source": [
    "from sklearn.ensemble import GradientBoostingClassifier\n",
    "\n",
    "np.random.seed(1)\n",
    "gradientboost_model = GradientBoostingClassifier()"
   ]
  },
  {
   "cell_type": "code",
   "execution_count": null,
   "id": "120fa7e0-3e8e-4517-bb34-874eea8b7f5b",
   "metadata": {},
   "outputs": [],
   "source": [
    "from sklearn.model_selection import GridSearchCV\n",
    "\n",
    "np.random.seed(1)\n",
    "\n",
    "gradientboost_gs = GridSearchCV(estimator = gradientboost_model,\n",
    "                  param_grid = search_space,\n",
    "                  scoring = 'accuracy',\n",
    "                  cv = 2,\n",
    "                  verbose = 4)"
   ]
  },
  {
   "cell_type": "code",
   "execution_count": null,
   "id": "0b96025d-1ebe-4efd-bdd5-c3548fd3f14b",
   "metadata": {},
   "outputs": [],
   "source": [
    "gradientboost_gs.fit(X, y)"
   ]
  },
  {
   "cell_type": "code",
   "execution_count": null,
   "id": "b6ee7866-1b21-40f4-847a-513abb7fc976",
   "metadata": {},
   "outputs": [],
   "source": [
    "gradientboost_gs.best_params_"
   ]
  },
  {
   "cell_type": "code",
   "execution_count": null,
   "id": "6d03464c-1f0b-425c-b441-a4346710968a",
   "metadata": {},
   "outputs": [],
   "source": [
    "gradientboost_gs.best_score_"
   ]
  },
  {
   "cell_type": "markdown",
   "id": "f260f790-0e65-466c-be79-01aad2f6c220",
   "metadata": {},
   "source": [
    "After testing various values for the learing rate and number of trees in our Gradient Boosting Ensemble model, we found the following optimal hyperparameters:\n",
    "- **Learning rate = 0.01**\n",
    "- **Number of estimators = 1000**"
   ]
  },
  {
   "cell_type": "markdown",
   "id": "3225dcbd-982f-40ae-a102-329cfd63f030",
   "metadata": {},
   "source": [
    "---"
   ]
  },
  {
   "cell_type": "markdown",
   "id": "bfc8d420-3ee5-44db-9b15-b11c56db77fb",
   "metadata": {},
   "source": [
    "# XGBoosting Ensemble Model <a class=\"anchor\" id=\"xg\"></a>"
   ]
  },
  {
   "cell_type": "code",
   "execution_count": null,
   "id": "f6c1fcb3-f9b7-4151-8b10-2d6c583fa602",
   "metadata": {},
   "outputs": [],
   "source": [
    "# evaluate xgboost algorithm for classification\n",
    "from numpy import mean\n",
    "from numpy import std\n",
    "from sklearn.model_selection import cross_val_score\n",
    "from sklearn.model_selection import RepeatedStratifiedKFold\n",
    "from xgboost import XGBClassifier\n",
    "\n",
    "seed(0)\n",
    "for i in np.arange(0.1, 2.1, 0.1):\n",
    "    XGBoost = XGBClassifier(eval_metric='merror', learning_rate=i)\n",
    "    XGBoost.fit(X,y)\n",
    "    prediction = XGBoost.score(X,y)\n",
    "    print('Accuracy:', round(prediction*100, 4),'%', \"\\t where learning_rate=\", round(i, 2))"
   ]
  },
  {
   "cell_type": "code",
   "execution_count": null,
   "id": "d2f699c4-77cc-4c9c-859b-039a97a9e9e0",
   "metadata": {},
   "outputs": [],
   "source": [
    "seed(0)\n",
    "for n in [10, 50, 100, 500, 1000]:\n",
    "    XGBoost = XGBClassifier(eval_metric='merror', learning_rate=1.3, n_estimators=n)\n",
    "    XGBoost.fit(X,y)\n",
    "    prediction = XGBoost.score(X,y)\n",
    "    print('Accuracy:', round(prediction*100, 4),'%', \"\\t where learning_rate=1.2 and n_trees=\", n)"
   ]
  },
  {
   "cell_type": "code",
   "execution_count": null,
   "id": "12462c51-27e0-42d0-9f06-2f3d3009cacb",
   "metadata": {},
   "outputs": [],
   "source": []
  },
  {
   "cell_type": "code",
   "execution_count": null,
   "id": "f801ba55-4b84-43b0-b47e-29d93a783656",
   "metadata": {},
   "outputs": [],
   "source": []
  },
  {
   "cell_type": "code",
   "execution_count": null,
   "id": "5ed4097f-e88d-4418-bf65-8836f70ea386",
   "metadata": {},
   "outputs": [],
   "source": []
  },
  {
   "cell_type": "code",
   "execution_count": null,
   "id": "cc7c24c8-52a8-4806-9006-53aa32cca43a",
   "metadata": {},
   "outputs": [],
   "source": []
  },
  {
   "cell_type": "code",
   "execution_count": null,
   "id": "b9d2123e-bc70-40bd-847f-2dc67cce67ec",
   "metadata": {},
   "outputs": [],
   "source": [
    "# hyperparameters values for adaboost\n",
    "search_space = {\n",
    "    'n_estimators' : [100, 500, 1000],\n",
    "    'learning_rate':[0.5, 1, 1.5]\n",
    "}"
   ]
  },
  {
   "cell_type": "code",
   "execution_count": null,
   "id": "2ad50953-0d8b-4fc9-9cf2-bc3d4d6c2b87",
   "metadata": {},
   "outputs": [],
   "source": [
    "from xgboost import XGBClassifier\n",
    "\n",
    "np.random.seed(1)\n",
    "xgboost_model = XGBClassifier(eval_metric='merror')"
   ]
  },
  {
   "cell_type": "code",
   "execution_count": null,
   "id": "c8609289-e6e0-4bdc-9491-d482dda1f8c0",
   "metadata": {},
   "outputs": [],
   "source": [
    "from sklearn.model_selection import GridSearchCV\n",
    "\n",
    "np.random.seed(1)\n",
    "xgboost_gs = GridSearchCV(estimator = xgboost_model,\n",
    "                  param_grid = search_space,\n",
    "                  scoring = 'accuracy',\n",
    "                  cv = 2,\n",
    "                  verbose = 3)"
   ]
  },
  {
   "cell_type": "code",
   "execution_count": null,
   "id": "a34964a1-9c7f-4b95-b0f5-fc9108a9a33a",
   "metadata": {},
   "outputs": [],
   "source": [
    "xgboost_gs.fit(X, y)"
   ]
  },
  {
   "cell_type": "code",
   "execution_count": null,
   "id": "1279176b-d9b4-4c4e-a9da-3c47ebc9fba2",
   "metadata": {},
   "outputs": [],
   "source": [
    "xgboost_gs.best_params_"
   ]
  },
  {
   "cell_type": "code",
   "execution_count": null,
   "id": "ed52bb70-4fbf-4e78-a6eb-1f80de51d2e4",
   "metadata": {},
   "outputs": [],
   "source": [
    "xgboost_gs.best_score_"
   ]
  },
  {
   "cell_type": "markdown",
   "id": "9674deef-3a07-4465-be2d-0268f53bd20b",
   "metadata": {},
   "source": [
    "After testing various values for the learing rate and number of trees in our XGBoosting Ensemble model, we found the following optimal hyperparameters:\n",
    "- **Learning rate = 1.7**\n",
    "- **Number of estimators = 1000**"
   ]
  },
  {
   "cell_type": "markdown",
   "id": "f1668a3f-63ff-49ff-83b7-66731d68f79b",
   "metadata": {},
   "source": [
    "---"
   ]
  },
  {
   "cell_type": "markdown",
   "id": "1b308720-2c89-4500-9b9d-42eb59b113aa",
   "metadata": {},
   "source": [
    "# Conclusion <a class=\"anchor\" id=\"conc\"></a>"
   ]
  },
  {
   "cell_type": "markdown",
   "id": "a3c1059f-0092-4e7c-a544-ad7a232735ee",
   "metadata": {},
   "source": [
    "## Optimal AdaBoosting Ensemble Model"
   ]
  },
  {
   "cell_type": "code",
   "execution_count": null,
   "id": "47042fa0-3ea0-47f1-9079-3e356254db43",
   "metadata": {},
   "outputs": [],
   "source": [
    "%%time\n",
    "seed(0)\n",
    "AdaBoost = AdaBoostClassifier(learning_rate=2.0, n_estimators=1000)\n",
    "AdaBoost.fit(X_rus,y_rus)\n",
    "prediction = AdaBoost.score(X,y)\n",
    "print('Accuracy: ', round(prediction*100, 4),'%')"
   ]
  },
  {
   "cell_type": "markdown",
   "id": "5bdf3939-fa3f-44ba-b01d-0a76549905ea",
   "metadata": {},
   "source": [
    "## Optimal Gradient Boosting Ensemble Model"
   ]
  },
  {
   "cell_type": "code",
   "execution_count": null,
   "id": "e875ee41-a22e-4284-bc78-398d2d0b6dd5",
   "metadata": {},
   "outputs": [],
   "source": [
    "%%time\n",
    "seed(0)\n",
    "GradientBoost = GradientBoostingClassifier(learning_rate=0.2, n_estimators=1000)\n",
    "GradientBoost.fit(X_rus, y_rus)\n",
    "prediction = GradientBoost.score(X,y)\n",
    "print('Accuracy: ', round(prediction*100, 4),'%')"
   ]
  },
  {
   "cell_type": "markdown",
   "id": "8519e7e7-34cd-424e-ac84-5e1870b03fe3",
   "metadata": {},
   "source": [
    "## Optimal XGBoosting Ensemble Model"
   ]
  },
  {
   "cell_type": "code",
   "execution_count": null,
   "id": "c7463143-1197-4db1-9c5f-09158da74a25",
   "metadata": {},
   "outputs": [],
   "source": [
    "%%time\n",
    "seed(0)\n",
    "XGBoost = XGBClassifier(eval_metric='merror', learning_rate=1.7, n_estimators=1000)\n",
    "XGBoost.fit(X_rus,y_rus)\n",
    "prediction = XGBoost.score(X,y)\n",
    "print('Accuracy: ', round(prediction*100, 4),'%')"
   ]
  },
  {
   "cell_type": "markdown",
   "id": "85119577-74e4-4e63-bd84-747b164f0998",
   "metadata": {},
   "source": [
    "1. In conclusion, the best model in predicting heart disease is the optimal **XGBoosting Ensemble Model**, with an accuracy = 98.8%.\n",
    "    - This model also ran the fastest at 22 seconds. \n",
    "    - Hyperparameters:\n",
    "        - Learning rate = 1.3\n",
    "        - Number of trees = 1000\n",
    "2. Followed by the optimal Gradient Boosting Ensemble Model with an accuracy = 82.6%.\n",
    "    - This model finished running in around a minute.\n",
    "    - Hyperparameters:\n",
    "        - Learning rate = 0.8\n",
    "        - Number of trees = 1000\n",
    "3. In last comes the optimal AdaBoosting Ensemble Model with an accuracy = 76.5%\n",
    "    - This model finished running in one minute and 30 seconds.\n",
    "    - Hyperparameters:\n",
    "        - Learning rate = 1.1\n",
    "        - Number of trees = 1000"
   ]
  }
 ],
 "metadata": {
  "kernelspec": {
   "display_name": "Python 3 (ipykernel)",
   "language": "python",
   "name": "python3"
  },
  "language_info": {
   "codemirror_mode": {
    "name": "ipython",
    "version": 3
   },
   "file_extension": ".py",
   "mimetype": "text/x-python",
   "name": "python",
   "nbconvert_exporter": "python",
   "pygments_lexer": "ipython3",
   "version": "3.9.7"
  }
 },
 "nbformat": 4,
 "nbformat_minor": 5
}
