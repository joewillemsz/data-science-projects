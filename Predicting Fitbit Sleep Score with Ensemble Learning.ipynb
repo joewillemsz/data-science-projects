{
 "cells": [
  {
   "cell_type": "markdown",
   "id": "58625dbd",
   "metadata": {},
   "source": [
    "# Predicting Fitbit Sleep Score with Ensemble Learning\n",
    "\n",
    "## Name: Joseph Willemsz\n",
    "\n",
    "## Date: April 18, 2022"
   ]
  },
  {
   "cell_type": "markdown",
   "id": "48b42c5f",
   "metadata": {},
   "source": [
    "Dataset: https://www.kaggle.com/datasets/riinuanslan/sleep-data-from-fitbit-tracker\n",
    "\n",
    "Goal: \n",
    "\n",
    "- Can we predict Sleep Score (posted by the FitBit app) using the other metrics in the dataset? In other words, is there a formula here that the FitBit app uses to compute Sleep Score that we can reverse-engineer?\n",
    "Two constraints for this assignment:\n",
    "\n",
    "1. Your modeling efforts must involve bagging and stacking in some way. Otherwise, you may try whatever you like.\n",
    "\n",
    "2. You are allowed, even encouraged, to compute and/or gather additional features to use as explanatory variables in your model. For example, you might create a variable for the time they went to sleep (as a measure of how \"early\" they went to bed, or not). There are multiple datasets and you should use all of them, which means you may use the corresponding month for the dataset as a variable as well (or anything related to it)."
   ]
  },
  {
   "cell_type": "markdown",
   "id": "608523fc",
   "metadata": {},
   "source": [
    "# Table of Contents\n",
    "\n",
    "- [Data Import and Cleaning](#dataimport)\n",
    "- [Bagging](#bagging)\n",
    "- [Random Forest](#randomforest)\n",
    "- [Stacking](#stacking)\n",
    "- [Conclusion](#conclusion)\n",
    "\n"
   ]
  },
  {
   "cell_type": "markdown",
   "id": "64184f15",
   "metadata": {},
   "source": [
    "---"
   ]
  },
  {
   "cell_type": "markdown",
   "id": "f18efe3d",
   "metadata": {},
   "source": [
    "# Data Import and Cleaning <a class=\"anchor\" id=\"dataimport\"></a>"
   ]
  },
  {
   "cell_type": "code",
   "execution_count": 1,
   "id": "6bd82585",
   "metadata": {},
   "outputs": [],
   "source": [
    "import pandas as pd\n",
    "import numpy as np"
   ]
  },
  {
   "cell_type": "code",
   "execution_count": 2,
   "id": "f0082416",
   "metadata": {},
   "outputs": [],
   "source": [
    "# import the monthly fitbit datasets\n",
    "nov_data = pd.read_csv(\"Data/November Sleep data - Sheet1.csv\").dropna()\n",
    "dec_data = pd.read_csv(\"Data/December Sleep data - Sheet1.csv\").dropna()\n",
    "jan_data = pd.read_csv(\"Data/January Sleep data - Sheet1.csv\").dropna()\n",
    "feb_data = pd.read_csv(\"Data/February Sleep data - Sheet1.csv\").dropna()"
   ]
  },
  {
   "cell_type": "code",
   "execution_count": 3,
   "id": "6cb5f8b3",
   "metadata": {},
   "outputs": [],
   "source": [
    "# create new column to specify month\n",
    "nov_data[\"month\"] = \"November\"\n",
    "dec_data[\"month\"] = \"December\"\n",
    "jan_data[\"month\"] = \"January\"\n",
    "feb_data[\"month\"] = \"February\""
   ]
  },
  {
   "cell_type": "code",
   "execution_count": 4,
   "id": "68b2cb67",
   "metadata": {},
   "outputs": [],
   "source": [
    "# rename variables in each df\n",
    "nov_data.rename(columns = {\"NOVEMBER\":\"day_of_week\",\n",
    "                           \"DATE\":\"date\",\n",
    "                           \"SLEEP SCORE\":\"sleep_score\",\n",
    "                           \"HOURS OF SLEEP\":\"hours_of_sleep\",\n",
    "                           \"REM SLEEP\":\"rem_sleep\",\n",
    "                           \"DEEP SLEEP\":\"deep_sleep\",\n",
    "                           \"HEART RATE BELOW RESTING\":\"hr_below_resting\",\n",
    "                           \"SLEEP TIME\":\"sleep_time\"\n",
    "                          }, inplace = True)\n",
    "\n",
    "dec_data.rename(columns = {\"DECEMBER\":\"day_of_week\",\n",
    "                           \"DATE\":\"date\",\n",
    "                           \"SLEEP SCORE\":\"sleep_score\",\n",
    "                           \"HOURS OF SLEEP\":\"hours_of_sleep\",\n",
    "                           \"REM SLEEP\":\"rem_sleep\",\n",
    "                           \"DEEP SLEEP\":\"deep_sleep\",\n",
    "                           \"HEART RATE BELOW RESTING\":\"hr_below_resting\",\n",
    "                           \"SLEEP TIME\":\"sleep_time\"\n",
    "                          }, inplace = True)\n",
    "\n",
    "jan_data.rename(columns = {\"JANUARY\":\"day_of_week\",\n",
    "                           \"DATE\":\"date\",\n",
    "                           \"SLEEP SCORE\":\"sleep_score\",\n",
    "                           \"HOURS OF SLEEP\":\"hours_of_sleep\",\n",
    "                           \"REM SLEEP\":\"rem_sleep\",\n",
    "                           \"DEEP SLEEP\":\"deep_sleep\",\n",
    "                           \"HEART RATE UNDER RESTING\":\"hr_below_resting\",\n",
    "                           \"SLEEP TIME\":\"sleep_time\"\n",
    "                          }, inplace = True)\n",
    "\n",
    "feb_data.rename(columns = {\"FEBEUARY\":\"day_of_week\",\n",
    "                           \"DATE\":\"date\",\n",
    "                           \"SLEEP SQORE\":\"sleep_score\",\n",
    "                           \"HOURS OF SLEEP\":\"hours_of_sleep\",\n",
    "                           \"REM SLEEP\":\"rem_sleep\",\n",
    "                           \"DEEP SLEEP\":\"deep_sleep\",\n",
    "                           \"HEART RATE BELOW RESTING\":\"hr_below_resting\",\n",
    "                           \"SLEEP TIME\":\"sleep_time\"\n",
    "                          }, inplace = True)"
   ]
  },
  {
   "cell_type": "code",
   "execution_count": 5,
   "id": "f739beb2",
   "metadata": {},
   "outputs": [],
   "source": [
    "# combine all data frames into one\n",
    "fitbit_data = pd.concat([nov_data, dec_data, jan_data, feb_data], \n",
    "          ignore_index = True, \n",
    "          sort = False)"
   ]
  },
  {
   "cell_type": "code",
   "execution_count": 6,
   "id": "c369e230",
   "metadata": {},
   "outputs": [],
   "source": [
    "# move month variable to the front of data frame\n",
    "column_to_move = fitbit_data.pop(\"month\")\n",
    "\n",
    "# insert column with insert(location, column_name, column_value)\n",
    "fitbit_data.insert(0, \"month\", column_to_move)"
   ]
  },
  {
   "cell_type": "code",
   "execution_count": 7,
   "id": "488fe75e",
   "metadata": {},
   "outputs": [],
   "source": [
    "# convert sleep/resting variables to float data types\n",
    "fitbit_data.rem_sleep = fitbit_data.rem_sleep.str.replace(\"%\", \"\").astype(float) / 100\n",
    "fitbit_data.deep_sleep = fitbit_data.deep_sleep.str.replace(\"%\", \"\").astype(float) / 100\n",
    "fitbit_data.hr_below_resting = fitbit_data.hr_below_resting.str.replace(\"%\", \"\").astype(float) / 100"
   ]
  },
  {
   "cell_type": "code",
   "execution_count": 8,
   "id": "17d1e5aa-4db0-4ad3-8533-72119c4c07bf",
   "metadata": {},
   "outputs": [
    {
     "data": {
      "text/plain": [
       "10.116666666666667"
      ]
     },
     "execution_count": 8,
     "metadata": {},
     "output_type": "execute_result"
    }
   ],
   "source": [
    "import time\n",
    "\n",
    "# function the turns time format to hours in decimals 8:06:00 -> 8.1\n",
    "def convert_hrs(time_string):\n",
    "    date_var = time.strptime(time_string, '%I:%M:%S')\n",
    "\n",
    "    return date_var.tm_hour + date_var.tm_min/60\n",
    "\n",
    "convert_hrs('10:07:00')"
   ]
  },
  {
   "cell_type": "code",
   "execution_count": 9,
   "id": "cd8d68f3-0932-4ba7-afce-c298bd37a19e",
   "metadata": {},
   "outputs": [],
   "source": [
    "# convert hours_of_sleep variable to hours in decimal float\n",
    "fitbit_data[\"hours_of_sleep\"] = fitbit_data[\"hours_of_sleep\"].apply(convert_hrs)"
   ]
  },
  {
   "cell_type": "code",
   "execution_count": 10,
   "id": "83995aaa",
   "metadata": {},
   "outputs": [],
   "source": [
    "# seperates the sleep time into 2 seperate variables time1 and time2\n",
    "time1 = []\n",
    "time2 = []\n",
    "for row in range(len(fitbit_data)):\n",
    "    time1.append(fitbit_data[\"sleep_time\"].str.split(pat=\" - \")[row][0])\n",
    "    time2.append(fitbit_data[\"sleep_time\"].str.split(pat=\" - \")[row][1])\n",
    "    \n",
    "time1 = pd.DataFrame(time1, columns=[\"time1\"])\n",
    "time2 = pd.DataFrame(time2, columns=[\"time2\"])"
   ]
  },
  {
   "cell_type": "code",
   "execution_count": 11,
   "id": "f91cab63-7568-4ba3-9312-860f4bbe3f9d",
   "metadata": {},
   "outputs": [
    {
     "name": "stdout",
     "output_type": "stream",
     "text": [
      "12:00PM\n",
      "12:00AM\n",
      "07:13AM\n",
      "07:13PM\n"
     ]
    }
   ],
   "source": [
    "# this function converts am to AM and changes pm to PM\n",
    "def format_time(string):\n",
    "    if \"am\" in string:\n",
    "        time = string.replace(\"am\", \"AM\")\n",
    "        return time\n",
    "    else:\n",
    "        time = string.replace(\"pm\", \"PM\")\n",
    "        return time\n",
    "    \n",
    "print(format_time(\"12:00pm\"))\n",
    "print(format_time(\"12:00am\"))\n",
    "print(format_time(\"07:13am\"))\n",
    "print(format_time(\"07:13pm\"))"
   ]
  },
  {
   "cell_type": "code",
   "execution_count": 12,
   "id": "97fff448",
   "metadata": {},
   "outputs": [],
   "source": [
    "bed_time = []\n",
    "wake_time = []\n",
    "for i in range(len(time1)):\n",
    "    bed_time.append(format_time(time1.time1[i]))\n",
    "    wake_time.append(format_time(time2.time2[i]))\n",
    "    \n",
    "bed_time = pd.DataFrame(bed_time, columns=[\"bed_time\"])\n",
    "wake_time = pd.DataFrame(wake_time, columns=[\"wake_time\"])"
   ]
  },
  {
   "cell_type": "code",
   "execution_count": 13,
   "id": "4ceee5b9-a5d9-4780-98ab-837ec8f173aa",
   "metadata": {},
   "outputs": [],
   "source": [
    "# combine date and bed/wake time to make datetime variable\n",
    "bed_time = (fitbit_data[\"date\"] + \" \" + bed_time[\"bed_time\"])\n",
    "wake_time = (fitbit_data[\"date\"] + \" \" + wake_time[\"wake_time\"])"
   ]
  },
  {
   "cell_type": "code",
   "execution_count": 14,
   "id": "766f57f2-05a2-4e21-b170-2eaed52a5b5c",
   "metadata": {},
   "outputs": [
    {
     "name": "stdout",
     "output_type": "stream",
     "text": [
      "1997-07-13 07:13:00\n"
     ]
    }
   ],
   "source": [
    "import datetime\n",
    "\n",
    "# converts datetime string to datetime datatype\n",
    "def to_datetime(datetime_string):\n",
    "    #set the date and time format\n",
    "    date_format = \"%m/%d/%Y %I:%M%p\"\n",
    "    #date_format = \"%I:%M%p\"\n",
    "\n",
    "    return datetime.datetime.strptime(datetime_string, date_format)\n",
    "\n",
    "print(to_datetime('07/13/1997 07:13AM'))"
   ]
  },
  {
   "cell_type": "code",
   "execution_count": 15,
   "id": "14b40a95-3f6d-4068-8034-dda0ffd716d8",
   "metadata": {},
   "outputs": [],
   "source": [
    "# apply to_datetime() to bed_time and wake_time variable\n",
    "bed_time = bed_time.apply(to_datetime)\n",
    "wake_time = wake_time.apply(to_datetime)"
   ]
  },
  {
   "cell_type": "code",
   "execution_count": 16,
   "id": "50145471-9f44-4d5e-a2bd-f2e161a5a5bc",
   "metadata": {},
   "outputs": [],
   "source": [
    "from datetime import datetime\n",
    "from datetime import timedelta\n",
    "\n",
    "# adding a day to the wake-up time since the person wakes up the following day\n",
    "wake_time = wake_time + timedelta(days=1)"
   ]
  },
  {
   "cell_type": "code",
   "execution_count": 17,
   "id": "6ee4ca10-6f6f-4112-92ec-6c671e5908cf",
   "metadata": {},
   "outputs": [],
   "source": [
    "# sleep duration time in minutes\n",
    "sleep_time_minutes = (wake_time - bed_time) / np.timedelta64(1, 'm')"
   ]
  },
  {
   "cell_type": "code",
   "execution_count": 18,
   "id": "d8e485af-a9fb-4ee4-849a-337f2b1a1481",
   "metadata": {},
   "outputs": [
    {
     "data": {
      "text/html": [
       "<div>\n",
       "<style scoped>\n",
       "    .dataframe tbody tr th:only-of-type {\n",
       "        vertical-align: middle;\n",
       "    }\n",
       "\n",
       "    .dataframe tbody tr th {\n",
       "        vertical-align: top;\n",
       "    }\n",
       "\n",
       "    .dataframe thead th {\n",
       "        text-align: right;\n",
       "    }\n",
       "</style>\n",
       "<table border=\"1\" class=\"dataframe\">\n",
       "  <thead>\n",
       "    <tr style=\"text-align: right;\">\n",
       "      <th></th>\n",
       "      <th>month</th>\n",
       "      <th>day_of_week</th>\n",
       "      <th>date</th>\n",
       "      <th>sleep_score</th>\n",
       "      <th>hours_of_sleep</th>\n",
       "      <th>rem_sleep</th>\n",
       "      <th>deep_sleep</th>\n",
       "      <th>hr_below_resting</th>\n",
       "      <th>sleep_time</th>\n",
       "      <th>bed_time</th>\n",
       "      <th>wake_time</th>\n",
       "      <th>sleep_time_minutes</th>\n",
       "    </tr>\n",
       "  </thead>\n",
       "  <tbody>\n",
       "    <tr>\n",
       "      <th>0</th>\n",
       "      <td>November</td>\n",
       "      <td>Monday</td>\n",
       "      <td>11/1/2021</td>\n",
       "      <td>88.0</td>\n",
       "      <td>8.100000</td>\n",
       "      <td>0.20</td>\n",
       "      <td>0.13</td>\n",
       "      <td>0.84</td>\n",
       "      <td>10:41pm - 7:54am</td>\n",
       "      <td>2021-11-01 22:41:00</td>\n",
       "      <td>2021-11-02 07:54:00</td>\n",
       "      <td>553.0</td>\n",
       "    </tr>\n",
       "    <tr>\n",
       "      <th>1</th>\n",
       "      <td>November</td>\n",
       "      <td>Tuesday</td>\n",
       "      <td>11/2/2021</td>\n",
       "      <td>83.0</td>\n",
       "      <td>7.950000</td>\n",
       "      <td>0.12</td>\n",
       "      <td>0.18</td>\n",
       "      <td>0.90</td>\n",
       "      <td>10:40pm - 7:55am</td>\n",
       "      <td>2021-11-02 22:40:00</td>\n",
       "      <td>2021-11-03 07:55:00</td>\n",
       "      <td>555.0</td>\n",
       "    </tr>\n",
       "    <tr>\n",
       "      <th>2</th>\n",
       "      <td>November</td>\n",
       "      <td>Wednesday</td>\n",
       "      <td>11/3/2021</td>\n",
       "      <td>81.0</td>\n",
       "      <td>7.100000</td>\n",
       "      <td>0.13</td>\n",
       "      <td>0.22</td>\n",
       "      <td>0.93</td>\n",
       "      <td>11:03pm - 7:16am</td>\n",
       "      <td>2021-11-03 23:03:00</td>\n",
       "      <td>2021-11-04 07:16:00</td>\n",
       "      <td>493.0</td>\n",
       "    </tr>\n",
       "    <tr>\n",
       "      <th>3</th>\n",
       "      <td>November</td>\n",
       "      <td>Thursday</td>\n",
       "      <td>11/4/2021</td>\n",
       "      <td>86.0</td>\n",
       "      <td>7.066667</td>\n",
       "      <td>0.19</td>\n",
       "      <td>0.17</td>\n",
       "      <td>0.97</td>\n",
       "      <td>10:55pm - 6:56am</td>\n",
       "      <td>2021-11-04 22:55:00</td>\n",
       "      <td>2021-11-05 06:56:00</td>\n",
       "      <td>481.0</td>\n",
       "    </tr>\n",
       "    <tr>\n",
       "      <th>4</th>\n",
       "      <td>November</td>\n",
       "      <td>Friday</td>\n",
       "      <td>11/5/2021</td>\n",
       "      <td>81.0</td>\n",
       "      <td>9.400000</td>\n",
       "      <td>0.17</td>\n",
       "      <td>0.15</td>\n",
       "      <td>0.66</td>\n",
       "      <td>10:14pm - 9:01am</td>\n",
       "      <td>2021-11-05 22:14:00</td>\n",
       "      <td>2021-11-06 09:01:00</td>\n",
       "      <td>647.0</td>\n",
       "    </tr>\n",
       "    <tr>\n",
       "      <th>...</th>\n",
       "      <td>...</td>\n",
       "      <td>...</td>\n",
       "      <td>...</td>\n",
       "      <td>...</td>\n",
       "      <td>...</td>\n",
       "      <td>...</td>\n",
       "      <td>...</td>\n",
       "      <td>...</td>\n",
       "      <td>...</td>\n",
       "      <td>...</td>\n",
       "      <td>...</td>\n",
       "      <td>...</td>\n",
       "    </tr>\n",
       "    <tr>\n",
       "      <th>115</th>\n",
       "      <td>February</td>\n",
       "      <td>Thursday</td>\n",
       "      <td>2/24/2022</td>\n",
       "      <td>84.0</td>\n",
       "      <td>7.300000</td>\n",
       "      <td>0.19</td>\n",
       "      <td>0.19</td>\n",
       "      <td>0.96</td>\n",
       "      <td>10:23pm - 6:43am</td>\n",
       "      <td>2022-02-24 22:23:00</td>\n",
       "      <td>2022-02-25 06:43:00</td>\n",
       "      <td>500.0</td>\n",
       "    </tr>\n",
       "    <tr>\n",
       "      <th>116</th>\n",
       "      <td>February</td>\n",
       "      <td>Friday</td>\n",
       "      <td>2/25/2022</td>\n",
       "      <td>90.0</td>\n",
       "      <td>7.766667</td>\n",
       "      <td>0.20</td>\n",
       "      <td>0.21</td>\n",
       "      <td>0.98</td>\n",
       "      <td>10:28pm - 7:15am</td>\n",
       "      <td>2022-02-25 22:28:00</td>\n",
       "      <td>2022-02-26 07:15:00</td>\n",
       "      <td>527.0</td>\n",
       "    </tr>\n",
       "    <tr>\n",
       "      <th>117</th>\n",
       "      <td>February</td>\n",
       "      <td>Saturday</td>\n",
       "      <td>2/26/2022</td>\n",
       "      <td>82.0</td>\n",
       "      <td>8.033333</td>\n",
       "      <td>0.16</td>\n",
       "      <td>0.16</td>\n",
       "      <td>0.57</td>\n",
       "      <td>11:05pm - 8:10am</td>\n",
       "      <td>2022-02-26 23:05:00</td>\n",
       "      <td>2022-02-27 08:10:00</td>\n",
       "      <td>545.0</td>\n",
       "    </tr>\n",
       "    <tr>\n",
       "      <th>118</th>\n",
       "      <td>February</td>\n",
       "      <td>Sunday</td>\n",
       "      <td>2/27/2022</td>\n",
       "      <td>85.0</td>\n",
       "      <td>8.900000</td>\n",
       "      <td>0.18</td>\n",
       "      <td>0.17</td>\n",
       "      <td>0.81</td>\n",
       "      <td>9:59pm - 8:11am</td>\n",
       "      <td>2022-02-27 21:59:00</td>\n",
       "      <td>2022-02-28 08:11:00</td>\n",
       "      <td>612.0</td>\n",
       "    </tr>\n",
       "    <tr>\n",
       "      <th>119</th>\n",
       "      <td>February</td>\n",
       "      <td>Monday</td>\n",
       "      <td>2/28/2022</td>\n",
       "      <td>82.0</td>\n",
       "      <td>7.950000</td>\n",
       "      <td>0.19</td>\n",
       "      <td>0.13</td>\n",
       "      <td>0.54</td>\n",
       "      <td>10:58pm - 8:11am</td>\n",
       "      <td>2022-02-28 22:58:00</td>\n",
       "      <td>2022-03-01 08:11:00</td>\n",
       "      <td>553.0</td>\n",
       "    </tr>\n",
       "  </tbody>\n",
       "</table>\n",
       "<p>120 rows × 12 columns</p>\n",
       "</div>"
      ],
      "text/plain": [
       "        month day_of_week       date  sleep_score  hours_of_sleep  rem_sleep  \\\n",
       "0    November      Monday  11/1/2021         88.0        8.100000       0.20   \n",
       "1    November     Tuesday  11/2/2021         83.0        7.950000       0.12   \n",
       "2    November   Wednesday  11/3/2021         81.0        7.100000       0.13   \n",
       "3    November    Thursday  11/4/2021         86.0        7.066667       0.19   \n",
       "4    November      Friday  11/5/2021         81.0        9.400000       0.17   \n",
       "..        ...         ...        ...          ...             ...        ...   \n",
       "115  February    Thursday  2/24/2022         84.0        7.300000       0.19   \n",
       "116  February      Friday  2/25/2022         90.0        7.766667       0.20   \n",
       "117  February    Saturday  2/26/2022         82.0        8.033333       0.16   \n",
       "118  February      Sunday  2/27/2022         85.0        8.900000       0.18   \n",
       "119  February      Monday  2/28/2022         82.0        7.950000       0.19   \n",
       "\n",
       "     deep_sleep  hr_below_resting        sleep_time            bed_time  \\\n",
       "0          0.13              0.84  10:41pm - 7:54am 2021-11-01 22:41:00   \n",
       "1          0.18              0.90  10:40pm - 7:55am 2021-11-02 22:40:00   \n",
       "2          0.22              0.93  11:03pm - 7:16am 2021-11-03 23:03:00   \n",
       "3          0.17              0.97  10:55pm - 6:56am 2021-11-04 22:55:00   \n",
       "4          0.15              0.66  10:14pm - 9:01am 2021-11-05 22:14:00   \n",
       "..          ...               ...               ...                 ...   \n",
       "115        0.19              0.96  10:23pm - 6:43am 2022-02-24 22:23:00   \n",
       "116        0.21              0.98  10:28pm - 7:15am 2022-02-25 22:28:00   \n",
       "117        0.16              0.57  11:05pm - 8:10am 2022-02-26 23:05:00   \n",
       "118        0.17              0.81   9:59pm - 8:11am 2022-02-27 21:59:00   \n",
       "119        0.13              0.54  10:58pm - 8:11am 2022-02-28 22:58:00   \n",
       "\n",
       "              wake_time  sleep_time_minutes  \n",
       "0   2021-11-02 07:54:00               553.0  \n",
       "1   2021-11-03 07:55:00               555.0  \n",
       "2   2021-11-04 07:16:00               493.0  \n",
       "3   2021-11-05 06:56:00               481.0  \n",
       "4   2021-11-06 09:01:00               647.0  \n",
       "..                  ...                 ...  \n",
       "115 2022-02-25 06:43:00               500.0  \n",
       "116 2022-02-26 07:15:00               527.0  \n",
       "117 2022-02-27 08:10:00               545.0  \n",
       "118 2022-02-28 08:11:00               612.0  \n",
       "119 2022-03-01 08:11:00               553.0  \n",
       "\n",
       "[120 rows x 12 columns]"
      ]
     },
     "execution_count": 18,
     "metadata": {},
     "output_type": "execute_result"
    }
   ],
   "source": [
    "fitbit_data[\"bed_time\"] = bed_time\n",
    "fitbit_data[\"wake_time\"] = wake_time\n",
    "fitbit_data[\"sleep_time_minutes\"] = sleep_time_minutes\n",
    "\n",
    "fitbit_data"
   ]
  },
  {
   "cell_type": "code",
   "execution_count": 19,
   "id": "8bceb4df",
   "metadata": {},
   "outputs": [],
   "source": [
    "# predictor dataset and target variable dataset\n",
    "X = fitbit_data.drop(['sleep_score', 'sleep_time', 'date', 'bed_time', 'wake_time'], axis='columns')\n",
    "y = fitbit_data[\"sleep_score\"]"
   ]
  },
  {
   "cell_type": "code",
   "execution_count": 20,
   "id": "b6e5b483",
   "metadata": {},
   "outputs": [
    {
     "data": {
      "text/html": [
       "<div>\n",
       "<style scoped>\n",
       "    .dataframe tbody tr th:only-of-type {\n",
       "        vertical-align: middle;\n",
       "    }\n",
       "\n",
       "    .dataframe tbody tr th {\n",
       "        vertical-align: top;\n",
       "    }\n",
       "\n",
       "    .dataframe thead th {\n",
       "        text-align: right;\n",
       "    }\n",
       "</style>\n",
       "<table border=\"1\" class=\"dataframe\">\n",
       "  <thead>\n",
       "    <tr style=\"text-align: right;\">\n",
       "      <th></th>\n",
       "      <th>hours_of_sleep</th>\n",
       "      <th>rem_sleep</th>\n",
       "      <th>deep_sleep</th>\n",
       "      <th>hr_below_resting</th>\n",
       "      <th>sleep_time_minutes</th>\n",
       "      <th>month_December</th>\n",
       "      <th>month_February</th>\n",
       "      <th>month_January</th>\n",
       "      <th>month_November</th>\n",
       "      <th>day_of_week_Friday</th>\n",
       "      <th>day_of_week_Monday</th>\n",
       "      <th>day_of_week_Saturday</th>\n",
       "      <th>day_of_week_Sunday</th>\n",
       "      <th>day_of_week_Thursday</th>\n",
       "      <th>day_of_week_Tuesday</th>\n",
       "      <th>day_of_week_Wednesday</th>\n",
       "    </tr>\n",
       "  </thead>\n",
       "  <tbody>\n",
       "    <tr>\n",
       "      <th>0</th>\n",
       "      <td>8.100000</td>\n",
       "      <td>0.20</td>\n",
       "      <td>0.13</td>\n",
       "      <td>0.84</td>\n",
       "      <td>553.0</td>\n",
       "      <td>0</td>\n",
       "      <td>0</td>\n",
       "      <td>0</td>\n",
       "      <td>1</td>\n",
       "      <td>0</td>\n",
       "      <td>1</td>\n",
       "      <td>0</td>\n",
       "      <td>0</td>\n",
       "      <td>0</td>\n",
       "      <td>0</td>\n",
       "      <td>0</td>\n",
       "    </tr>\n",
       "    <tr>\n",
       "      <th>1</th>\n",
       "      <td>7.950000</td>\n",
       "      <td>0.12</td>\n",
       "      <td>0.18</td>\n",
       "      <td>0.90</td>\n",
       "      <td>555.0</td>\n",
       "      <td>0</td>\n",
       "      <td>0</td>\n",
       "      <td>0</td>\n",
       "      <td>1</td>\n",
       "      <td>0</td>\n",
       "      <td>0</td>\n",
       "      <td>0</td>\n",
       "      <td>0</td>\n",
       "      <td>0</td>\n",
       "      <td>1</td>\n",
       "      <td>0</td>\n",
       "    </tr>\n",
       "    <tr>\n",
       "      <th>2</th>\n",
       "      <td>7.100000</td>\n",
       "      <td>0.13</td>\n",
       "      <td>0.22</td>\n",
       "      <td>0.93</td>\n",
       "      <td>493.0</td>\n",
       "      <td>0</td>\n",
       "      <td>0</td>\n",
       "      <td>0</td>\n",
       "      <td>1</td>\n",
       "      <td>0</td>\n",
       "      <td>0</td>\n",
       "      <td>0</td>\n",
       "      <td>0</td>\n",
       "      <td>0</td>\n",
       "      <td>0</td>\n",
       "      <td>1</td>\n",
       "    </tr>\n",
       "    <tr>\n",
       "      <th>3</th>\n",
       "      <td>7.066667</td>\n",
       "      <td>0.19</td>\n",
       "      <td>0.17</td>\n",
       "      <td>0.97</td>\n",
       "      <td>481.0</td>\n",
       "      <td>0</td>\n",
       "      <td>0</td>\n",
       "      <td>0</td>\n",
       "      <td>1</td>\n",
       "      <td>0</td>\n",
       "      <td>0</td>\n",
       "      <td>0</td>\n",
       "      <td>0</td>\n",
       "      <td>1</td>\n",
       "      <td>0</td>\n",
       "      <td>0</td>\n",
       "    </tr>\n",
       "    <tr>\n",
       "      <th>4</th>\n",
       "      <td>9.400000</td>\n",
       "      <td>0.17</td>\n",
       "      <td>0.15</td>\n",
       "      <td>0.66</td>\n",
       "      <td>647.0</td>\n",
       "      <td>0</td>\n",
       "      <td>0</td>\n",
       "      <td>0</td>\n",
       "      <td>1</td>\n",
       "      <td>1</td>\n",
       "      <td>0</td>\n",
       "      <td>0</td>\n",
       "      <td>0</td>\n",
       "      <td>0</td>\n",
       "      <td>0</td>\n",
       "      <td>0</td>\n",
       "    </tr>\n",
       "    <tr>\n",
       "      <th>...</th>\n",
       "      <td>...</td>\n",
       "      <td>...</td>\n",
       "      <td>...</td>\n",
       "      <td>...</td>\n",
       "      <td>...</td>\n",
       "      <td>...</td>\n",
       "      <td>...</td>\n",
       "      <td>...</td>\n",
       "      <td>...</td>\n",
       "      <td>...</td>\n",
       "      <td>...</td>\n",
       "      <td>...</td>\n",
       "      <td>...</td>\n",
       "      <td>...</td>\n",
       "      <td>...</td>\n",
       "      <td>...</td>\n",
       "    </tr>\n",
       "    <tr>\n",
       "      <th>115</th>\n",
       "      <td>7.300000</td>\n",
       "      <td>0.19</td>\n",
       "      <td>0.19</td>\n",
       "      <td>0.96</td>\n",
       "      <td>500.0</td>\n",
       "      <td>0</td>\n",
       "      <td>1</td>\n",
       "      <td>0</td>\n",
       "      <td>0</td>\n",
       "      <td>0</td>\n",
       "      <td>0</td>\n",
       "      <td>0</td>\n",
       "      <td>0</td>\n",
       "      <td>1</td>\n",
       "      <td>0</td>\n",
       "      <td>0</td>\n",
       "    </tr>\n",
       "    <tr>\n",
       "      <th>116</th>\n",
       "      <td>7.766667</td>\n",
       "      <td>0.20</td>\n",
       "      <td>0.21</td>\n",
       "      <td>0.98</td>\n",
       "      <td>527.0</td>\n",
       "      <td>0</td>\n",
       "      <td>1</td>\n",
       "      <td>0</td>\n",
       "      <td>0</td>\n",
       "      <td>1</td>\n",
       "      <td>0</td>\n",
       "      <td>0</td>\n",
       "      <td>0</td>\n",
       "      <td>0</td>\n",
       "      <td>0</td>\n",
       "      <td>0</td>\n",
       "    </tr>\n",
       "    <tr>\n",
       "      <th>117</th>\n",
       "      <td>8.033333</td>\n",
       "      <td>0.16</td>\n",
       "      <td>0.16</td>\n",
       "      <td>0.57</td>\n",
       "      <td>545.0</td>\n",
       "      <td>0</td>\n",
       "      <td>1</td>\n",
       "      <td>0</td>\n",
       "      <td>0</td>\n",
       "      <td>0</td>\n",
       "      <td>0</td>\n",
       "      <td>1</td>\n",
       "      <td>0</td>\n",
       "      <td>0</td>\n",
       "      <td>0</td>\n",
       "      <td>0</td>\n",
       "    </tr>\n",
       "    <tr>\n",
       "      <th>118</th>\n",
       "      <td>8.900000</td>\n",
       "      <td>0.18</td>\n",
       "      <td>0.17</td>\n",
       "      <td>0.81</td>\n",
       "      <td>612.0</td>\n",
       "      <td>0</td>\n",
       "      <td>1</td>\n",
       "      <td>0</td>\n",
       "      <td>0</td>\n",
       "      <td>0</td>\n",
       "      <td>0</td>\n",
       "      <td>0</td>\n",
       "      <td>1</td>\n",
       "      <td>0</td>\n",
       "      <td>0</td>\n",
       "      <td>0</td>\n",
       "    </tr>\n",
       "    <tr>\n",
       "      <th>119</th>\n",
       "      <td>7.950000</td>\n",
       "      <td>0.19</td>\n",
       "      <td>0.13</td>\n",
       "      <td>0.54</td>\n",
       "      <td>553.0</td>\n",
       "      <td>0</td>\n",
       "      <td>1</td>\n",
       "      <td>0</td>\n",
       "      <td>0</td>\n",
       "      <td>0</td>\n",
       "      <td>1</td>\n",
       "      <td>0</td>\n",
       "      <td>0</td>\n",
       "      <td>0</td>\n",
       "      <td>0</td>\n",
       "      <td>0</td>\n",
       "    </tr>\n",
       "  </tbody>\n",
       "</table>\n",
       "<p>120 rows × 16 columns</p>\n",
       "</div>"
      ],
      "text/plain": [
       "     hours_of_sleep  rem_sleep  deep_sleep  hr_below_resting  \\\n",
       "0          8.100000       0.20        0.13              0.84   \n",
       "1          7.950000       0.12        0.18              0.90   \n",
       "2          7.100000       0.13        0.22              0.93   \n",
       "3          7.066667       0.19        0.17              0.97   \n",
       "4          9.400000       0.17        0.15              0.66   \n",
       "..              ...        ...         ...               ...   \n",
       "115        7.300000       0.19        0.19              0.96   \n",
       "116        7.766667       0.20        0.21              0.98   \n",
       "117        8.033333       0.16        0.16              0.57   \n",
       "118        8.900000       0.18        0.17              0.81   \n",
       "119        7.950000       0.19        0.13              0.54   \n",
       "\n",
       "     sleep_time_minutes  month_December  month_February  month_January  \\\n",
       "0                 553.0               0               0              0   \n",
       "1                 555.0               0               0              0   \n",
       "2                 493.0               0               0              0   \n",
       "3                 481.0               0               0              0   \n",
       "4                 647.0               0               0              0   \n",
       "..                  ...             ...             ...            ...   \n",
       "115               500.0               0               1              0   \n",
       "116               527.0               0               1              0   \n",
       "117               545.0               0               1              0   \n",
       "118               612.0               0               1              0   \n",
       "119               553.0               0               1              0   \n",
       "\n",
       "     month_November  day_of_week_Friday  day_of_week_Monday  \\\n",
       "0                 1                   0                   1   \n",
       "1                 1                   0                   0   \n",
       "2                 1                   0                   0   \n",
       "3                 1                   0                   0   \n",
       "4                 1                   1                   0   \n",
       "..              ...                 ...                 ...   \n",
       "115               0                   0                   0   \n",
       "116               0                   1                   0   \n",
       "117               0                   0                   0   \n",
       "118               0                   0                   0   \n",
       "119               0                   0                   1   \n",
       "\n",
       "     day_of_week_Saturday  day_of_week_Sunday  day_of_week_Thursday  \\\n",
       "0                       0                   0                     0   \n",
       "1                       0                   0                     0   \n",
       "2                       0                   0                     0   \n",
       "3                       0                   0                     1   \n",
       "4                       0                   0                     0   \n",
       "..                    ...                 ...                   ...   \n",
       "115                     0                   0                     1   \n",
       "116                     0                   0                     0   \n",
       "117                     1                   0                     0   \n",
       "118                     0                   1                     0   \n",
       "119                     0                   0                     0   \n",
       "\n",
       "     day_of_week_Tuesday  day_of_week_Wednesday  \n",
       "0                      0                      0  \n",
       "1                      1                      0  \n",
       "2                      0                      1  \n",
       "3                      0                      0  \n",
       "4                      0                      0  \n",
       "..                   ...                    ...  \n",
       "115                    0                      0  \n",
       "116                    0                      0  \n",
       "117                    0                      0  \n",
       "118                    0                      0  \n",
       "119                    0                      0  \n",
       "\n",
       "[120 rows x 16 columns]"
      ]
     },
     "execution_count": 20,
     "metadata": {},
     "output_type": "execute_result"
    }
   ],
   "source": [
    "# create dummy variables for categorical variables\n",
    "X = pd.get_dummies(X)\n",
    "X"
   ]
  },
  {
   "cell_type": "code",
   "execution_count": 21,
   "id": "22027b49",
   "metadata": {},
   "outputs": [],
   "source": [
    "# remove warnings\n",
    "import warnings\n",
    "warnings.filterwarnings('ignore')"
   ]
  },
  {
   "cell_type": "markdown",
   "id": "89e3a492",
   "metadata": {},
   "source": [
    "---"
   ]
  },
  {
   "cell_type": "markdown",
   "id": "413e8f3a",
   "metadata": {},
   "source": [
    "# Bagging <a class=\"anchor\" id=\"bagging\"></a>"
   ]
  },
  {
   "cell_type": "markdown",
   "id": "adf982c8",
   "metadata": {},
   "source": [
    "## Explore Number of Trees"
   ]
  },
  {
   "cell_type": "code",
   "execution_count": 22,
   "id": "45581d77",
   "metadata": {},
   "outputs": [
    {
     "name": "stdout",
     "output_type": "stream",
     "text": [
      ">10 -1.556 (0.339)\n",
      ">50 -1.538 (0.343)\n",
      ">100 -1.516 (0.335)\n",
      ">200 -1.504 (0.333)\n",
      ">500 -1.509 (0.334)\n",
      ">1000 -1.503 (0.334)\n"
     ]
    }
   ],
   "source": [
    "# explore bagging ensemble number of trees effect on performance\n",
    "from numpy import mean\n",
    "from numpy import std\n",
    "from sklearn.model_selection import cross_val_score\n",
    "from sklearn.model_selection import RepeatedStratifiedKFold\n",
    "from sklearn.ensemble import BaggingRegressor\n",
    "from matplotlib import pyplot\n",
    "\n",
    "# get a list of models to evaluate\n",
    "def get_models():\n",
    "    models = dict()\n",
    "    # define number of trees to consider\n",
    "    n_trees = [10, 50, 100, 200, 500, 1000]\n",
    "    for n in n_trees:\n",
    "        models[str(n)] = BaggingRegressor(n_estimators=n)\n",
    "    return models\n",
    "\n",
    "# evaluate a given model using cross-validation\n",
    "def evaluate_model(model, X, y):\n",
    "    # define the evaluation procedure\n",
    "    cv = RepeatedStratifiedKFold(n_splits=10, n_repeats=3, random_state=1)\n",
    "    # evaluate the model and collect the results\n",
    "    scores = cross_val_score(model, X, y, scoring='neg_mean_absolute_error', cv=cv, n_jobs=-1)\n",
    "    return scores\n",
    "\n",
    "np.random.seed = 1\n",
    "# get the models to evaluate\n",
    "models = get_models()\n",
    "# evaluate the models and store results\n",
    "results, names = list(), list()\n",
    "for name, model in models.items():\n",
    "    # evaluate the model\n",
    "    scores = evaluate_model(model, X, y)\n",
    "    # store the results\n",
    "    results.append(scores)\n",
    "    names.append(name)\n",
    "    # summarize the performance along the way\n",
    "    print('>%s %.3f (%.3f)' % (name, mean(scores), std(scores)))"
   ]
  },
  {
   "cell_type": "code",
   "execution_count": 23,
   "id": "796ad44c",
   "metadata": {},
   "outputs": [
    {
     "data": {
      "image/png": "[encoded data removed]",
      "text/plain": [
       "<Figure size 432x288 with 1 Axes>"
      ]
     },
     "metadata": {
      "needs_background": "light"
     },
     "output_type": "display_data"
    }
   ],
   "source": [
    "# plot model performance for comparison\n",
    "pyplot.boxplot(results, labels=names, showmeans=True)\n",
    "pyplot.xlabel(\"Number of Trees\")\n",
    "pyplot.ylabel(\"Negative MAE\")\n",
    "pyplot.title(\"Bagging Ensemble Model\")\n",
    "pyplot.show()"
   ]
  },
  {
   "cell_type": "markdown",
   "id": "9d6963ad",
   "metadata": {},
   "source": [
    "## Explore Number of Samples"
   ]
  },
  {
   "cell_type": "code",
   "execution_count": 24,
   "id": "cba7c594",
   "metadata": {},
   "outputs": [
    {
     "name": "stdout",
     "output_type": "stream",
     "text": [
      ">0.1 -2.359 (0.672)\n",
      ">0.2 -1.921 (0.559)\n",
      ">0.3 -1.736 (0.511)\n",
      ">0.4 -1.632 (0.456)\n",
      ">0.5 -1.579 (0.414)\n",
      ">0.6 -1.552 (0.396)\n",
      ">0.7 -1.530 (0.368)\n",
      ">0.8 -1.523 (0.358)\n",
      ">0.9 -1.499 (0.342)\n",
      ">1.0 -1.502 (0.331)\n"
     ]
    }
   ],
   "source": [
    "# explore bagging ensemble number of samples effect on performance\n",
    "from numpy import mean\n",
    "from numpy import std\n",
    "from numpy import arange\n",
    "from sklearn.datasets import make_classification\n",
    "from sklearn.model_selection import cross_val_score\n",
    "from sklearn.model_selection import RepeatedStratifiedKFold\n",
    "from sklearn.ensemble import BaggingClassifier\n",
    "from matplotlib import pyplot\n",
    "\n",
    "# get a list of models to evaluate\n",
    "def get_models():\n",
    "    models = dict()\n",
    "    # explore ratios from 10% to 100% in 10% increments\n",
    "    for i in arange(0.1, 1.1, 0.1):\n",
    "        key = '%.1f' % i\n",
    "        models[key] = BaggingRegressor(max_samples=i, n_estimators=1000)\n",
    "    return models\n",
    "\n",
    "# evaluate a given model using cross-validation\n",
    "def evaluate_model(model, X, y):\n",
    "    # define the evaluation procedure\n",
    "    cv = RepeatedStratifiedKFold(n_splits=10, n_repeats=3, random_state=1)\n",
    "    # evaluate the model and collect the results\n",
    "    scores = cross_val_score(model, X, y, scoring='neg_mean_absolute_error', cv=cv, n_jobs=-1)\n",
    "    return scores\n",
    "\n",
    "# get the models to evaluate\n",
    "models = get_models()\n",
    "# evaluate the models and store results\n",
    "results, names = list(), list()\n",
    "for name, model in models.items():\n",
    "    # evaluate the model\n",
    "    scores = evaluate_model(model, X, y)\n",
    "    # store the results\n",
    "    results.append(scores)\n",
    "    names.append(name)\n",
    "    # summarize the performance along the way\n",
    "    print('>%s %.3f (%.3f)' % (name, mean(scores), std(scores)))"
   ]
  },
  {
   "cell_type": "code",
   "execution_count": 25,
   "id": "efd06229",
   "metadata": {},
   "outputs": [
    {
     "data": {
      "image/png": "[encoded data removed]",
      "text/plain": [
       "<Figure size 432x288 with 1 Axes>"
      ]
     },
     "metadata": {
      "needs_background": "light"
     },
     "output_type": "display_data"
    }
   ],
   "source": [
    "# plot model performance for comparison\n",
    "pyplot.boxplot(results, labels=names, showmeans=True)\n",
    "pyplot.xlabel(\"Number of Samples\")\n",
    "pyplot.ylabel(\"Negative MAE\")\n",
    "pyplot.title(\"Bagging Ensemble Model\")\n",
    "pyplot.show()"
   ]
  },
  {
   "cell_type": "markdown",
   "id": "2238dd0f",
   "metadata": {},
   "source": [
    "After analyzing various hyperparameters for our bagging ensemble model by identifying the lowest the mean absolute error (MAE) value we determined:\n",
    "- Optimal number of trees $\\rightarrow$ **1000**\n",
    "- Optimal number of samples $\\rightarrow$ **0.9**"
   ]
  },
  {
   "cell_type": "markdown",
   "id": "21f00d02",
   "metadata": {},
   "source": [
    "---"
   ]
  },
  {
   "cell_type": "markdown",
   "id": "8daaf64e",
   "metadata": {},
   "source": [
    "# Random Forest <a class=\"anchor\" id=\"randomforest\"></a>"
   ]
  },
  {
   "cell_type": "markdown",
   "id": "98ac7040",
   "metadata": {},
   "source": [
    "## Explore Number of Samples"
   ]
  },
  {
   "cell_type": "code",
   "execution_count": 26,
   "id": "643af174",
   "metadata": {},
   "outputs": [
    {
     "name": "stdout",
     "output_type": "stream",
     "text": [
      ">0.1 -2.281 (0.654)\n",
      ">0.2 -1.883 (0.553)\n",
      ">0.3 -1.756 (0.509)\n",
      ">0.4 -1.643 (0.443)\n",
      ">0.5 -1.617 (0.425)\n",
      ">0.6 -1.551 (0.389)\n",
      ">0.7 -1.549 (0.376)\n",
      ">0.8 -1.519 (0.349)\n",
      ">0.9 -1.534 (0.346)\n",
      ">1.0 -1.524 (0.320)\n"
     ]
    }
   ],
   "source": [
    "# explore random forest bootstrap sample size on performance\n",
    "from numpy import mean\n",
    "from numpy import std\n",
    "from numpy import arange\n",
    "from sklearn.datasets import make_classification\n",
    "from sklearn.model_selection import cross_val_score\n",
    "from sklearn.model_selection import RepeatedStratifiedKFold\n",
    "from sklearn.ensemble import RandomForestRegressor\n",
    "from matplotlib import pyplot\n",
    " \n",
    "# get a list of models to evaluate\n",
    "def get_models():\n",
    "    models = dict()\n",
    "    # explore ratios from 10% to 100% in 10% increments\n",
    "    for i in arange(0.1, 1.1, 0.1):\n",
    "        key = '%.1f' % i\n",
    "        # set max_samples=None to use 100%\n",
    "        if i == 1.0:\n",
    "            i = None\n",
    "        models[key] = RandomForestRegressor(max_samples=i)\n",
    "    return models\n",
    " \n",
    "# evaluate a given model using cross-validation\n",
    "def evaluate_model(model, X, y):\n",
    "    # define the evaluation procedure\n",
    "    cv = RepeatedStratifiedKFold(n_splits=10, n_repeats=3, random_state=1)\n",
    "    # evaluate the model and collect the results\n",
    "    scores = cross_val_score(model, X, y, scoring='neg_mean_absolute_error', cv=cv, n_jobs=-1)\n",
    "    return scores\n",
    " \n",
    "# get the models to evaluate\n",
    "models = get_models()\n",
    "# evaluate the models and store results\n",
    "results, names = list(), list()\n",
    "for name, model in models.items():\n",
    "    # evaluate the model\n",
    "    scores = evaluate_model(model, X, y)\n",
    "    # store the results\n",
    "    results.append(scores)\n",
    "    names.append(name)\n",
    "    # summarize the performance along the way\n",
    "    print('>%s %.3f (%.3f)' % (name, mean(scores), std(scores)))"
   ]
  },
  {
   "cell_type": "code",
   "execution_count": 27,
   "id": "bb69033d",
   "metadata": {},
   "outputs": [
    {
     "data": {
      "image/png": "[encoded data removed]",
      "text/plain": [
       "<Figure size 432x288 with 1 Axes>"
      ]
     },
     "metadata": {
      "needs_background": "light"
     },
     "output_type": "display_data"
    }
   ],
   "source": [
    "# plot model performance for comparison\n",
    "pyplot.boxplot(results, labels=names, showmeans=True)\n",
    "pyplot.xlabel(\"Number of Samples\")\n",
    "pyplot.ylabel(\"Negative MAE\")\n",
    "pyplot.title(\"Random Forest Model\")\n",
    "pyplot.show()"
   ]
  },
  {
   "cell_type": "markdown",
   "id": "d2ae1096",
   "metadata": {},
   "source": [
    "## Explore Number of Trees"
   ]
  },
  {
   "cell_type": "code",
   "execution_count": 28,
   "id": "f43a33c4",
   "metadata": {},
   "outputs": [
    {
     "name": "stdout",
     "output_type": "stream",
     "text": [
      ">10 -1.602 (0.392)\n",
      ">50 -1.519 (0.333)\n",
      ">100 -1.526 (0.356)\n",
      ">200 -1.513 (0.334)\n",
      ">500 -1.509 (0.329)\n",
      ">1000 -1.499 (0.327)\n"
     ]
    }
   ],
   "source": [
    "# explore random forest number of trees effect on performance\n",
    "from numpy import mean\n",
    "from numpy import std\n",
    "from sklearn.model_selection import cross_val_score\n",
    "from sklearn.model_selection import RepeatedStratifiedKFold\n",
    "from sklearn.ensemble import RandomForestRegressor\n",
    "from matplotlib import pyplot\n",
    "\n",
    "# get a list of models to evaluate\n",
    "def get_models():\n",
    "    models = dict()\n",
    "    # define number of trees to consider\n",
    "    n_trees = [10, 50, 100, 200, 500, 1000]\n",
    "    for n in n_trees:\n",
    "        models[str(n)] = RandomForestRegressor(n_estimators=n)\n",
    "    return models\n",
    "\n",
    "# evaluate a given model using cross-validation\n",
    "def evaluate_model(model, X, y):\n",
    "    # define the evaluation procedure\n",
    "    cv = RepeatedStratifiedKFold(n_splits=10, n_repeats=3, random_state=1)\n",
    "    # evaluate the model and collect the results\n",
    "    scores = cross_val_score(model, X, y, scoring='neg_mean_absolute_error', cv=cv, n_jobs=-1)\n",
    "    return scores\n",
    "\n",
    "# get the models to evaluate\n",
    "models = get_models()\n",
    "# evaluate the models and store results\n",
    "results, names = list(), list()\n",
    "for name, model in models.items():\n",
    "    # evaluate the model\n",
    "    scores = evaluate_model(model, X, y)\n",
    "    # store the results\n",
    "    results.append(scores)\n",
    "    names.append(name)\n",
    "    # summarize the performance along the way\n",
    "    print('>%s %.3f (%.3f)' % (name, mean(scores), std(scores)))"
   ]
  },
  {
   "cell_type": "code",
   "execution_count": 29,
   "id": "8c0bc69f",
   "metadata": {},
   "outputs": [
    {
     "data": {
      "image/png": "[encoded data removed]",
      "text/plain": [
       "<Figure size 432x288 with 1 Axes>"
      ]
     },
     "metadata": {
      "needs_background": "light"
     },
     "output_type": "display_data"
    }
   ],
   "source": [
    "# plot model performance for comparison\n",
    "pyplot.boxplot(results, labels=names, showmeans=True)\n",
    "pyplot.xlabel(\"Number of Trees\")\n",
    "pyplot.ylabel(\"Negative Mean Absolute Error\")\n",
    "pyplot.title(\"Random Forest Model\")\n",
    "pyplot.show()"
   ]
  },
  {
   "cell_type": "markdown",
   "id": "abb08e26",
   "metadata": {},
   "source": [
    "## Explore Number of Features"
   ]
  },
  {
   "cell_type": "code",
   "execution_count": 30,
   "id": "94426eab",
   "metadata": {},
   "outputs": [
    {
     "name": "stdout",
     "output_type": "stream",
     "text": [
      ">1 -2.531 (0.661)\n",
      ">2 -2.244 (0.600)\n",
      ">3 -1.995 (0.543)\n",
      ">4 -1.840 (0.504)\n",
      ">5 -1.728 (0.458)\n",
      ">6 -1.659 (0.419)\n",
      ">7 -1.609 (0.392)\n",
      ">8 -1.570 (0.374)\n",
      ">9 -1.540 (0.373)\n",
      ">10 -1.522 (0.353)\n",
      ">11 -1.512 (0.348)\n",
      ">12 -1.511 (0.342)\n",
      ">13 -1.517 (0.339)\n",
      ">14 -1.501 (0.333)\n",
      ">15 -1.505 (0.331)\n",
      ">16 -1.503 (0.335)\n"
     ]
    }
   ],
   "source": [
    "# explore random forest number of features effect on performance\n",
    "from numpy import mean\n",
    "from numpy import std\n",
    "from sklearn.datasets import make_classification\n",
    "from sklearn.model_selection import cross_val_score\n",
    "from sklearn.model_selection import RepeatedStratifiedKFold\n",
    "from sklearn.ensemble import RandomForestClassifier\n",
    "from matplotlib import pyplot\n",
    " \n",
    "# get a list of models to evaluate\n",
    "def get_models():\n",
    "    models = dict()\n",
    "    # explore number of features from 1 to 16\n",
    "    for i in range(1,17):\n",
    "        models[str(i)] = RandomForestRegressor(max_features=i, n_estimators=1000)\n",
    "    return models\n",
    " \n",
    "# evaluate a given model using cross-validation\n",
    "def evaluate_model(model, X, y):\n",
    "    # define the evaluation procedure\n",
    "    cv = RepeatedStratifiedKFold(n_splits=10, n_repeats=3, random_state=1)\n",
    "    # evaluate the model and collect the results\n",
    "    scores = cross_val_score(model, X, y, scoring='neg_mean_absolute_error', cv=cv, n_jobs=-1)\n",
    "    return scores\n",
    " \n",
    "# get the models to evaluate\n",
    "models = get_models()\n",
    "# evaluate the models and store results\n",
    "results, names = list(), list()\n",
    "for name, model in models.items():\n",
    "    # evaluate the model\n",
    "    scores = evaluate_model(model, X, y)\n",
    "    # store the results\n",
    "    results.append(scores)\n",
    "    names.append(name)\n",
    "    # summarize the performance along the way\n",
    "    print('>%s %.3f (%.3f)' % (name, mean(scores), std(scores)))"
   ]
  },
  {
   "cell_type": "code",
   "execution_count": 31,
   "id": "cd009ff3",
   "metadata": {},
   "outputs": [
    {
     "data": {
      "image/png": "[encoded data removed]",
      "text/plain": [
       "<Figure size 432x288 with 1 Axes>"
      ]
     },
     "metadata": {
      "needs_background": "light"
     },
     "output_type": "display_data"
    }
   ],
   "source": [
    "# plot model performance for comparison\n",
    "pyplot.boxplot(results, labels=names, showmeans=True)\n",
    "pyplot.xlabel(\"Number of Features\")\n",
    "pyplot.ylabel(\"Negative MAE\")\n",
    "pyplot.title(\"Random Forest Model\")\n",
    "pyplot.show()"
   ]
  },
  {
   "cell_type": "markdown",
   "id": "0dd999a1",
   "metadata": {},
   "source": [
    "## Explore Tree Depth"
   ]
  },
  {
   "cell_type": "code",
   "execution_count": 32,
   "id": "e8abaa7a",
   "metadata": {},
   "outputs": [
    {
     "name": "stdout",
     "output_type": "stream",
     "text": [
      ">1 -2.786 (0.535)\n",
      ">2 -2.177 (0.479)\n",
      ">3 -1.777 (0.383)\n",
      ">4 -1.591 (0.358)\n",
      ">5 -1.538 (0.335)\n",
      ">6 -1.513 (0.324)\n",
      ">7 -1.500 (0.338)\n",
      ">None -1.507 (0.335)\n"
     ]
    }
   ],
   "source": [
    "# explore random forest tree depth effect on performance\n",
    "from numpy import mean\n",
    "from numpy import std\n",
    "from sklearn.datasets import make_classification\n",
    "from sklearn.model_selection import cross_val_score\n",
    "from sklearn.model_selection import RepeatedStratifiedKFold\n",
    "from sklearn.ensemble import RandomForestClassifier\n",
    "from matplotlib import pyplot\n",
    "\n",
    " \n",
    "# get a list of models to evaluate\n",
    "def get_models():\n",
    "    models = dict()\n",
    "    # consider tree depths from 1 to 7 and None=full\n",
    "    depths = [i for i in range(1,8)] + [None]\n",
    "    for n in depths:\n",
    "        models[str(n)] = RandomForestRegressor(max_depth=n, max_features=14, n_estimators=1000)\n",
    "    return models\n",
    " \n",
    "# evaluate a given model using cross-validation\n",
    "def evaluate_model(model, X, y):\n",
    "    # define the evaluation procedure\n",
    "    cv = RepeatedStratifiedKFold(n_splits=10, n_repeats=3, random_state=1)\n",
    "    # evaluate the model and collect the results\n",
    "    scores = cross_val_score(model, X, y, scoring='neg_mean_absolute_error', cv=cv, n_jobs=-1)\n",
    "    return scores\n",
    " \n",
    "# get the models to evaluate\n",
    "models = get_models()\n",
    "# evaluate the models and store results\n",
    "results, names = list(), list()\n",
    "for name, model in models.items():\n",
    "    # evaluate the model\n",
    "    scores = evaluate_model(model, X, y)\n",
    "    # store the results\n",
    "    results.append(scores)\n",
    "    names.append(name)\n",
    "    # summarize the performance along the way\n",
    "    print('>%s %.3f (%.3f)' % (name, mean(scores), std(scores)))"
   ]
  },
  {
   "cell_type": "code",
   "execution_count": 33,
   "id": "5c6ecdc0",
   "metadata": {},
   "outputs": [
    {
     "data": {
      "image/png": "[encoded data removed]",
      "text/plain": [
       "<Figure size 432x288 with 1 Axes>"
      ]
     },
     "metadata": {
      "needs_background": "light"
     },
     "output_type": "display_data"
    }
   ],
   "source": [
    "# plot model performance for comparison\n",
    "pyplot.boxplot(results, labels=names, showmeans=True)\n",
    "pyplot.xlabel(\"Maximum Tree Depth\")\n",
    "pyplot.ylabel(\"Negative MAE\")\n",
    "pyplot.title(\"Random Forest Model\")\n",
    "pyplot.show()"
   ]
  },
  {
   "cell_type": "markdown",
   "id": "7a328790",
   "metadata": {},
   "source": [
    "After analyzing various hyperparameters for our random forest model by identifying the lowest the mean absolute error (MAE) value we determined:\n",
    "- Optimal number of samples $\\rightarrow$ **1.0**\n",
    "- Optimal number of trees $\\rightarrow$ **1000**\n",
    "- Optimal number of features $\\rightarrow$ **14**\n",
    "- Optimal tree depth $\\rightarrow$ **None**"
   ]
  },
  {
   "cell_type": "markdown",
   "id": "eaa8df3c",
   "metadata": {},
   "source": [
    "---"
   ]
  },
  {
   "cell_type": "markdown",
   "id": "01bc5222",
   "metadata": {},
   "source": [
    "# Stacking <a class=\"anchor\" id=\"stacking\"></a>"
   ]
  },
  {
   "cell_type": "markdown",
   "id": "e5a78536",
   "metadata": {},
   "source": [
    "Base models:\n",
    "- **Linear regression**\n",
    "- **k-nearest neighbors**\n",
    "- **Decision trees**\n",
    "- **Support vector machines**\n",
    "- **Bagging**\n",
    "- **Random forest**"
   ]
  },
  {
   "cell_type": "code",
   "execution_count": 34,
   "id": "778a3212",
   "metadata": {},
   "outputs": [
    {
     "name": "stdout",
     "output_type": "stream",
     "text": [
      ">lr -1.648 (0.377)\n",
      ">knn -3.423 (0.901)\n",
      ">cart -1.975 (0.550)\n",
      ">svm -3.443 (0.812)\n",
      ">bag -1.504 (0.378)\n",
      ">rf -1.500 (0.384)\n",
      ">stacking -1.374 (0.318)\n"
     ]
    },
    {
     "data": {
      "image/png": "[encoded data removed]",
      "text/plain": [
       "<Figure size 432x288 with 1 Axes>"
      ]
     },
     "metadata": {
      "needs_background": "light"
     },
     "output_type": "display_data"
    }
   ],
   "source": [
    "# compare ensemble to each standalone models for regression\n",
    "from numpy import mean\n",
    "from numpy import std\n",
    "from sklearn.datasets import make_regression\n",
    "from sklearn.model_selection import cross_val_score\n",
    "from sklearn.model_selection import RepeatedKFold\n",
    "from sklearn.linear_model import LinearRegression\n",
    "from sklearn.neighbors import KNeighborsRegressor\n",
    "from sklearn.tree import DecisionTreeRegressor\n",
    "from sklearn.svm import SVR\n",
    "from sklearn.ensemble import BaggingRegressor\n",
    "from sklearn.ensemble import RandomForestRegressor\n",
    "from sklearn.ensemble import StackingRegressor\n",
    "from matplotlib import pyplot\n",
    "\n",
    "# get a stacking ensemble of models\n",
    "def get_stacking():\n",
    "    # define the base models\n",
    "    level0 = list()\n",
    "    level0.append(('lr', LinearRegression()))\n",
    "    level0.append(('knn', KNeighborsRegressor()))\n",
    "    level0.append(('cart', DecisionTreeRegressor()))\n",
    "    level0.append(('svm', SVR()))\n",
    "    level0.append(('bag', BaggingRegressor(n_estimators=1000)))\n",
    "    level0.append(('rf', RandomForestRegressor(n_estimators=1000)))\n",
    "    # define meta learner model\n",
    "    level1 = LinearRegression()\n",
    "    # define the stacking ensemble\n",
    "    model = StackingRegressor(estimators=level0, final_estimator=level1, cv=5)\n",
    "    return model\n",
    "\n",
    "# get a list of models to evaluate\n",
    "def get_models():\n",
    "    models = dict()\n",
    "    models['lr'] = LinearRegression()\n",
    "    models['knn'] = KNeighborsRegressor()\n",
    "    models['cart'] = DecisionTreeRegressor()\n",
    "    models['svm'] = SVR()\n",
    "    models['bag'] = BaggingRegressor(n_estimators=1000)\n",
    "    models['rf'] = RandomForestRegressor(n_estimators=1000)\n",
    "    models['stacking'] = get_stacking()\n",
    "    return models\n",
    "\n",
    "# evaluate a given model using cross-validation\n",
    "def evaluate_model(model, X, y):\n",
    "    cv = RepeatedKFold(n_splits=10, n_repeats=3, random_state=1)\n",
    "    scores = cross_val_score(model, X, y, scoring='neg_mean_absolute_error', cv=cv, n_jobs=-1, error_score='raise')\n",
    "    return scores\n",
    "\n",
    "# get the models to evaluate\n",
    "models = get_models()\n",
    "# evaluate the models and store results\n",
    "results, names = list(), list()\n",
    "for name, model in models.items():\n",
    "    scores = evaluate_model(model, X, y)\n",
    "    results.append(scores)\n",
    "    names.append(name)\n",
    "    print('>%s %.3f (%.3f)' % (name, mean(scores), std(scores)))\n",
    "# plot model performance for comparison\n",
    "pyplot.boxplot(results, labels=names, showmeans=True)\n",
    "pyplot.xlabel(\"Base Models & Stacking\")\n",
    "pyplot.ylabel(\"Negative Mean Absolute Error\")\n",
    "pyplot.title(\"Stacking Ensemble Model\")\n",
    "pyplot.show()"
   ]
  },
  {
   "cell_type": "code",
   "execution_count": 35,
   "id": "15c3011a",
   "metadata": {},
   "outputs": [
    {
     "name": "stdout",
     "output_type": "stream",
     "text": [
      ">lr -1.648 (0.377)\n",
      ">cart -1.867 (0.426)\n",
      ">bag -1.500 (0.380)\n",
      ">rf -1.503 (0.380)\n",
      ">stacking -1.369 (0.279)\n"
     ]
    },
    {
     "data": {
      "image/png": "[encoded data removed]",
      "text/plain": [
       "<Figure size 432x288 with 1 Axes>"
      ]
     },
     "metadata": {
      "needs_background": "light"
     },
     "output_type": "display_data"
    }
   ],
   "source": [
    "# compare ensemble to each standalone models for regression\n",
    "from numpy import mean\n",
    "from numpy import std\n",
    "from sklearn.datasets import make_regression\n",
    "from sklearn.model_selection import cross_val_score\n",
    "from sklearn.model_selection import RepeatedKFold\n",
    "from sklearn.linear_model import LinearRegression\n",
    "from sklearn.neighbors import KNeighborsRegressor\n",
    "from sklearn.tree import DecisionTreeRegressor\n",
    "from sklearn.svm import SVR\n",
    "from sklearn.ensemble import BaggingRegressor\n",
    "from sklearn.ensemble import RandomForestRegressor\n",
    "from sklearn.ensemble import StackingRegressor\n",
    "from matplotlib import pyplot\n",
    "\n",
    "# get a stacking ensemble of models\n",
    "def get_stacking():\n",
    "    # define the base models\n",
    "    level0 = list()\n",
    "    level0.append(('lr', LinearRegression()))\n",
    "    #level0.append(('knn', KNeighborsRegressor()))\n",
    "    level0.append(('cart', DecisionTreeRegressor()))\n",
    "    #level0.append(('svm', SVR()))\n",
    "    level0.append(('bag', BaggingRegressor(n_estimators=1000)))\n",
    "    level0.append(('rf', RandomForestRegressor(n_estimators=1000)))\n",
    "    # define meta learner model\n",
    "    level1 = LinearRegression()\n",
    "    # define the stacking ensemble\n",
    "    model = StackingRegressor(estimators=level0, final_estimator=level1, cv=5)\n",
    "    return model\n",
    "\n",
    "# get a list of models to evaluate\n",
    "def get_models():\n",
    "    models = dict()\n",
    "    models['lr'] = LinearRegression()\n",
    "    #models['knn'] = KNeighborsRegressor()\n",
    "    models['cart'] = DecisionTreeRegressor()\n",
    "    #models['svm'] = SVR()\n",
    "    models['bag'] = BaggingRegressor(n_estimators=1000)\n",
    "    models['rf'] = RandomForestRegressor(n_estimators=1000)\n",
    "    models['stacking'] = get_stacking()\n",
    "    return models\n",
    "\n",
    "# evaluate a given model using cross-validation\n",
    "def evaluate_model(model, X, y):\n",
    "    cv = RepeatedKFold(n_splits=10, n_repeats=3, random_state=1)\n",
    "    scores = cross_val_score(model, X, y, scoring='neg_mean_absolute_error', cv=cv, n_jobs=-1, error_score='raise')\n",
    "    return scores\n",
    "\n",
    "# get the models to evaluate\n",
    "models = get_models()\n",
    "# evaluate the models and store results\n",
    "results, names = list(), list()\n",
    "for name, model in models.items():\n",
    "    scores = evaluate_model(model, X, y)\n",
    "    results.append(scores)\n",
    "    names.append(name)\n",
    "    print('>%s %.3f (%.3f)' % (name, mean(scores), std(scores)))\n",
    "# plot model performance for comparison\n",
    "pyplot.boxplot(results, labels=names, showmeans=True)\n",
    "pyplot.xlabel(\"Base Models & Stacking\")\n",
    "pyplot.ylabel(\"Negative Mean Absolute Error\")\n",
    "pyplot.title(\"Stacking Ensemble Model\")\n",
    "pyplot.show()"
   ]
  },
  {
   "cell_type": "code",
   "execution_count": 36,
   "id": "db42a468",
   "metadata": {},
   "outputs": [
    {
     "name": "stdout",
     "output_type": "stream",
     "text": [
      ">lr -1.648 (0.377)\n",
      ">bag -1.501 (0.383)\n",
      ">rf -1.498 (0.382)\n",
      ">stacking -1.320 (0.289)\n"
     ]
    },
    {
     "data": {
      "image/png": "[encoded data removed]",
      "text/plain": [
       "<Figure size 432x288 with 1 Axes>"
      ]
     },
     "metadata": {
      "needs_background": "light"
     },
     "output_type": "display_data"
    }
   ],
   "source": [
    "# compare ensemble to each standalone models for regression\n",
    "from numpy import mean\n",
    "from numpy import std\n",
    "from sklearn.datasets import make_regression\n",
    "from sklearn.model_selection import cross_val_score\n",
    "from sklearn.model_selection import RepeatedKFold\n",
    "from sklearn.linear_model import LinearRegression\n",
    "from sklearn.neighbors import KNeighborsRegressor\n",
    "from sklearn.tree import DecisionTreeRegressor\n",
    "from sklearn.svm import SVR\n",
    "from sklearn.ensemble import BaggingRegressor\n",
    "from sklearn.ensemble import RandomForestRegressor\n",
    "from sklearn.ensemble import StackingRegressor\n",
    "from matplotlib import pyplot\n",
    "\n",
    "# get a stacking ensemble of models\n",
    "def get_stacking():\n",
    "    # define the base models\n",
    "    level0 = list()\n",
    "    level0.append(('lr', LinearRegression()))\n",
    "    #level0.append(('knn', KNeighborsRegressor()))\n",
    "    #level0.append(('cart', DecisionTreeRegressor()))\n",
    "    #level0.append(('svm', SVR()))\n",
    "    level0.append(('bag', BaggingRegressor(n_estimators=1000)))\n",
    "    level0.append(('rf', RandomForestRegressor(n_estimators=1000)))\n",
    "    # define meta learner model\n",
    "    level1 = LinearRegression()\n",
    "    # define the stacking ensemble\n",
    "    model = StackingRegressor(estimators=level0, final_estimator=level1, cv=5)\n",
    "    return model\n",
    "\n",
    "# get a list of models to evaluate\n",
    "def get_models():\n",
    "    models = dict()\n",
    "    models['lr'] = LinearRegression()\n",
    "    #models['knn'] = KNeighborsRegressor()\n",
    "    #models['cart'] = DecisionTreeRegressor()\n",
    "    #models['svm'] = SVR()\n",
    "    models['bag'] = BaggingRegressor(n_estimators=1000)\n",
    "    models['rf'] = RandomForestRegressor(n_estimators=1000)\n",
    "    models['stacking'] = get_stacking()\n",
    "    return models\n",
    "\n",
    "# evaluate a given model using cross-validation\n",
    "def evaluate_model(model, X, y):\n",
    "    cv = RepeatedKFold(n_splits=10, n_repeats=3, random_state=1)\n",
    "    scores = cross_val_score(model, X, y, scoring='neg_mean_absolute_error', cv=cv, n_jobs=-1, error_score='raise')\n",
    "    return scores\n",
    "\n",
    "# get the models to evaluate\n",
    "models = get_models()\n",
    "# evaluate the models and store results\n",
    "results, names = list(), list()\n",
    "for name, model in models.items():\n",
    "    scores = evaluate_model(model, X, y)\n",
    "    results.append(scores)\n",
    "    names.append(name)\n",
    "    print('>%s %.3f (%.3f)' % (name, mean(scores), std(scores)))\n",
    "# plot model performance for comparison\n",
    "pyplot.boxplot(results, labels=names, showmeans=True)\n",
    "pyplot.xlabel(\"Base Models & Stacking\")\n",
    "pyplot.ylabel(\"Negative Mean Absolute Error\")\n",
    "pyplot.title(\"Stacking Ensemble Model\")\n",
    "pyplot.show()"
   ]
  },
  {
   "cell_type": "markdown",
   "id": "7cdba8fe",
   "metadata": {},
   "source": [
    "The following are the optimal base models for our stacking ensemble model. We determined this from analyzing various combinations of stacking base models and identifying the combination with the smallest mean absolute error value:\n",
    "- **Linear regression**\n",
    "- **Bagging**\n",
    "- **Random forest**"
   ]
  },
  {
   "cell_type": "markdown",
   "id": "104fade6-ac91-48f6-8b5d-3d8c2782cf81",
   "metadata": {},
   "source": [
    "---"
   ]
  },
  {
   "cell_type": "markdown",
   "id": "0da00f84-3e9b-43f0-95f3-1ffd2b866d71",
   "metadata": {},
   "source": [
    "# Conclusion <a class=\"anchor\" id=\"conclusion\"></a>"
   ]
  },
  {
   "cell_type": "markdown",
   "id": "928bd0df",
   "metadata": {},
   "source": [
    "## Optimal Bagging Ensemble Model"
   ]
  },
  {
   "cell_type": "code",
   "execution_count": 37,
   "id": "bf897b4a",
   "metadata": {},
   "outputs": [
    {
     "name": "stdout",
     "output_type": "stream",
     "text": [
      "MAE = -1.504 (0.382)\n"
     ]
    }
   ],
   "source": [
    "# define the model\n",
    "model = BaggingRegressor(n_estimators=1000, max_samples=0.9)\n",
    "\n",
    "# evaluate the model\n",
    "cv = RepeatedKFold(n_splits=10, n_repeats=3, random_state=1)\n",
    "n_scores = cross_val_score(model, X, y, scoring='neg_mean_absolute_error', cv=cv, n_jobs=-1, error_score='raise')\n",
    "\n",
    "# report performance\n",
    "print('MAE = %.3f (%.3f)' % (mean(n_scores), std(n_scores)))"
   ]
  },
  {
   "cell_type": "markdown",
   "id": "7f9e7e37",
   "metadata": {},
   "source": [
    "## Optimal Random Forest Model"
   ]
  },
  {
   "cell_type": "code",
   "execution_count": 38,
   "id": "a5fd2264",
   "metadata": {},
   "outputs": [
    {
     "name": "stdout",
     "output_type": "stream",
     "text": [
      "MAE: -1.507 (0.379)\n"
     ]
    }
   ],
   "source": [
    "# define the model\n",
    "model = RandomForestRegressor(n_estimators=1000, max_features=14, max_depth=None)\n",
    "\n",
    "# evaluate the model\n",
    "cv = RepeatedKFold(n_splits=10, n_repeats=3, random_state=1)\n",
    "n_scores = cross_val_score(model, X, y, scoring='neg_mean_absolute_error', cv=cv, n_jobs=-1, error_score='raise')\n",
    "\n",
    "# report performance\n",
    "print('MAE: %.3f (%.3f)' % (mean(n_scores), std(n_scores)))"
   ]
  },
  {
   "cell_type": "markdown",
   "id": "474912b0",
   "metadata": {},
   "source": [
    "## Optimal Stacking Ensemble Model"
   ]
  },
  {
   "cell_type": "code",
   "execution_count": 39,
   "id": "1f4f62d1",
   "metadata": {},
   "outputs": [
    {
     "name": "stdout",
     "output_type": "stream",
     "text": [
      ">lr -1.648 (0.377)\n",
      ">bag -1.499 (0.382)\n",
      ">rf -1.499 (0.383)\n",
      ">stacking -1.344 (0.320)\n"
     ]
    }
   ],
   "source": [
    "# get a stacking ensemble of models\n",
    "def get_stacking():\n",
    "    # define the base models\n",
    "    level0 = list()\n",
    "    level0.append(('lr', LinearRegression()))\n",
    "    #level0.append(('knn', KNeighborsRegressor()))\n",
    "    #level0.append(('cart', DecisionTreeRegressor()))\n",
    "    #level0.append(('svm', SVR()))\n",
    "    level0.append(('bag', BaggingRegressor(n_estimators=1000)))\n",
    "    level0.append(('rf', RandomForestRegressor(n_estimators=1000)))\n",
    "    # define meta learner model\n",
    "    level1 = LinearRegression()\n",
    "    # define the stacking ensemble\n",
    "    model = StackingRegressor(estimators=level0, final_estimator=level1, cv=5)\n",
    "    return model\n",
    "\n",
    "# get a list of models to evaluate\n",
    "def get_models():\n",
    "    models = dict()\n",
    "    models['lr'] = LinearRegression()\n",
    "    #models['knn'] = KNeighborsRegressor()\n",
    "    #models['cart'] = DecisionTreeRegressor()\n",
    "    #models['svm'] = SVR()\n",
    "    models['bag'] = BaggingRegressor(n_estimators=1000)\n",
    "    models['rf'] = RandomForestRegressor(n_estimators=1000)\n",
    "    models['stacking'] = get_stacking()\n",
    "    return models\n",
    "\n",
    "# evaluate a given model using cross-validation\n",
    "def evaluate_model(model, X, y):\n",
    "    cv = RepeatedKFold(n_splits=10, n_repeats=3, random_state=1)\n",
    "    scores = cross_val_score(model, X, y, scoring='neg_mean_absolute_error', cv=cv, n_jobs=-1, error_score='raise')\n",
    "    return scores\n",
    "\n",
    "# get the models to evaluate\n",
    "models = get_models()\n",
    "# evaluate the models and store results\n",
    "results, names = list(), list()\n",
    "for name, model in models.items():\n",
    "    scores = evaluate_model(model, X, y)\n",
    "    results.append(scores)\n",
    "    names.append(name)\n",
    "    print('>%s %.3f (%.3f)' % (name, mean(scores), std(scores)))"
   ]
  },
  {
   "cell_type": "markdown",
   "id": "1b103f73",
   "metadata": {},
   "source": [
    "Based on the mean absolute error (MAE) values from the optimal models, we can see that the **stacking** model does the best in predicting fitbit sleep scores with the following base models:\n",
    "- Linear regression\n",
    "- Bagging\n",
    "- Random forest\n",
    "\n",
    "This model has the lowest MAE = -1.344. The bagging model performs the next best (MAE = -1.504), closely followed by the random forest model (MAE = -1.507)"
   ]
  }
 ],
 "metadata": {
  "kernelspec": {
   "display_name": "Python 3 (ipykernel)",
   "language": "python",
   "name": "python3"
  },
  "language_info": {
   "codemirror_mode": {
    "name": "ipython",
    "version": 3
   },
   "file_extension": ".py",
   "mimetype": "text/x-python",
   "name": "python",
   "nbconvert_exporter": "python",
   "pygments_lexer": "ipython3",
   "version": "3.9.7"
  }
 },
 "nbformat": 4,
 "nbformat_minor": 5
}
